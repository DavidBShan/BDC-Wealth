{
 "cells": [
  {
   "cell_type": "code",
   "execution_count": 2,
   "metadata": {},
   "outputs": [
    {
     "name": "stdout",
     "output_type": "stream",
     "text": [
      "Requirement already satisfied: tensorflow in /Library/Frameworks/Python.framework/Versions/3.12/lib/python3.12/site-packages (2.18.0)\n",
      "Requirement already satisfied: absl-py>=1.0.0 in /Library/Frameworks/Python.framework/Versions/3.12/lib/python3.12/site-packages (from tensorflow) (2.1.0)\n",
      "Requirement already satisfied: astunparse>=1.6.0 in /Library/Frameworks/Python.framework/Versions/3.12/lib/python3.12/site-packages (from tensorflow) (1.6.3)\n",
      "Requirement already satisfied: flatbuffers>=24.3.25 in /Library/Frameworks/Python.framework/Versions/3.12/lib/python3.12/site-packages (from tensorflow) (24.12.23)\n",
      "Requirement already satisfied: gast!=0.5.0,!=0.5.1,!=0.5.2,>=0.2.1 in /Library/Frameworks/Python.framework/Versions/3.12/lib/python3.12/site-packages (from tensorflow) (0.6.0)\n",
      "Requirement already satisfied: google-pasta>=0.1.1 in /Library/Frameworks/Python.framework/Versions/3.12/lib/python3.12/site-packages (from tensorflow) (0.2.0)\n",
      "Requirement already satisfied: libclang>=13.0.0 in /Library/Frameworks/Python.framework/Versions/3.12/lib/python3.12/site-packages (from tensorflow) (18.1.1)\n",
      "Requirement already satisfied: opt-einsum>=2.3.2 in /Library/Frameworks/Python.framework/Versions/3.12/lib/python3.12/site-packages (from tensorflow) (3.4.0)\n",
      "Requirement already satisfied: packaging in /Users/davidshan/Library/Python/3.12/lib/python/site-packages (from tensorflow) (23.2)\n",
      "Requirement already satisfied: protobuf!=4.21.0,!=4.21.1,!=4.21.2,!=4.21.3,!=4.21.4,!=4.21.5,<6.0.0dev,>=3.20.3 in /Library/Frameworks/Python.framework/Versions/3.12/lib/python3.12/site-packages (from tensorflow) (4.25.3)\n",
      "Requirement already satisfied: requests<3,>=2.21.0 in /Library/Frameworks/Python.framework/Versions/3.12/lib/python3.12/site-packages (from tensorflow) (2.31.0)\n",
      "Requirement already satisfied: setuptools in /Users/davidshan/Library/Python/3.12/lib/python/site-packages (from tensorflow) (75.6.0)\n",
      "Requirement already satisfied: six>=1.12.0 in /Users/davidshan/Library/Python/3.12/lib/python/site-packages (from tensorflow) (1.16.0)\n",
      "Requirement already satisfied: termcolor>=1.1.0 in /Library/Frameworks/Python.framework/Versions/3.12/lib/python3.12/site-packages (from tensorflow) (2.5.0)\n",
      "Requirement already satisfied: typing-extensions>=3.6.6 in /Library/Frameworks/Python.framework/Versions/3.12/lib/python3.12/site-packages (from tensorflow) (4.9.0)\n",
      "Requirement already satisfied: wrapt>=1.11.0 in /Library/Frameworks/Python.framework/Versions/3.12/lib/python3.12/site-packages (from tensorflow) (1.17.0)\n",
      "Requirement already satisfied: grpcio<2.0,>=1.24.3 in /Library/Frameworks/Python.framework/Versions/3.12/lib/python3.12/site-packages (from tensorflow) (1.68.1)\n",
      "Requirement already satisfied: tensorboard<2.19,>=2.18 in /Library/Frameworks/Python.framework/Versions/3.12/lib/python3.12/site-packages (from tensorflow) (2.18.0)\n",
      "Requirement already satisfied: keras>=3.5.0 in /Library/Frameworks/Python.framework/Versions/3.12/lib/python3.12/site-packages (from tensorflow) (3.7.0)\n",
      "Requirement already satisfied: numpy<2.1.0,>=1.26.0 in /Users/davidshan/Library/Python/3.12/lib/python/site-packages (from tensorflow) (1.26.4)\n",
      "Requirement already satisfied: h5py>=3.11.0 in /Library/Frameworks/Python.framework/Versions/3.12/lib/python3.12/site-packages (from tensorflow) (3.12.1)\n",
      "Requirement already satisfied: ml-dtypes<0.5.0,>=0.4.0 in /Library/Frameworks/Python.framework/Versions/3.12/lib/python3.12/site-packages (from tensorflow) (0.4.1)\n",
      "Requirement already satisfied: wheel<1.0,>=0.23.0 in /Library/Frameworks/Python.framework/Versions/3.12/lib/python3.12/site-packages (from astunparse>=1.6.0->tensorflow) (0.45.1)\n",
      "Requirement already satisfied: rich in /Users/davidshan/Library/Python/3.12/lib/python/site-packages (from keras>=3.5.0->tensorflow) (13.7.0)\n",
      "Requirement already satisfied: namex in /Library/Frameworks/Python.framework/Versions/3.12/lib/python3.12/site-packages (from keras>=3.5.0->tensorflow) (0.0.8)\n",
      "Requirement already satisfied: optree in /Library/Frameworks/Python.framework/Versions/3.12/lib/python3.12/site-packages (from keras>=3.5.0->tensorflow) (0.13.1)\n",
      "Requirement already satisfied: charset-normalizer<4,>=2 in /Users/davidshan/Library/Python/3.12/lib/python/site-packages (from requests<3,>=2.21.0->tensorflow) (3.3.2)\n",
      "Requirement already satisfied: idna<4,>=2.5 in /Users/davidshan/Library/Python/3.12/lib/python/site-packages (from requests<3,>=2.21.0->tensorflow) (3.6)\n",
      "Requirement already satisfied: urllib3<3,>=1.21.1 in /Users/davidshan/Library/Python/3.12/lib/python/site-packages (from requests<3,>=2.21.0->tensorflow) (2.0.7)\n",
      "Requirement already satisfied: certifi>=2017.4.17 in /Users/davidshan/Library/Python/3.12/lib/python/site-packages (from requests<3,>=2.21.0->tensorflow) (2024.2.2)\n",
      "Requirement already satisfied: markdown>=2.6.8 in /Library/Frameworks/Python.framework/Versions/3.12/lib/python3.12/site-packages (from tensorboard<2.19,>=2.18->tensorflow) (3.7)\n",
      "Requirement already satisfied: tensorboard-data-server<0.8.0,>=0.7.0 in /Library/Frameworks/Python.framework/Versions/3.12/lib/python3.12/site-packages (from tensorboard<2.19,>=2.18->tensorflow) (0.7.2)\n",
      "Requirement already satisfied: werkzeug>=1.0.1 in /Library/Frameworks/Python.framework/Versions/3.12/lib/python3.12/site-packages (from tensorboard<2.19,>=2.18->tensorflow) (3.1.3)\n",
      "Requirement already satisfied: MarkupSafe>=2.1.1 in /Users/davidshan/Library/Python/3.12/lib/python/site-packages (from werkzeug>=1.0.1->tensorboard<2.19,>=2.18->tensorflow) (2.1.5)\n",
      "Requirement already satisfied: markdown-it-py>=2.2.0 in /Users/davidshan/Library/Python/3.12/lib/python/site-packages (from rich->keras>=3.5.0->tensorflow) (3.0.0)\n",
      "Requirement already satisfied: pygments<3.0.0,>=2.13.0 in /Users/davidshan/Library/Python/3.12/lib/python/site-packages (from rich->keras>=3.5.0->tensorflow) (2.17.2)\n",
      "Requirement already satisfied: mdurl~=0.1 in /Users/davidshan/Library/Python/3.12/lib/python/site-packages (from markdown-it-py>=2.2.0->rich->keras>=3.5.0->tensorflow) (0.1.2)\n"
     ]
    }
   ],
   "source": [
    "!pip3 install tensorflow"
   ]
  },
  {
   "cell_type": "code",
   "execution_count": 3,
   "metadata": {},
   "outputs": [],
   "source": [
    "import torch\n",
    "import torch.nn as nn\n",
    "import numpy as np\n",
    "import pandas as pd\n",
    "from sklearn.preprocessing import MinMaxScaler\n",
    "from torch.utils.data import Dataset, DataLoader\n",
    "import matplotlib.pyplot as plt\n"
   ]
  },
  {
   "cell_type": "code",
   "execution_count": 4,
   "metadata": {},
   "outputs": [],
   "source": [
    "class GDPPredictor(nn.Module):\n",
    "    def __init__(self, input_size=1, hidden_size=32, num_layers=2):\n",
    "        super(GDPPredictor, self).__init__()\n",
    "        self.hidden_size = hidden_size\n",
    "        self.num_layers = num_layers\n",
    "        \n",
    "        self.lstm = nn.LSTM(input_size, hidden_size, num_layers, batch_first=True)\n",
    "        self.fc = nn.Linear(hidden_size, 1)\n",
    "    \n",
    "    def forward(self, x):\n",
    "        h0 = torch.zeros(self.num_layers, x.size(0), self.hidden_size).to(x.device)\n",
    "        c0 = torch.zeros(self.num_layers, x.size(0), self.hidden_size).to(x.device)\n",
    "        \n",
    "        out, _ = self.lstm(x, (h0, c0))\n",
    "        out = self.fc(out[:, -1, :])\n",
    "        return out"
   ]
  },
  {
   "cell_type": "code",
   "execution_count": 5,
   "metadata": {},
   "outputs": [],
   "source": [
    "def prepare_country_data(country_data, sequence_length=5):\n",
    "    # Scale the data\n",
    "    scaler = MinMaxScaler()\n",
    "    scaled_data = scaler.fit_transform(country_data.reshape(-1, 1))\n",
    "    \n",
    "    # Create sequences\n",
    "    X, y = [], []\n",
    "    for i in range(len(scaled_data) - sequence_length):\n",
    "        X.append(scaled_data[i:(i + sequence_length)])\n",
    "        y.append(scaled_data[i + sequence_length])\n",
    "    \n",
    "    return np.array(X), np.array(y), scaler\n"
   ]
  },
  {
   "cell_type": "code",
   "execution_count": 6,
   "metadata": {},
   "outputs": [],
   "source": [
    "def train_model(X, y, epochs=200):\n",
    "    # Create dataset and dataloader\n",
    "    X_tensor = torch.FloatTensor(X)\n",
    "    y_tensor = torch.FloatTensor(y)\n",
    "    dataset = torch.utils.data.TensorDataset(X_tensor, y_tensor)\n",
    "    train_loader = DataLoader(dataset, batch_size=8, shuffle=True)\n",
    "    \n",
    "    # Initialize model\n",
    "    model = GDPPredictor(input_size=1)\n",
    "    criterion = nn.MSELoss()\n",
    "    optimizer = torch.optim.Adam(model.parameters(), lr=0.001)\n",
    "    \n",
    "    # Training\n",
    "    for epoch in range(epochs):\n",
    "        model.train()\n",
    "        total_loss = 0\n",
    "        for batch_X, batch_y in train_loader:\n",
    "            optimizer.zero_grad()\n",
    "            outputs = model(batch_X)\n",
    "            loss = criterion(outputs, batch_y)\n",
    "            loss.backward()\n",
    "            optimizer.step()\n",
    "            total_loss += loss.item()\n",
    "            \n",
    "        if (epoch + 1) % 50 == 0:\n",
    "            print(f'Epoch [{epoch+1}/{epochs}], Loss: {total_loss/len(train_loader):.4f}')\n",
    "    \n",
    "    return model"
   ]
  },
  {
   "cell_type": "code",
   "execution_count": 7,
   "metadata": {},
   "outputs": [],
   "source": [
    "def predict_future(model, last_sequence, scaler, n_future=5):\n",
    "    model.eval()\n",
    "    current_sequence = last_sequence.copy()\n",
    "    predictions = []\n",
    "    \n",
    "    with torch.no_grad():\n",
    "        for _ in range(n_future):\n",
    "            sequence = torch.FloatTensor(current_sequence).unsqueeze(0)\n",
    "            pred = model(sequence)\n",
    "            predictions.append(pred.numpy())\n",
    "            current_sequence = np.vstack((current_sequence[1:], pred.numpy()))\n",
    "    \n",
    "    predictions = np.array(predictions).reshape(-1, 1)\n",
    "    predictions = scaler.inverse_transform(predictions)\n",
    "    \n",
    "    return predictions.flatten()\n"
   ]
  },
  {
   "cell_type": "code",
   "execution_count": 9,
   "metadata": {},
   "outputs": [
    {
     "data": {
      "text/html": [
       "<div>\n",
       "<style scoped>\n",
       "    .dataframe tbody tr th:only-of-type {\n",
       "        vertical-align: middle;\n",
       "    }\n",
       "\n",
       "    .dataframe tbody tr th {\n",
       "        vertical-align: top;\n",
       "    }\n",
       "\n",
       "    .dataframe thead th {\n",
       "        text-align: right;\n",
       "    }\n",
       "</style>\n",
       "<table border=\"1\" class=\"dataframe\">\n",
       "  <thead>\n",
       "    <tr style=\"text-align: right;\">\n",
       "      <th></th>\n",
       "      <th>entity</th>\n",
       "      <th>code</th>\n",
       "      <th>GDP per Capita 1990</th>\n",
       "      <th>GDP per Capita 1991</th>\n",
       "      <th>GDP per Capita 1992</th>\n",
       "      <th>GDP per Capita 1993</th>\n",
       "      <th>GDP per Capita 1994</th>\n",
       "      <th>GDP per Capita 1995</th>\n",
       "      <th>GDP per Capita 1996</th>\n",
       "      <th>GDP per Capita 1997</th>\n",
       "      <th>...</th>\n",
       "      <th>GDP per Capita 2014</th>\n",
       "      <th>GDP per Capita 2015</th>\n",
       "      <th>GDP per Capita 2016</th>\n",
       "      <th>GDP per Capita 2017</th>\n",
       "      <th>GDP per Capita 2018</th>\n",
       "      <th>GDP per Capita 2019</th>\n",
       "      <th>GDP per Capita 2020</th>\n",
       "      <th>GDP per Capita 2021</th>\n",
       "      <th>GDP per Capita 2022</th>\n",
       "      <th>GDP per Capita 2023</th>\n",
       "    </tr>\n",
       "  </thead>\n",
       "  <tbody>\n",
       "    <tr>\n",
       "      <th>0</th>\n",
       "      <td>Afghanistan</td>\n",
       "      <td>AFG</td>\n",
       "      <td>1606.29646776458</td>\n",
       "      <td>1163.49159838489</td>\n",
       "      <td>1086.4387714304</td>\n",
       "      <td>1197.58090750054</td>\n",
       "      <td>1305.00106057165</td>\n",
       "      <td>1488.02088119627</td>\n",
       "      <td>1633.55200001885</td>\n",
       "      <td>1464.29796254199</td>\n",
       "      <td>...</td>\n",
       "      <td>575.146245808546</td>\n",
       "      <td>565.569730408751</td>\n",
       "      <td>563.872336723147</td>\n",
       "      <td>562.769574140988</td>\n",
       "      <td>553.125151688293</td>\n",
       "      <td>557.861533207459</td>\n",
       "      <td>527.834554499306</td>\n",
       "      <td>408.625855217403</td>\n",
       "      <td>377.665627080705</td>\n",
       "      <td>379.707497269884</td>\n",
       "    </tr>\n",
       "    <tr>\n",
       "      <th>1</th>\n",
       "      <td>Albania</td>\n",
       "      <td>ALB</td>\n",
       "      <td>1606.29646776458</td>\n",
       "      <td>1163.49159838489</td>\n",
       "      <td>1086.4387714304</td>\n",
       "      <td>1197.58090750054</td>\n",
       "      <td>1305.00106057165</td>\n",
       "      <td>1488.02088119627</td>\n",
       "      <td>1633.55200001885</td>\n",
       "      <td>1464.29796254199</td>\n",
       "      <td>...</td>\n",
       "      <td>3855.76074409659</td>\n",
       "      <td>3952.80357364813</td>\n",
       "      <td>4090.37272829183</td>\n",
       "      <td>4249.8200493985</td>\n",
       "      <td>4431.55559506989</td>\n",
       "      <td>4542.26866282892</td>\n",
       "      <td>4417.04105105395</td>\n",
       "      <td>4858.05201500931</td>\n",
       "      <td>5154.8274975368</td>\n",
       "      <td>5419.63779125273</td>\n",
       "    </tr>\n",
       "    <tr>\n",
       "      <th>2</th>\n",
       "      <td>Algeria</td>\n",
       "      <td>DZA</td>\n",
       "      <td>3605.68701213527</td>\n",
       "      <td>3478.5097627463</td>\n",
       "      <td>3455.9293629926</td>\n",
       "      <td>3302.91950571082</td>\n",
       "      <td>3201.56914405705</td>\n",
       "      <td>3255.187268716</td>\n",
       "      <td>3322.9553813945</td>\n",
       "      <td>3297.46603365919</td>\n",
       "      <td>...</td>\n",
       "      <td>4634.10149183949</td>\n",
       "      <td>4685.05902729002</td>\n",
       "      <td>4768.73140080218</td>\n",
       "      <td>4742.90075536604</td>\n",
       "      <td>4717.00358853556</td>\n",
       "      <td>4672.66408682198</td>\n",
       "      <td>4363.68533766912</td>\n",
       "      <td>4456.74687641147</td>\n",
       "      <td>4544.46688059647</td>\n",
       "      <td>4660.40545686886</td>\n",
       "    </tr>\n",
       "    <tr>\n",
       "      <th>3</th>\n",
       "      <td>American Samoa</td>\n",
       "      <td>ASM</td>\n",
       "      <td>3605.68701213527</td>\n",
       "      <td>3478.5097627463</td>\n",
       "      <td>3455.9293629926</td>\n",
       "      <td>3302.91950571082</td>\n",
       "      <td>3201.56914405705</td>\n",
       "      <td>3255.187268716</td>\n",
       "      <td>3322.9553813945</td>\n",
       "      <td>3297.46603365919</td>\n",
       "      <td>...</td>\n",
       "      <td>12203.0894714284</td>\n",
       "      <td>12727.4102651386</td>\n",
       "      <td>12665.2829921268</td>\n",
       "      <td>11930.7771236826</td>\n",
       "      <td>12412.6024074562</td>\n",
       "      <td>12524.0160252283</td>\n",
       "      <td>13194.274740128</td>\n",
       "      <td>13233.5784817341</td>\n",
       "      <td>13709.0974895473</td>\n",
       "      <td>4660.40545686886</td>\n",
       "    </tr>\n",
       "    <tr>\n",
       "      <th>4</th>\n",
       "      <td>Andorra</td>\n",
       "      <td>AND</td>\n",
       "      <td>31143.1468745802</td>\n",
       "      <td>29642.305980666</td>\n",
       "      <td>28161.9424927346</td>\n",
       "      <td>26518.2336327363</td>\n",
       "      <td>26587.1383037195</td>\n",
       "      <td>27619.5060608184</td>\n",
       "      <td>28871.2160741757</td>\n",
       "      <td>31140.6896808445</td>\n",
       "      <td>...</td>\n",
       "      <td>37300.6244183478</td>\n",
       "      <td>38654.9347203095</td>\n",
       "      <td>40085.0205971586</td>\n",
       "      <td>39361.0622634329</td>\n",
       "      <td>39242.1448960772</td>\n",
       "      <td>39346.2750344286</td>\n",
       "      <td>34536.6499209948</td>\n",
       "      <td>36929.0191515162</td>\n",
       "      <td>39780.3966116268</td>\n",
       "      <td>40227.2335282714</td>\n",
       "    </tr>\n",
       "  </tbody>\n",
       "</table>\n",
       "<p>5 rows × 36 columns</p>\n",
       "</div>"
      ],
      "text/plain": [
       "           entity code GDP per Capita 1990 GDP per Capita 1991  \\\n",
       "0     Afghanistan  AFG    1606.29646776458    1163.49159838489   \n",
       "1         Albania  ALB    1606.29646776458    1163.49159838489   \n",
       "2         Algeria  DZA    3605.68701213527     3478.5097627463   \n",
       "3  American Samoa  ASM    3605.68701213527     3478.5097627463   \n",
       "4         Andorra  AND    31143.1468745802     29642.305980666   \n",
       "\n",
       "  GDP per Capita 1992 GDP per Capita 1993 GDP per Capita 1994  \\\n",
       "0     1086.4387714304    1197.58090750054    1305.00106057165   \n",
       "1     1086.4387714304    1197.58090750054    1305.00106057165   \n",
       "2     3455.9293629926    3302.91950571082    3201.56914405705   \n",
       "3     3455.9293629926    3302.91950571082    3201.56914405705   \n",
       "4    28161.9424927346    26518.2336327363    26587.1383037195   \n",
       "\n",
       "  GDP per Capita 1995 GDP per Capita 1996 GDP per Capita 1997  ...  \\\n",
       "0    1488.02088119627    1633.55200001885    1464.29796254199  ...   \n",
       "1    1488.02088119627    1633.55200001885    1464.29796254199  ...   \n",
       "2      3255.187268716     3322.9553813945    3297.46603365919  ...   \n",
       "3      3255.187268716     3322.9553813945    3297.46603365919  ...   \n",
       "4    27619.5060608184    28871.2160741757    31140.6896808445  ...   \n",
       "\n",
       "  GDP per Capita 2014 GDP per Capita 2015 GDP per Capita 2016  \\\n",
       "0    575.146245808546    565.569730408751    563.872336723147   \n",
       "1    3855.76074409659    3952.80357364813    4090.37272829183   \n",
       "2    4634.10149183949    4685.05902729002    4768.73140080218   \n",
       "3    12203.0894714284    12727.4102651386    12665.2829921268   \n",
       "4    37300.6244183478    38654.9347203095    40085.0205971586   \n",
       "\n",
       "  GDP per Capita 2017 GDP per Capita 2018 GDP per Capita 2019  \\\n",
       "0    562.769574140988    553.125151688293    557.861533207459   \n",
       "1     4249.8200493985    4431.55559506989    4542.26866282892   \n",
       "2    4742.90075536604    4717.00358853556    4672.66408682198   \n",
       "3    11930.7771236826    12412.6024074562    12524.0160252283   \n",
       "4    39361.0622634329    39242.1448960772    39346.2750344286   \n",
       "\n",
       "  GDP per Capita 2020 GDP per Capita 2021 GDP per Capita 2022  \\\n",
       "0    527.834554499306    408.625855217403    377.665627080705   \n",
       "1    4417.04105105395    4858.05201500931     5154.8274975368   \n",
       "2    4363.68533766912    4456.74687641147    4544.46688059647   \n",
       "3     13194.274740128    13233.5784817341    13709.0974895473   \n",
       "4    34536.6499209948    36929.0191515162    39780.3966116268   \n",
       "\n",
       "  GDP per Capita 2023  \n",
       "0    379.707497269884  \n",
       "1    5419.63779125273  \n",
       "2    4660.40545686886  \n",
       "3    4660.40545686886  \n",
       "4    40227.2335282714  \n",
       "\n",
       "[5 rows x 36 columns]"
      ]
     },
     "execution_count": 9,
     "metadata": {},
     "output_type": "execute_result"
    }
   ],
   "source": [
    "df = pd.read_csv('../datasets/GDP.csv')\n",
    "df.replace(\"..\", pd.NA, inplace=True)\n",
    "# Forward fill first, then backward fill to handle any remaining NAs at the start\n",
    "df = df.ffill().bfill()\n",
    "df.head()"
   ]
  },
  {
   "cell_type": "code",
   "execution_count": 10,
   "metadata": {},
   "outputs": [],
   "source": [
    "gdp_cols = [col for col in df.columns if 'GDP per Capita' in col]\n",
    "    \n",
    "sequence_length = 5\n",
    "predictions_by_country = {}\n",
    "selected_countries = ['United States', 'China', 'Japan', 'Germany', 'United Kingdom']"
   ]
  },
  {
   "cell_type": "code",
   "execution_count": 11,
   "metadata": {},
   "outputs": [
    {
     "name": "stdout",
     "output_type": "stream",
     "text": [
      "\n",
      "Training model for Afghanistan\n"
     ]
    },
    {
     "name": "stderr",
     "output_type": "stream",
     "text": [
      "/var/folders/31/w2zt100d46vbd05gsww_hqj00000gn/T/ipykernel_72576/1759004401.py:8: FutureWarning: Series.fillna with 'method' is deprecated and will raise in a future version. Use obj.ffill() or obj.bfill() instead.\n",
      "  country_data = pd.Series(country_data).replace('..', np.nan).fillna(method='ffill').values\n"
     ]
    },
    {
     "name": "stdout",
     "output_type": "stream",
     "text": [
      "Epoch [50/200], Loss: 0.0479\n",
      "Epoch [100/200], Loss: 0.0321\n",
      "Epoch [150/200], Loss: 0.0192\n",
      "Epoch [200/200], Loss: 0.0132\n",
      "\n",
      "Training model for Albania\n"
     ]
    },
    {
     "name": "stderr",
     "output_type": "stream",
     "text": [
      "/var/folders/31/w2zt100d46vbd05gsww_hqj00000gn/T/ipykernel_72576/1759004401.py:8: FutureWarning: Series.fillna with 'method' is deprecated and will raise in a future version. Use obj.ffill() or obj.bfill() instead.\n",
      "  country_data = pd.Series(country_data).replace('..', np.nan).fillna(method='ffill').values\n"
     ]
    },
    {
     "name": "stdout",
     "output_type": "stream",
     "text": [
      "Epoch [50/200], Loss: 0.0023\n",
      "Epoch [100/200], Loss: 0.0017\n",
      "Epoch [150/200], Loss: 0.0014\n",
      "Epoch [200/200], Loss: 0.0016\n",
      "\n",
      "Training model for Algeria\n"
     ]
    },
    {
     "name": "stderr",
     "output_type": "stream",
     "text": [
      "/var/folders/31/w2zt100d46vbd05gsww_hqj00000gn/T/ipykernel_72576/1759004401.py:8: FutureWarning: Series.fillna with 'method' is deprecated and will raise in a future version. Use obj.ffill() or obj.bfill() instead.\n",
      "  country_data = pd.Series(country_data).replace('..', np.nan).fillna(method='ffill').values\n"
     ]
    },
    {
     "name": "stdout",
     "output_type": "stream",
     "text": [
      "Epoch [50/200], Loss: 0.0129\n",
      "Epoch [100/200], Loss: 0.0083\n",
      "Epoch [150/200], Loss: 0.0051\n",
      "Epoch [200/200], Loss: 0.0031\n",
      "\n",
      "Training model for American Samoa\n"
     ]
    },
    {
     "name": "stderr",
     "output_type": "stream",
     "text": [
      "/var/folders/31/w2zt100d46vbd05gsww_hqj00000gn/T/ipykernel_72576/1759004401.py:8: FutureWarning: Series.fillna with 'method' is deprecated and will raise in a future version. Use obj.ffill() or obj.bfill() instead.\n",
      "  country_data = pd.Series(country_data).replace('..', np.nan).fillna(method='ffill').values\n"
     ]
    },
    {
     "name": "stdout",
     "output_type": "stream",
     "text": [
      "Epoch [50/200], Loss: 0.0805\n",
      "Epoch [100/200], Loss: 0.0666\n",
      "Epoch [150/200], Loss: 0.0473\n",
      "Epoch [200/200], Loss: 0.0415\n",
      "\n",
      "Training model for Andorra\n"
     ]
    },
    {
     "name": "stderr",
     "output_type": "stream",
     "text": [
      "/var/folders/31/w2zt100d46vbd05gsww_hqj00000gn/T/ipykernel_72576/1759004401.py:8: FutureWarning: Series.fillna with 'method' is deprecated and will raise in a future version. Use obj.ffill() or obj.bfill() instead.\n",
      "  country_data = pd.Series(country_data).replace('..', np.nan).fillna(method='ffill').values\n"
     ]
    },
    {
     "name": "stdout",
     "output_type": "stream",
     "text": [
      "Epoch [50/200], Loss: 0.0276\n",
      "Epoch [100/200], Loss: 0.0179\n",
      "Epoch [150/200], Loss: 0.0110\n",
      "Epoch [200/200], Loss: 0.0099\n",
      "\n",
      "Training model for Angola\n"
     ]
    },
    {
     "name": "stderr",
     "output_type": "stream",
     "text": [
      "/var/folders/31/w2zt100d46vbd05gsww_hqj00000gn/T/ipykernel_72576/1759004401.py:8: FutureWarning: Series.fillna with 'method' is deprecated and will raise in a future version. Use obj.ffill() or obj.bfill() instead.\n",
      "  country_data = pd.Series(country_data).replace('..', np.nan).fillna(method='ffill').values\n"
     ]
    },
    {
     "name": "stdout",
     "output_type": "stream",
     "text": [
      "Epoch [50/200], Loss: 0.0234\n",
      "Epoch [100/200], Loss: 0.0060\n",
      "Epoch [150/200], Loss: 0.0043\n",
      "Epoch [200/200], Loss: 0.0042\n",
      "\n",
      "Training model for Antigua and Barbuda\n",
      "Epoch [50/200], Loss: 0.0445\n"
     ]
    },
    {
     "name": "stderr",
     "output_type": "stream",
     "text": [
      "/var/folders/31/w2zt100d46vbd05gsww_hqj00000gn/T/ipykernel_72576/1759004401.py:8: FutureWarning: Series.fillna with 'method' is deprecated and will raise in a future version. Use obj.ffill() or obj.bfill() instead.\n",
      "  country_data = pd.Series(country_data).replace('..', np.nan).fillna(method='ffill').values\n"
     ]
    },
    {
     "name": "stdout",
     "output_type": "stream",
     "text": [
      "Epoch [100/200], Loss: 0.0260\n",
      "Epoch [150/200], Loss: 0.0145\n",
      "Epoch [200/200], Loss: 0.0139\n",
      "\n",
      "Training model for Argentina\n"
     ]
    },
    {
     "name": "stderr",
     "output_type": "stream",
     "text": [
      "/var/folders/31/w2zt100d46vbd05gsww_hqj00000gn/T/ipykernel_72576/1759004401.py:8: FutureWarning: Series.fillna with 'method' is deprecated and will raise in a future version. Use obj.ffill() or obj.bfill() instead.\n",
      "  country_data = pd.Series(country_data).replace('..', np.nan).fillna(method='ffill').values\n"
     ]
    },
    {
     "name": "stdout",
     "output_type": "stream",
     "text": [
      "Epoch [50/200], Loss: 0.0283\n",
      "Epoch [100/200], Loss: 0.0207\n",
      "Epoch [150/200], Loss: 0.0142\n",
      "Epoch [200/200], Loss: 0.0128\n",
      "\n",
      "Training model for Armenia\n"
     ]
    },
    {
     "name": "stderr",
     "output_type": "stream",
     "text": [
      "/var/folders/31/w2zt100d46vbd05gsww_hqj00000gn/T/ipykernel_72576/1759004401.py:8: FutureWarning: Series.fillna with 'method' is deprecated and will raise in a future version. Use obj.ffill() or obj.bfill() instead.\n",
      "  country_data = pd.Series(country_data).replace('..', np.nan).fillna(method='ffill').values\n"
     ]
    },
    {
     "name": "stdout",
     "output_type": "stream",
     "text": [
      "Epoch [50/200], Loss: 0.0046\n",
      "Epoch [100/200], Loss: 0.0045\n",
      "Epoch [150/200], Loss: 0.0035\n",
      "Epoch [200/200], Loss: 0.0030\n",
      "\n",
      "Training model for Aruba\n"
     ]
    },
    {
     "name": "stderr",
     "output_type": "stream",
     "text": [
      "/var/folders/31/w2zt100d46vbd05gsww_hqj00000gn/T/ipykernel_72576/1759004401.py:8: FutureWarning: Series.fillna with 'method' is deprecated and will raise in a future version. Use obj.ffill() or obj.bfill() instead.\n",
      "  country_data = pd.Series(country_data).replace('..', np.nan).fillna(method='ffill').values\n"
     ]
    },
    {
     "name": "stdout",
     "output_type": "stream",
     "text": [
      "Epoch [50/200], Loss: 0.0383\n",
      "Epoch [100/200], Loss: 0.0357\n",
      "Epoch [150/200], Loss: 0.0345\n",
      "Epoch [200/200], Loss: 0.0357\n",
      "\n",
      "Training model for Australia\n"
     ]
    },
    {
     "name": "stderr",
     "output_type": "stream",
     "text": [
      "/var/folders/31/w2zt100d46vbd05gsww_hqj00000gn/T/ipykernel_72576/1759004401.py:8: FutureWarning: Series.fillna with 'method' is deprecated and will raise in a future version. Use obj.ffill() or obj.bfill() instead.\n",
      "  country_data = pd.Series(country_data).replace('..', np.nan).fillna(method='ffill').values\n"
     ]
    },
    {
     "name": "stdout",
     "output_type": "stream",
     "text": [
      "Epoch [50/200], Loss: 0.0016\n",
      "Epoch [100/200], Loss: 0.0007\n",
      "Epoch [150/200], Loss: 0.0008\n",
      "Epoch [200/200], Loss: 0.0007\n",
      "\n",
      "Training model for Austria\n"
     ]
    },
    {
     "name": "stderr",
     "output_type": "stream",
     "text": [
      "/var/folders/31/w2zt100d46vbd05gsww_hqj00000gn/T/ipykernel_72576/1759004401.py:8: FutureWarning: Series.fillna with 'method' is deprecated and will raise in a future version. Use obj.ffill() or obj.bfill() instead.\n",
      "  country_data = pd.Series(country_data).replace('..', np.nan).fillna(method='ffill').values\n"
     ]
    },
    {
     "name": "stdout",
     "output_type": "stream",
     "text": [
      "Epoch [50/200], Loss: 0.0039\n",
      "Epoch [100/200], Loss: 0.0035\n",
      "Epoch [150/200], Loss: 0.0031\n",
      "Epoch [200/200], Loss: 0.0030\n",
      "\n",
      "Training model for Azerbaijan\n"
     ]
    },
    {
     "name": "stderr",
     "output_type": "stream",
     "text": [
      "/var/folders/31/w2zt100d46vbd05gsww_hqj00000gn/T/ipykernel_72576/1759004401.py:8: FutureWarning: Series.fillna with 'method' is deprecated and will raise in a future version. Use obj.ffill() or obj.bfill() instead.\n",
      "  country_data = pd.Series(country_data).replace('..', np.nan).fillna(method='ffill').values\n"
     ]
    },
    {
     "name": "stdout",
     "output_type": "stream",
     "text": [
      "Epoch [50/200], Loss: 0.0216\n",
      "Epoch [100/200], Loss: 0.0021\n",
      "Epoch [150/200], Loss: 0.0018\n",
      "Epoch [200/200], Loss: 0.0017\n",
      "\n",
      "Training model for Bahamas, The\n"
     ]
    },
    {
     "name": "stderr",
     "output_type": "stream",
     "text": [
      "/var/folders/31/w2zt100d46vbd05gsww_hqj00000gn/T/ipykernel_72576/1759004401.py:8: FutureWarning: Series.fillna with 'method' is deprecated and will raise in a future version. Use obj.ffill() or obj.bfill() instead.\n",
      "  country_data = pd.Series(country_data).replace('..', np.nan).fillna(method='ffill').values\n"
     ]
    },
    {
     "name": "stdout",
     "output_type": "stream",
     "text": [
      "Epoch [50/200], Loss: 0.0346\n",
      "Epoch [100/200], Loss: 0.0322\n",
      "Epoch [150/200], Loss: 0.0295\n",
      "Epoch [200/200], Loss: 0.0364\n",
      "\n",
      "Training model for Bahrain\n"
     ]
    },
    {
     "name": "stderr",
     "output_type": "stream",
     "text": [
      "/var/folders/31/w2zt100d46vbd05gsww_hqj00000gn/T/ipykernel_72576/1759004401.py:8: FutureWarning: Series.fillna with 'method' is deprecated and will raise in a future version. Use obj.ffill() or obj.bfill() instead.\n",
      "  country_data = pd.Series(country_data).replace('..', np.nan).fillna(method='ffill').values\n"
     ]
    },
    {
     "name": "stdout",
     "output_type": "stream",
     "text": [
      "Epoch [50/200], Loss: 0.0118\n",
      "Epoch [100/200], Loss: 0.0107\n",
      "Epoch [150/200], Loss: 0.0114\n",
      "Epoch [200/200], Loss: 0.0097\n",
      "\n",
      "Training model for Bangladesh\n"
     ]
    },
    {
     "name": "stderr",
     "output_type": "stream",
     "text": [
      "/var/folders/31/w2zt100d46vbd05gsww_hqj00000gn/T/ipykernel_72576/1759004401.py:8: FutureWarning: Series.fillna with 'method' is deprecated and will raise in a future version. Use obj.ffill() or obj.bfill() instead.\n",
      "  country_data = pd.Series(country_data).replace('..', np.nan).fillna(method='ffill').values\n"
     ]
    },
    {
     "name": "stdout",
     "output_type": "stream",
     "text": [
      "Epoch [50/200], Loss: 0.0007\n",
      "Epoch [100/200], Loss: 0.0001\n",
      "Epoch [150/200], Loss: 0.0001\n",
      "Epoch [200/200], Loss: 0.0001\n",
      "\n",
      "Training model for Barbados\n"
     ]
    },
    {
     "name": "stderr",
     "output_type": "stream",
     "text": [
      "/var/folders/31/w2zt100d46vbd05gsww_hqj00000gn/T/ipykernel_72576/1759004401.py:8: FutureWarning: Series.fillna with 'method' is deprecated and will raise in a future version. Use obj.ffill() or obj.bfill() instead.\n",
      "  country_data = pd.Series(country_data).replace('..', np.nan).fillna(method='ffill').values\n"
     ]
    },
    {
     "name": "stdout",
     "output_type": "stream",
     "text": [
      "Epoch [50/200], Loss: 0.0334\n",
      "Epoch [100/200], Loss: 0.0353\n",
      "Epoch [150/200], Loss: 0.0220\n",
      "Epoch [200/200], Loss: 0.0160\n",
      "\n",
      "Training model for Belarus\n"
     ]
    },
    {
     "name": "stderr",
     "output_type": "stream",
     "text": [
      "/var/folders/31/w2zt100d46vbd05gsww_hqj00000gn/T/ipykernel_72576/1759004401.py:8: FutureWarning: Series.fillna with 'method' is deprecated and will raise in a future version. Use obj.ffill() or obj.bfill() instead.\n",
      "  country_data = pd.Series(country_data).replace('..', np.nan).fillna(method='ffill').values\n"
     ]
    },
    {
     "name": "stdout",
     "output_type": "stream",
     "text": [
      "Epoch [50/200], Loss: 0.0115\n",
      "Epoch [100/200], Loss: 0.0057\n",
      "Epoch [150/200], Loss: 0.0033\n",
      "Epoch [200/200], Loss: 0.0022\n",
      "\n",
      "Training model for Belgium\n"
     ]
    },
    {
     "name": "stderr",
     "output_type": "stream",
     "text": [
      "/var/folders/31/w2zt100d46vbd05gsww_hqj00000gn/T/ipykernel_72576/1759004401.py:8: FutureWarning: Series.fillna with 'method' is deprecated and will raise in a future version. Use obj.ffill() or obj.bfill() instead.\n",
      "  country_data = pd.Series(country_data).replace('..', np.nan).fillna(method='ffill').values\n"
     ]
    },
    {
     "name": "stdout",
     "output_type": "stream",
     "text": [
      "Epoch [50/200], Loss: 0.0040\n",
      "Epoch [100/200], Loss: 0.0042\n",
      "Epoch [150/200], Loss: 0.0035\n",
      "Epoch [200/200], Loss: 0.0036\n",
      "\n",
      "Training model for Belize\n"
     ]
    },
    {
     "name": "stderr",
     "output_type": "stream",
     "text": [
      "/var/folders/31/w2zt100d46vbd05gsww_hqj00000gn/T/ipykernel_72576/1759004401.py:8: FutureWarning: Series.fillna with 'method' is deprecated and will raise in a future version. Use obj.ffill() or obj.bfill() instead.\n",
      "  country_data = pd.Series(country_data).replace('..', np.nan).fillna(method='ffill').values\n"
     ]
    },
    {
     "name": "stdout",
     "output_type": "stream",
     "text": [
      "Epoch [50/200], Loss: 0.0261\n",
      "Epoch [100/200], Loss: 0.0236\n",
      "Epoch [150/200], Loss: 0.0222\n",
      "Epoch [200/200], Loss: 0.0172\n",
      "\n",
      "Training model for Benin\n"
     ]
    },
    {
     "name": "stderr",
     "output_type": "stream",
     "text": [
      "/var/folders/31/w2zt100d46vbd05gsww_hqj00000gn/T/ipykernel_72576/1759004401.py:8: FutureWarning: Series.fillna with 'method' is deprecated and will raise in a future version. Use obj.ffill() or obj.bfill() instead.\n",
      "  country_data = pd.Series(country_data).replace('..', np.nan).fillna(method='ffill').values\n"
     ]
    },
    {
     "name": "stdout",
     "output_type": "stream",
     "text": [
      "Epoch [50/200], Loss: 0.0013\n",
      "Epoch [100/200], Loss: 0.0012\n",
      "Epoch [150/200], Loss: 0.0012\n",
      "Epoch [200/200], Loss: 0.0016\n",
      "\n",
      "Training model for Bermuda\n",
      "Epoch [50/200], Loss: 0.0248\n"
     ]
    },
    {
     "name": "stderr",
     "output_type": "stream",
     "text": [
      "/var/folders/31/w2zt100d46vbd05gsww_hqj00000gn/T/ipykernel_72576/1759004401.py:8: FutureWarning: Series.fillna with 'method' is deprecated and will raise in a future version. Use obj.ffill() or obj.bfill() instead.\n",
      "  country_data = pd.Series(country_data).replace('..', np.nan).fillna(method='ffill').values\n"
     ]
    },
    {
     "name": "stdout",
     "output_type": "stream",
     "text": [
      "Epoch [100/200], Loss: 0.0096\n",
      "Epoch [150/200], Loss: 0.0065\n",
      "Epoch [200/200], Loss: 0.0055\n",
      "\n",
      "Training model for Bhutan\n"
     ]
    },
    {
     "name": "stderr",
     "output_type": "stream",
     "text": [
      "/var/folders/31/w2zt100d46vbd05gsww_hqj00000gn/T/ipykernel_72576/1759004401.py:8: FutureWarning: Series.fillna with 'method' is deprecated and will raise in a future version. Use obj.ffill() or obj.bfill() instead.\n",
      "  country_data = pd.Series(country_data).replace('..', np.nan).fillna(method='ffill').values\n"
     ]
    },
    {
     "name": "stdout",
     "output_type": "stream",
     "text": [
      "Epoch [50/200], Loss: 0.0295\n",
      "Epoch [100/200], Loss: 0.0470\n",
      "Epoch [150/200], Loss: 0.0301\n",
      "Epoch [200/200], Loss: 0.0273\n",
      "\n",
      "Training model for Bolivia\n"
     ]
    },
    {
     "name": "stderr",
     "output_type": "stream",
     "text": [
      "/var/folders/31/w2zt100d46vbd05gsww_hqj00000gn/T/ipykernel_72576/1759004401.py:8: FutureWarning: Series.fillna with 'method' is deprecated and will raise in a future version. Use obj.ffill() or obj.bfill() instead.\n",
      "  country_data = pd.Series(country_data).replace('..', np.nan).fillna(method='ffill').values\n"
     ]
    },
    {
     "name": "stdout",
     "output_type": "stream",
     "text": [
      "Epoch [50/200], Loss: 0.0062\n",
      "Epoch [100/200], Loss: 0.0033\n",
      "Epoch [150/200], Loss: 0.0030\n",
      "Epoch [200/200], Loss: 0.0025\n",
      "\n",
      "Training model for Bosnia and Herzegovina\n"
     ]
    },
    {
     "name": "stderr",
     "output_type": "stream",
     "text": [
      "/var/folders/31/w2zt100d46vbd05gsww_hqj00000gn/T/ipykernel_72576/1759004401.py:8: FutureWarning: Series.fillna with 'method' is deprecated and will raise in a future version. Use obj.ffill() or obj.bfill() instead.\n",
      "  country_data = pd.Series(country_data).replace('..', np.nan).fillna(method='ffill').values\n"
     ]
    },
    {
     "name": "stdout",
     "output_type": "stream",
     "text": [
      "Epoch [50/200], Loss: 0.0017\n",
      "Epoch [100/200], Loss: 0.0013\n",
      "Epoch [150/200], Loss: 0.0012\n",
      "Epoch [200/200], Loss: 0.0012\n",
      "\n",
      "Training model for Botswana\n"
     ]
    },
    {
     "name": "stderr",
     "output_type": "stream",
     "text": [
      "/var/folders/31/w2zt100d46vbd05gsww_hqj00000gn/T/ipykernel_72576/1759004401.py:8: FutureWarning: Series.fillna with 'method' is deprecated and will raise in a future version. Use obj.ffill() or obj.bfill() instead.\n",
      "  country_data = pd.Series(country_data).replace('..', np.nan).fillna(method='ffill').values\n"
     ]
    },
    {
     "name": "stdout",
     "output_type": "stream",
     "text": [
      "Epoch [50/200], Loss: 0.0098\n",
      "Epoch [100/200], Loss: 0.0095\n",
      "Epoch [150/200], Loss: 0.0088\n",
      "Epoch [200/200], Loss: 0.0105\n",
      "\n",
      "Training model for Brazil\n"
     ]
    },
    {
     "name": "stderr",
     "output_type": "stream",
     "text": [
      "/var/folders/31/w2zt100d46vbd05gsww_hqj00000gn/T/ipykernel_72576/1759004401.py:8: FutureWarning: Series.fillna with 'method' is deprecated and will raise in a future version. Use obj.ffill() or obj.bfill() instead.\n",
      "  country_data = pd.Series(country_data).replace('..', np.nan).fillna(method='ffill').values\n"
     ]
    },
    {
     "name": "stdout",
     "output_type": "stream",
     "text": [
      "Epoch [50/200], Loss: 0.0145\n",
      "Epoch [100/200], Loss: 0.0088\n",
      "Epoch [150/200], Loss: 0.0058\n",
      "Epoch [200/200], Loss: 0.0033\n",
      "\n",
      "Training model for British Virgin Islands\n"
     ]
    },
    {
     "name": "stderr",
     "output_type": "stream",
     "text": [
      "/var/folders/31/w2zt100d46vbd05gsww_hqj00000gn/T/ipykernel_72576/1759004401.py:8: FutureWarning: Series.fillna with 'method' is deprecated and will raise in a future version. Use obj.ffill() or obj.bfill() instead.\n",
      "  country_data = pd.Series(country_data).replace('..', np.nan).fillna(method='ffill').values\n"
     ]
    },
    {
     "name": "stdout",
     "output_type": "stream",
     "text": [
      "Epoch [50/200], Loss: 0.0146\n",
      "Epoch [100/200], Loss: 0.0089\n",
      "Epoch [150/200], Loss: 0.0057\n",
      "Epoch [200/200], Loss: 0.0038\n",
      "\n",
      "Training model for Brunei Darussalam\n"
     ]
    },
    {
     "name": "stderr",
     "output_type": "stream",
     "text": [
      "/var/folders/31/w2zt100d46vbd05gsww_hqj00000gn/T/ipykernel_72576/1759004401.py:8: FutureWarning: Series.fillna with 'method' is deprecated and will raise in a future version. Use obj.ffill() or obj.bfill() instead.\n",
      "  country_data = pd.Series(country_data).replace('..', np.nan).fillna(method='ffill').values\n"
     ]
    },
    {
     "name": "stdout",
     "output_type": "stream",
     "text": [
      "Epoch [50/200], Loss: 0.0098\n",
      "Epoch [100/200], Loss: 0.0071\n",
      "Epoch [150/200], Loss: 0.0074\n",
      "Epoch [200/200], Loss: 0.0064\n",
      "\n",
      "Training model for Bulgaria\n"
     ]
    },
    {
     "name": "stderr",
     "output_type": "stream",
     "text": [
      "/var/folders/31/w2zt100d46vbd05gsww_hqj00000gn/T/ipykernel_72576/1759004401.py:8: FutureWarning: Series.fillna with 'method' is deprecated and will raise in a future version. Use obj.ffill() or obj.bfill() instead.\n",
      "  country_data = pd.Series(country_data).replace('..', np.nan).fillna(method='ffill').values\n"
     ]
    },
    {
     "name": "stdout",
     "output_type": "stream",
     "text": [
      "Epoch [50/200], Loss: 0.0058\n",
      "Epoch [100/200], Loss: 0.0047\n",
      "Epoch [150/200], Loss: 0.0047\n",
      "Epoch [200/200], Loss: 0.0042\n",
      "\n",
      "Training model for Burkina Faso\n",
      "Epoch [50/200], Loss: 0.0011\n"
     ]
    },
    {
     "name": "stderr",
     "output_type": "stream",
     "text": [
      "/var/folders/31/w2zt100d46vbd05gsww_hqj00000gn/T/ipykernel_72576/1759004401.py:8: FutureWarning: Series.fillna with 'method' is deprecated and will raise in a future version. Use obj.ffill() or obj.bfill() instead.\n",
      "  country_data = pd.Series(country_data).replace('..', np.nan).fillna(method='ffill').values\n"
     ]
    },
    {
     "name": "stdout",
     "output_type": "stream",
     "text": [
      "Epoch [100/200], Loss: 0.0009\n",
      "Epoch [150/200], Loss: 0.0008\n",
      "Epoch [200/200], Loss: 0.0011\n",
      "\n",
      "Training model for Burundi\n"
     ]
    },
    {
     "name": "stderr",
     "output_type": "stream",
     "text": [
      "/var/folders/31/w2zt100d46vbd05gsww_hqj00000gn/T/ipykernel_72576/1759004401.py:8: FutureWarning: Series.fillna with 'method' is deprecated and will raise in a future version. Use obj.ffill() or obj.bfill() instead.\n",
      "  country_data = pd.Series(country_data).replace('..', np.nan).fillna(method='ffill').values\n"
     ]
    },
    {
     "name": "stdout",
     "output_type": "stream",
     "text": [
      "Epoch [50/200], Loss: 0.0045\n",
      "Epoch [100/200], Loss: 0.0033\n",
      "Epoch [150/200], Loss: 0.0024\n",
      "Epoch [200/200], Loss: 0.0021\n",
      "\n",
      "Training model for Cabo Verde\n"
     ]
    },
    {
     "name": "stderr",
     "output_type": "stream",
     "text": [
      "/var/folders/31/w2zt100d46vbd05gsww_hqj00000gn/T/ipykernel_72576/1759004401.py:8: FutureWarning: Series.fillna with 'method' is deprecated and will raise in a future version. Use obj.ffill() or obj.bfill() instead.\n",
      "  country_data = pd.Series(country_data).replace('..', np.nan).fillna(method='ffill').values\n"
     ]
    },
    {
     "name": "stdout",
     "output_type": "stream",
     "text": [
      "Epoch [50/200], Loss: 0.0052\n",
      "Epoch [100/200], Loss: 0.0039\n",
      "Epoch [150/200], Loss: 0.0034\n",
      "Epoch [200/200], Loss: 0.0042\n",
      "\n",
      "Training model for Cambodia\n"
     ]
    },
    {
     "name": "stderr",
     "output_type": "stream",
     "text": [
      "/var/folders/31/w2zt100d46vbd05gsww_hqj00000gn/T/ipykernel_72576/1759004401.py:8: FutureWarning: Series.fillna with 'method' is deprecated and will raise in a future version. Use obj.ffill() or obj.bfill() instead.\n",
      "  country_data = pd.Series(country_data).replace('..', np.nan).fillna(method='ffill').values\n"
     ]
    },
    {
     "name": "stdout",
     "output_type": "stream",
     "text": [
      "Epoch [50/200], Loss: 0.0077\n",
      "Epoch [100/200], Loss: 0.0054\n",
      "Epoch [150/200], Loss: 0.0024\n",
      "Epoch [200/200], Loss: 0.0014\n",
      "\n",
      "Training model for Cameroon\n"
     ]
    },
    {
     "name": "stderr",
     "output_type": "stream",
     "text": [
      "/var/folders/31/w2zt100d46vbd05gsww_hqj00000gn/T/ipykernel_72576/1759004401.py:8: FutureWarning: Series.fillna with 'method' is deprecated and will raise in a future version. Use obj.ffill() or obj.bfill() instead.\n",
      "  country_data = pd.Series(country_data).replace('..', np.nan).fillna(method='ffill').values\n"
     ]
    },
    {
     "name": "stdout",
     "output_type": "stream",
     "text": [
      "Epoch [50/200], Loss: 0.0167\n",
      "Epoch [100/200], Loss: 0.0059\n",
      "Epoch [150/200], Loss: 0.0018\n",
      "Epoch [200/200], Loss: 0.0020\n",
      "\n",
      "Training model for Canada\n",
      "Epoch [50/200], Loss: 0.0055\n"
     ]
    },
    {
     "name": "stderr",
     "output_type": "stream",
     "text": [
      "/var/folders/31/w2zt100d46vbd05gsww_hqj00000gn/T/ipykernel_72576/1759004401.py:8: FutureWarning: Series.fillna with 'method' is deprecated and will raise in a future version. Use obj.ffill() or obj.bfill() instead.\n",
      "  country_data = pd.Series(country_data).replace('..', np.nan).fillna(method='ffill').values\n"
     ]
    },
    {
     "name": "stdout",
     "output_type": "stream",
     "text": [
      "Epoch [100/200], Loss: 0.0052\n",
      "Epoch [150/200], Loss: 0.0043\n",
      "Epoch [200/200], Loss: 0.0037\n",
      "\n",
      "Training model for Cayman Islands\n"
     ]
    },
    {
     "name": "stderr",
     "output_type": "stream",
     "text": [
      "/var/folders/31/w2zt100d46vbd05gsww_hqj00000gn/T/ipykernel_72576/1759004401.py:8: FutureWarning: Series.fillna with 'method' is deprecated and will raise in a future version. Use obj.ffill() or obj.bfill() instead.\n",
      "  country_data = pd.Series(country_data).replace('..', np.nan).fillna(method='ffill').values\n"
     ]
    },
    {
     "name": "stdout",
     "output_type": "stream",
     "text": [
      "Epoch [50/200], Loss: 0.0493\n",
      "Epoch [100/200], Loss: 0.0208\n",
      "Epoch [150/200], Loss: 0.0269\n",
      "Epoch [200/200], Loss: 0.0171\n",
      "\n",
      "Training model for Central African Republic\n"
     ]
    },
    {
     "name": "stderr",
     "output_type": "stream",
     "text": [
      "/var/folders/31/w2zt100d46vbd05gsww_hqj00000gn/T/ipykernel_72576/1759004401.py:8: FutureWarning: Series.fillna with 'method' is deprecated and will raise in a future version. Use obj.ffill() or obj.bfill() instead.\n",
      "  country_data = pd.Series(country_data).replace('..', np.nan).fillna(method='ffill').values\n"
     ]
    },
    {
     "name": "stdout",
     "output_type": "stream",
     "text": [
      "Epoch [50/200], Loss: 0.0493\n",
      "Epoch [100/200], Loss: 0.0400\n",
      "Epoch [150/200], Loss: 0.0279\n",
      "Epoch [200/200], Loss: 0.0246\n",
      "\n",
      "Training model for Chad\n"
     ]
    },
    {
     "name": "stderr",
     "output_type": "stream",
     "text": [
      "/var/folders/31/w2zt100d46vbd05gsww_hqj00000gn/T/ipykernel_72576/1759004401.py:8: FutureWarning: Series.fillna with 'method' is deprecated and will raise in a future version. Use obj.ffill() or obj.bfill() instead.\n",
      "  country_data = pd.Series(country_data).replace('..', np.nan).fillna(method='ffill').values\n"
     ]
    },
    {
     "name": "stdout",
     "output_type": "stream",
     "text": [
      "Epoch [50/200], Loss: 0.0372\n",
      "Epoch [100/200], Loss: 0.0193\n",
      "Epoch [150/200], Loss: 0.0091\n",
      "Epoch [200/200], Loss: 0.0080\n",
      "\n",
      "Training model for Channel Islands\n"
     ]
    },
    {
     "name": "stderr",
     "output_type": "stream",
     "text": [
      "/var/folders/31/w2zt100d46vbd05gsww_hqj00000gn/T/ipykernel_72576/1759004401.py:8: FutureWarning: Series.fillna with 'method' is deprecated and will raise in a future version. Use obj.ffill() or obj.bfill() instead.\n",
      "  country_data = pd.Series(country_data).replace('..', np.nan).fillna(method='ffill').values\n"
     ]
    },
    {
     "name": "stdout",
     "output_type": "stream",
     "text": [
      "Epoch [50/200], Loss: 0.0593\n",
      "Epoch [100/200], Loss: 0.0333\n",
      "Epoch [150/200], Loss: 0.0294\n",
      "Epoch [200/200], Loss: 0.0279\n",
      "\n",
      "Training model for Chile\n",
      "Epoch [50/200], Loss: 0.0036\n"
     ]
    },
    {
     "name": "stderr",
     "output_type": "stream",
     "text": [
      "/var/folders/31/w2zt100d46vbd05gsww_hqj00000gn/T/ipykernel_72576/1759004401.py:8: FutureWarning: Series.fillna with 'method' is deprecated and will raise in a future version. Use obj.ffill() or obj.bfill() instead.\n",
      "  country_data = pd.Series(country_data).replace('..', np.nan).fillna(method='ffill').values\n"
     ]
    },
    {
     "name": "stdout",
     "output_type": "stream",
     "text": [
      "Epoch [100/200], Loss: 0.0022\n",
      "Epoch [150/200], Loss: 0.0021\n",
      "Epoch [200/200], Loss: 0.0025\n",
      "\n",
      "Training model for China\n"
     ]
    },
    {
     "name": "stderr",
     "output_type": "stream",
     "text": [
      "/var/folders/31/w2zt100d46vbd05gsww_hqj00000gn/T/ipykernel_72576/1759004401.py:8: FutureWarning: Series.fillna with 'method' is deprecated and will raise in a future version. Use obj.ffill() or obj.bfill() instead.\n",
      "  country_data = pd.Series(country_data).replace('..', np.nan).fillna(method='ffill').values\n"
     ]
    },
    {
     "name": "stdout",
     "output_type": "stream",
     "text": [
      "Epoch [50/200], Loss: 0.0018\n",
      "Epoch [100/200], Loss: 0.0003\n",
      "Epoch [150/200], Loss: 0.0003\n",
      "Epoch [200/200], Loss: 0.0002\n",
      "\n",
      "Training model for Colombia\n"
     ]
    },
    {
     "name": "stderr",
     "output_type": "stream",
     "text": [
      "/var/folders/31/w2zt100d46vbd05gsww_hqj00000gn/T/ipykernel_72576/1759004401.py:8: FutureWarning: Series.fillna with 'method' is deprecated and will raise in a future version. Use obj.ffill() or obj.bfill() instead.\n",
      "  country_data = pd.Series(country_data).replace('..', np.nan).fillna(method='ffill').values\n"
     ]
    },
    {
     "name": "stdout",
     "output_type": "stream",
     "text": [
      "Epoch [50/200], Loss: 0.0088\n",
      "Epoch [100/200], Loss: 0.0067\n",
      "Epoch [150/200], Loss: 0.0072\n",
      "Epoch [200/200], Loss: 0.0064\n",
      "\n",
      "Training model for Comoros\n"
     ]
    },
    {
     "name": "stderr",
     "output_type": "stream",
     "text": [
      "/var/folders/31/w2zt100d46vbd05gsww_hqj00000gn/T/ipykernel_72576/1759004401.py:8: FutureWarning: Series.fillna with 'method' is deprecated and will raise in a future version. Use obj.ffill() or obj.bfill() instead.\n",
      "  country_data = pd.Series(country_data).replace('..', np.nan).fillna(method='ffill').values\n"
     ]
    },
    {
     "name": "stdout",
     "output_type": "stream",
     "text": [
      "Epoch [50/200], Loss: 0.0156\n",
      "Epoch [100/200], Loss: 0.0132\n",
      "Epoch [150/200], Loss: 0.0102\n",
      "Epoch [200/200], Loss: 0.0091\n",
      "\n",
      "Training model for Congo, Dem. Rep.\n"
     ]
    },
    {
     "name": "stderr",
     "output_type": "stream",
     "text": [
      "/var/folders/31/w2zt100d46vbd05gsww_hqj00000gn/T/ipykernel_72576/1759004401.py:8: FutureWarning: Series.fillna with 'method' is deprecated and will raise in a future version. Use obj.ffill() or obj.bfill() instead.\n",
      "  country_data = pd.Series(country_data).replace('..', np.nan).fillna(method='ffill').values\n"
     ]
    },
    {
     "name": "stdout",
     "output_type": "stream",
     "text": [
      "Epoch [50/200], Loss: 0.0093\n",
      "Epoch [100/200], Loss: 0.0011\n",
      "Epoch [150/200], Loss: 0.0007\n",
      "Epoch [200/200], Loss: 0.0005\n",
      "\n",
      "Training model for Congo, Rep.\n"
     ]
    },
    {
     "name": "stderr",
     "output_type": "stream",
     "text": [
      "/var/folders/31/w2zt100d46vbd05gsww_hqj00000gn/T/ipykernel_72576/1759004401.py:8: FutureWarning: Series.fillna with 'method' is deprecated and will raise in a future version. Use obj.ffill() or obj.bfill() instead.\n",
      "  country_data = pd.Series(country_data).replace('..', np.nan).fillna(method='ffill').values\n"
     ]
    },
    {
     "name": "stdout",
     "output_type": "stream",
     "text": [
      "Epoch [50/200], Loss: 0.0475\n",
      "Epoch [100/200], Loss: 0.0178\n",
      "Epoch [150/200], Loss: 0.0133\n",
      "Epoch [200/200], Loss: 0.0127\n",
      "\n",
      "Training model for Costa Rica\n",
      "Epoch [50/200], Loss: 0.0022\n"
     ]
    },
    {
     "name": "stderr",
     "output_type": "stream",
     "text": [
      "/var/folders/31/w2zt100d46vbd05gsww_hqj00000gn/T/ipykernel_72576/1759004401.py:8: FutureWarning: Series.fillna with 'method' is deprecated and will raise in a future version. Use obj.ffill() or obj.bfill() instead.\n",
      "  country_data = pd.Series(country_data).replace('..', np.nan).fillna(method='ffill').values\n"
     ]
    },
    {
     "name": "stdout",
     "output_type": "stream",
     "text": [
      "Epoch [100/200], Loss: 0.0012\n",
      "Epoch [150/200], Loss: 0.0014\n",
      "Epoch [200/200], Loss: 0.0012\n",
      "\n",
      "Training model for Cote d'Ivoire\n",
      "Epoch [50/200], Loss: 0.0207\n"
     ]
    },
    {
     "name": "stderr",
     "output_type": "stream",
     "text": [
      "/var/folders/31/w2zt100d46vbd05gsww_hqj00000gn/T/ipykernel_72576/1759004401.py:8: FutureWarning: Series.fillna with 'method' is deprecated and will raise in a future version. Use obj.ffill() or obj.bfill() instead.\n",
      "  country_data = pd.Series(country_data).replace('..', np.nan).fillna(method='ffill').values\n"
     ]
    },
    {
     "name": "stdout",
     "output_type": "stream",
     "text": [
      "Epoch [100/200], Loss: 0.0089\n",
      "Epoch [150/200], Loss: 0.0057\n",
      "Epoch [200/200], Loss: 0.0045\n",
      "\n",
      "Training model for Croatia\n"
     ]
    },
    {
     "name": "stderr",
     "output_type": "stream",
     "text": [
      "/var/folders/31/w2zt100d46vbd05gsww_hqj00000gn/T/ipykernel_72576/1759004401.py:8: FutureWarning: Series.fillna with 'method' is deprecated and will raise in a future version. Use obj.ffill() or obj.bfill() instead.\n",
      "  country_data = pd.Series(country_data).replace('..', np.nan).fillna(method='ffill').values\n"
     ]
    },
    {
     "name": "stdout",
     "output_type": "stream",
     "text": [
      "Epoch [50/200], Loss: 0.0076\n",
      "Epoch [100/200], Loss: 0.0068\n",
      "Epoch [150/200], Loss: 0.0054\n",
      "Epoch [200/200], Loss: 0.0051\n",
      "\n",
      "Training model for Cuba\n"
     ]
    },
    {
     "name": "stderr",
     "output_type": "stream",
     "text": [
      "/var/folders/31/w2zt100d46vbd05gsww_hqj00000gn/T/ipykernel_72576/1759004401.py:8: FutureWarning: Series.fillna with 'method' is deprecated and will raise in a future version. Use obj.ffill() or obj.bfill() instead.\n",
      "  country_data = pd.Series(country_data).replace('..', np.nan).fillna(method='ffill').values\n"
     ]
    },
    {
     "name": "stdout",
     "output_type": "stream",
     "text": [
      "Epoch [50/200], Loss: 0.0115\n",
      "Epoch [100/200], Loss: 0.0059\n",
      "Epoch [150/200], Loss: 0.0035\n",
      "Epoch [200/200], Loss: 0.0026\n",
      "\n",
      "Training model for Curacao\n"
     ]
    },
    {
     "name": "stderr",
     "output_type": "stream",
     "text": [
      "/var/folders/31/w2zt100d46vbd05gsww_hqj00000gn/T/ipykernel_72576/1759004401.py:8: FutureWarning: Series.fillna with 'method' is deprecated and will raise in a future version. Use obj.ffill() or obj.bfill() instead.\n",
      "  country_data = pd.Series(country_data).replace('..', np.nan).fillna(method='ffill').values\n"
     ]
    },
    {
     "name": "stdout",
     "output_type": "stream",
     "text": [
      "Epoch [50/200], Loss: 0.0539\n",
      "Epoch [100/200], Loss: 0.0329\n",
      "Epoch [150/200], Loss: 0.0254\n",
      "Epoch [200/200], Loss: 0.0261\n",
      "\n",
      "Training model for Cyprus\n"
     ]
    },
    {
     "name": "stderr",
     "output_type": "stream",
     "text": [
      "/var/folders/31/w2zt100d46vbd05gsww_hqj00000gn/T/ipykernel_72576/1759004401.py:8: FutureWarning: Series.fillna with 'method' is deprecated and will raise in a future version. Use obj.ffill() or obj.bfill() instead.\n",
      "  country_data = pd.Series(country_data).replace('..', np.nan).fillna(method='ffill').values\n"
     ]
    },
    {
     "name": "stdout",
     "output_type": "stream",
     "text": [
      "Epoch [50/200], Loss: 0.0160\n",
      "Epoch [100/200], Loss: 0.0129\n",
      "Epoch [150/200], Loss: 0.0069\n",
      "Epoch [200/200], Loss: 0.0050\n",
      "\n",
      "Training model for Czechia\n"
     ]
    },
    {
     "name": "stderr",
     "output_type": "stream",
     "text": [
      "/var/folders/31/w2zt100d46vbd05gsww_hqj00000gn/T/ipykernel_72576/1759004401.py:8: FutureWarning: Series.fillna with 'method' is deprecated and will raise in a future version. Use obj.ffill() or obj.bfill() instead.\n",
      "  country_data = pd.Series(country_data).replace('..', np.nan).fillna(method='ffill').values\n"
     ]
    },
    {
     "name": "stdout",
     "output_type": "stream",
     "text": [
      "Epoch [50/200], Loss: 0.0068\n",
      "Epoch [100/200], Loss: 0.0054\n",
      "Epoch [150/200], Loss: 0.0051\n",
      "Epoch [200/200], Loss: 0.0043\n",
      "\n",
      "Training model for Denmark\n"
     ]
    },
    {
     "name": "stderr",
     "output_type": "stream",
     "text": [
      "/var/folders/31/w2zt100d46vbd05gsww_hqj00000gn/T/ipykernel_72576/1759004401.py:8: FutureWarning: Series.fillna with 'method' is deprecated and will raise in a future version. Use obj.ffill() or obj.bfill() instead.\n",
      "  country_data = pd.Series(country_data).replace('..', np.nan).fillna(method='ffill').values\n"
     ]
    },
    {
     "name": "stdout",
     "output_type": "stream",
     "text": [
      "Epoch [50/200], Loss: 0.0066\n",
      "Epoch [100/200], Loss: 0.0053\n",
      "Epoch [150/200], Loss: 0.0046\n",
      "Epoch [200/200], Loss: 0.0047\n",
      "\n",
      "Training model for Djibouti\n"
     ]
    },
    {
     "name": "stderr",
     "output_type": "stream",
     "text": [
      "/var/folders/31/w2zt100d46vbd05gsww_hqj00000gn/T/ipykernel_72576/1759004401.py:8: FutureWarning: Series.fillna with 'method' is deprecated and will raise in a future version. Use obj.ffill() or obj.bfill() instead.\n",
      "  country_data = pd.Series(country_data).replace('..', np.nan).fillna(method='ffill').values\n"
     ]
    },
    {
     "name": "stdout",
     "output_type": "stream",
     "text": [
      "Epoch [50/200], Loss: 0.0604\n",
      "Epoch [100/200], Loss: 0.0371\n",
      "Epoch [150/200], Loss: 0.0283\n",
      "Epoch [200/200], Loss: 0.0274\n",
      "\n",
      "Training model for Dominica\n"
     ]
    },
    {
     "name": "stderr",
     "output_type": "stream",
     "text": [
      "/var/folders/31/w2zt100d46vbd05gsww_hqj00000gn/T/ipykernel_72576/1759004401.py:8: FutureWarning: Series.fillna with 'method' is deprecated and will raise in a future version. Use obj.ffill() or obj.bfill() instead.\n",
      "  country_data = pd.Series(country_data).replace('..', np.nan).fillna(method='ffill').values\n"
     ]
    },
    {
     "name": "stdout",
     "output_type": "stream",
     "text": [
      "Epoch [50/200], Loss: 0.0137\n",
      "Epoch [100/200], Loss: 0.0113\n",
      "Epoch [150/200], Loss: 0.0106\n",
      "Epoch [200/200], Loss: 0.0105\n",
      "\n",
      "Training model for Dominican Republic\n"
     ]
    },
    {
     "name": "stderr",
     "output_type": "stream",
     "text": [
      "/var/folders/31/w2zt100d46vbd05gsww_hqj00000gn/T/ipykernel_72576/1759004401.py:8: FutureWarning: Series.fillna with 'method' is deprecated and will raise in a future version. Use obj.ffill() or obj.bfill() instead.\n",
      "  country_data = pd.Series(country_data).replace('..', np.nan).fillna(method='ffill').values\n"
     ]
    },
    {
     "name": "stdout",
     "output_type": "stream",
     "text": [
      "Epoch [50/200], Loss: 0.0015\n",
      "Epoch [100/200], Loss: 0.0016\n",
      "Epoch [150/200], Loss: 0.0014\n",
      "Epoch [200/200], Loss: 0.0018\n",
      "\n",
      "Training model for Ecuador\n"
     ]
    },
    {
     "name": "stderr",
     "output_type": "stream",
     "text": [
      "/var/folders/31/w2zt100d46vbd05gsww_hqj00000gn/T/ipykernel_72576/1759004401.py:8: FutureWarning: Series.fillna with 'method' is deprecated and will raise in a future version. Use obj.ffill() or obj.bfill() instead.\n",
      "  country_data = pd.Series(country_data).replace('..', np.nan).fillna(method='ffill').values\n"
     ]
    },
    {
     "name": "stdout",
     "output_type": "stream",
     "text": [
      "Epoch [50/200], Loss: 0.0183\n",
      "Epoch [100/200], Loss: 0.0097\n",
      "Epoch [150/200], Loss: 0.0087\n",
      "Epoch [200/200], Loss: 0.0079\n",
      "\n",
      "Training model for Egypt, Arab Rep.\n",
      "Epoch [50/200], Loss: 0.0028\n"
     ]
    },
    {
     "name": "stderr",
     "output_type": "stream",
     "text": [
      "/var/folders/31/w2zt100d46vbd05gsww_hqj00000gn/T/ipykernel_72576/1759004401.py:8: FutureWarning: Series.fillna with 'method' is deprecated and will raise in a future version. Use obj.ffill() or obj.bfill() instead.\n",
      "  country_data = pd.Series(country_data).replace('..', np.nan).fillna(method='ffill').values\n"
     ]
    },
    {
     "name": "stdout",
     "output_type": "stream",
     "text": [
      "Epoch [100/200], Loss: 0.0027\n",
      "Epoch [150/200], Loss: 0.0025\n",
      "Epoch [200/200], Loss: 0.0022\n",
      "\n",
      "Training model for El Salvador\n"
     ]
    },
    {
     "name": "stderr",
     "output_type": "stream",
     "text": [
      "/var/folders/31/w2zt100d46vbd05gsww_hqj00000gn/T/ipykernel_72576/1759004401.py:8: FutureWarning: Series.fillna with 'method' is deprecated and will raise in a future version. Use obj.ffill() or obj.bfill() instead.\n",
      "  country_data = pd.Series(country_data).replace('..', np.nan).fillna(method='ffill').values\n"
     ]
    },
    {
     "name": "stdout",
     "output_type": "stream",
     "text": [
      "Epoch [50/200], Loss: 0.0020\n",
      "Epoch [100/200], Loss: 0.0017\n",
      "Epoch [150/200], Loss: 0.0017\n",
      "Epoch [200/200], Loss: 0.0019\n",
      "\n",
      "Training model for Equatorial Guinea\n"
     ]
    },
    {
     "name": "stderr",
     "output_type": "stream",
     "text": [
      "/var/folders/31/w2zt100d46vbd05gsww_hqj00000gn/T/ipykernel_72576/1759004401.py:8: FutureWarning: Series.fillna with 'method' is deprecated and will raise in a future version. Use obj.ffill() or obj.bfill() instead.\n",
      "  country_data = pd.Series(country_data).replace('..', np.nan).fillna(method='ffill').values\n"
     ]
    },
    {
     "name": "stdout",
     "output_type": "stream",
     "text": [
      "Epoch [50/200], Loss: 0.0242\n",
      "Epoch [100/200], Loss: 0.0112\n",
      "Epoch [150/200], Loss: 0.0029\n",
      "Epoch [200/200], Loss: 0.0028\n",
      "\n",
      "Training model for Eritrea\n"
     ]
    },
    {
     "name": "stderr",
     "output_type": "stream",
     "text": [
      "/var/folders/31/w2zt100d46vbd05gsww_hqj00000gn/T/ipykernel_72576/1759004401.py:8: FutureWarning: Series.fillna with 'method' is deprecated and will raise in a future version. Use obj.ffill() or obj.bfill() instead.\n",
      "  country_data = pd.Series(country_data).replace('..', np.nan).fillna(method='ffill').values\n"
     ]
    },
    {
     "name": "stdout",
     "output_type": "stream",
     "text": [
      "Epoch [50/200], Loss: 0.0444\n",
      "Epoch [100/200], Loss: 0.0287\n",
      "Epoch [150/200], Loss: 0.0429\n",
      "Epoch [200/200], Loss: 0.0279\n",
      "\n",
      "Training model for Estonia\n"
     ]
    },
    {
     "name": "stderr",
     "output_type": "stream",
     "text": [
      "/var/folders/31/w2zt100d46vbd05gsww_hqj00000gn/T/ipykernel_72576/1759004401.py:8: FutureWarning: Series.fillna with 'method' is deprecated and will raise in a future version. Use obj.ffill() or obj.bfill() instead.\n",
      "  country_data = pd.Series(country_data).replace('..', np.nan).fillna(method='ffill').values\n"
     ]
    },
    {
     "name": "stdout",
     "output_type": "stream",
     "text": [
      "Epoch [50/200], Loss: 0.0091\n",
      "Epoch [100/200], Loss: 0.0073\n",
      "Epoch [150/200], Loss: 0.0059\n",
      "Epoch [200/200], Loss: 0.0053\n",
      "\n",
      "Training model for Eswatini\n"
     ]
    },
    {
     "name": "stderr",
     "output_type": "stream",
     "text": [
      "/var/folders/31/w2zt100d46vbd05gsww_hqj00000gn/T/ipykernel_72576/1759004401.py:8: FutureWarning: Series.fillna with 'method' is deprecated and will raise in a future version. Use obj.ffill() or obj.bfill() instead.\n",
      "  country_data = pd.Series(country_data).replace('..', np.nan).fillna(method='ffill').values\n"
     ]
    },
    {
     "name": "stdout",
     "output_type": "stream",
     "text": [
      "Epoch [50/200], Loss: 0.0035\n",
      "Epoch [100/200], Loss: 0.0016\n",
      "Epoch [150/200], Loss: 0.0016\n",
      "Epoch [200/200], Loss: 0.0016\n",
      "\n",
      "Training model for Ethiopia\n"
     ]
    },
    {
     "name": "stderr",
     "output_type": "stream",
     "text": [
      "/var/folders/31/w2zt100d46vbd05gsww_hqj00000gn/T/ipykernel_72576/1759004401.py:8: FutureWarning: Series.fillna with 'method' is deprecated and will raise in a future version. Use obj.ffill() or obj.bfill() instead.\n",
      "  country_data = pd.Series(country_data).replace('..', np.nan).fillna(method='ffill').values\n"
     ]
    },
    {
     "name": "stdout",
     "output_type": "stream",
     "text": [
      "Epoch [50/200], Loss: 0.0027\n",
      "Epoch [100/200], Loss: 0.0006\n",
      "Epoch [150/200], Loss: 0.0008\n",
      "Epoch [200/200], Loss: 0.0006\n",
      "\n",
      "Training model for Faroe Islands\n"
     ]
    },
    {
     "name": "stderr",
     "output_type": "stream",
     "text": [
      "/var/folders/31/w2zt100d46vbd05gsww_hqj00000gn/T/ipykernel_72576/1759004401.py:8: FutureWarning: Series.fillna with 'method' is deprecated and will raise in a future version. Use obj.ffill() or obj.bfill() instead.\n",
      "  country_data = pd.Series(country_data).replace('..', np.nan).fillna(method='ffill').values\n"
     ]
    },
    {
     "name": "stdout",
     "output_type": "stream",
     "text": [
      "Epoch [50/200], Loss: 0.0344\n",
      "Epoch [100/200], Loss: 0.0225\n",
      "Epoch [150/200], Loss: 0.0194\n",
      "Epoch [200/200], Loss: 0.0174\n",
      "\n",
      "Training model for Fiji\n"
     ]
    },
    {
     "name": "stderr",
     "output_type": "stream",
     "text": [
      "/var/folders/31/w2zt100d46vbd05gsww_hqj00000gn/T/ipykernel_72576/1759004401.py:8: FutureWarning: Series.fillna with 'method' is deprecated and will raise in a future version. Use obj.ffill() or obj.bfill() instead.\n",
      "  country_data = pd.Series(country_data).replace('..', np.nan).fillna(method='ffill').values\n"
     ]
    },
    {
     "name": "stdout",
     "output_type": "stream",
     "text": [
      "Epoch [50/200], Loss: 0.0221\n",
      "Epoch [100/200], Loss: 0.0195\n",
      "Epoch [150/200], Loss: 0.0163\n",
      "Epoch [200/200], Loss: 0.0187\n",
      "\n",
      "Training model for Finland\n",
      "Epoch [50/200], Loss: 0.0100\n"
     ]
    },
    {
     "name": "stderr",
     "output_type": "stream",
     "text": [
      "/var/folders/31/w2zt100d46vbd05gsww_hqj00000gn/T/ipykernel_72576/1759004401.py:8: FutureWarning: Series.fillna with 'method' is deprecated and will raise in a future version. Use obj.ffill() or obj.bfill() instead.\n",
      "  country_data = pd.Series(country_data).replace('..', np.nan).fillna(method='ffill').values\n"
     ]
    },
    {
     "name": "stdout",
     "output_type": "stream",
     "text": [
      "Epoch [100/200], Loss: 0.0067\n",
      "Epoch [150/200], Loss: 0.0054\n",
      "Epoch [200/200], Loss: 0.0052\n",
      "\n",
      "Training model for France\n",
      "Epoch [50/200], Loss: 0.0052\n"
     ]
    },
    {
     "name": "stderr",
     "output_type": "stream",
     "text": [
      "/var/folders/31/w2zt100d46vbd05gsww_hqj00000gn/T/ipykernel_72576/1759004401.py:8: FutureWarning: Series.fillna with 'method' is deprecated and will raise in a future version. Use obj.ffill() or obj.bfill() instead.\n",
      "  country_data = pd.Series(country_data).replace('..', np.nan).fillna(method='ffill').values\n"
     ]
    },
    {
     "name": "stdout",
     "output_type": "stream",
     "text": [
      "Epoch [100/200], Loss: 0.0053\n",
      "Epoch [150/200], Loss: 0.0054\n",
      "Epoch [200/200], Loss: 0.0047\n",
      "\n",
      "Training model for French Polynesia\n",
      "Epoch [50/200], Loss: 0.0418\n"
     ]
    },
    {
     "name": "stderr",
     "output_type": "stream",
     "text": [
      "/var/folders/31/w2zt100d46vbd05gsww_hqj00000gn/T/ipykernel_72576/1759004401.py:8: FutureWarning: Series.fillna with 'method' is deprecated and will raise in a future version. Use obj.ffill() or obj.bfill() instead.\n",
      "  country_data = pd.Series(country_data).replace('..', np.nan).fillna(method='ffill').values\n"
     ]
    },
    {
     "name": "stdout",
     "output_type": "stream",
     "text": [
      "Epoch [100/200], Loss: 0.0272\n",
      "Epoch [150/200], Loss: 0.0269\n",
      "Epoch [200/200], Loss: 0.0271\n",
      "\n",
      "Training model for Gabon\n"
     ]
    },
    {
     "name": "stderr",
     "output_type": "stream",
     "text": [
      "/var/folders/31/w2zt100d46vbd05gsww_hqj00000gn/T/ipykernel_72576/1759004401.py:8: FutureWarning: Series.fillna with 'method' is deprecated and will raise in a future version. Use obj.ffill() or obj.bfill() instead.\n",
      "  country_data = pd.Series(country_data).replace('..', np.nan).fillna(method='ffill').values\n"
     ]
    },
    {
     "name": "stdout",
     "output_type": "stream",
     "text": [
      "Epoch [50/200], Loss: 0.0225\n",
      "Epoch [100/200], Loss: 0.0189\n",
      "Epoch [150/200], Loss: 0.0119\n",
      "Epoch [200/200], Loss: 0.0135\n",
      "\n",
      "Training model for Gambia, The\n",
      "Epoch [50/200], Loss: 0.0611\n"
     ]
    },
    {
     "name": "stderr",
     "output_type": "stream",
     "text": [
      "/var/folders/31/w2zt100d46vbd05gsww_hqj00000gn/T/ipykernel_72576/1759004401.py:8: FutureWarning: Series.fillna with 'method' is deprecated and will raise in a future version. Use obj.ffill() or obj.bfill() instead.\n",
      "  country_data = pd.Series(country_data).replace('..', np.nan).fillna(method='ffill').values\n"
     ]
    },
    {
     "name": "stdout",
     "output_type": "stream",
     "text": [
      "Epoch [100/200], Loss: 0.0475\n",
      "Epoch [150/200], Loss: 0.0344\n",
      "Epoch [200/200], Loss: 0.0338\n",
      "\n",
      "Training model for Georgia\n"
     ]
    },
    {
     "name": "stderr",
     "output_type": "stream",
     "text": [
      "/var/folders/31/w2zt100d46vbd05gsww_hqj00000gn/T/ipykernel_72576/1759004401.py:8: FutureWarning: Series.fillna with 'method' is deprecated and will raise in a future version. Use obj.ffill() or obj.bfill() instead.\n",
      "  country_data = pd.Series(country_data).replace('..', np.nan).fillna(method='ffill').values\n"
     ]
    },
    {
     "name": "stdout",
     "output_type": "stream",
     "text": [
      "Epoch [50/200], Loss: 0.0046\n",
      "Epoch [100/200], Loss: 0.0034\n",
      "Epoch [150/200], Loss: 0.0011\n",
      "Epoch [200/200], Loss: 0.0017\n",
      "\n",
      "Training model for Germany\n"
     ]
    },
    {
     "name": "stderr",
     "output_type": "stream",
     "text": [
      "/var/folders/31/w2zt100d46vbd05gsww_hqj00000gn/T/ipykernel_72576/1759004401.py:8: FutureWarning: Series.fillna with 'method' is deprecated and will raise in a future version. Use obj.ffill() or obj.bfill() instead.\n",
      "  country_data = pd.Series(country_data).replace('..', np.nan).fillna(method='ffill').values\n"
     ]
    },
    {
     "name": "stdout",
     "output_type": "stream",
     "text": [
      "Epoch [50/200], Loss: 0.0047\n",
      "Epoch [100/200], Loss: 0.0029\n",
      "Epoch [150/200], Loss: 0.0031\n",
      "Epoch [200/200], Loss: 0.0029\n",
      "\n",
      "Training model for Ghana\n",
      "Epoch [50/200], Loss: 0.0041\n"
     ]
    },
    {
     "name": "stderr",
     "output_type": "stream",
     "text": [
      "/var/folders/31/w2zt100d46vbd05gsww_hqj00000gn/T/ipykernel_72576/1759004401.py:8: FutureWarning: Series.fillna with 'method' is deprecated and will raise in a future version. Use obj.ffill() or obj.bfill() instead.\n",
      "  country_data = pd.Series(country_data).replace('..', np.nan).fillna(method='ffill').values\n"
     ]
    },
    {
     "name": "stdout",
     "output_type": "stream",
     "text": [
      "Epoch [100/200], Loss: 0.0023\n",
      "Epoch [150/200], Loss: 0.0017\n",
      "Epoch [200/200], Loss: 0.0015\n",
      "\n",
      "Training model for Gibraltar\n"
     ]
    },
    {
     "name": "stderr",
     "output_type": "stream",
     "text": [
      "/var/folders/31/w2zt100d46vbd05gsww_hqj00000gn/T/ipykernel_72576/1759004401.py:8: FutureWarning: Series.fillna with 'method' is deprecated and will raise in a future version. Use obj.ffill() or obj.bfill() instead.\n",
      "  country_data = pd.Series(country_data).replace('..', np.nan).fillna(method='ffill').values\n"
     ]
    },
    {
     "name": "stdout",
     "output_type": "stream",
     "text": [
      "Epoch [50/200], Loss: 0.0033\n",
      "Epoch [100/200], Loss: 0.0017\n",
      "Epoch [150/200], Loss: 0.0015\n",
      "Epoch [200/200], Loss: 0.0017\n",
      "\n",
      "Training model for Greece\n"
     ]
    },
    {
     "name": "stderr",
     "output_type": "stream",
     "text": [
      "/var/folders/31/w2zt100d46vbd05gsww_hqj00000gn/T/ipykernel_72576/1759004401.py:8: FutureWarning: Series.fillna with 'method' is deprecated and will raise in a future version. Use obj.ffill() or obj.bfill() instead.\n",
      "  country_data = pd.Series(country_data).replace('..', np.nan).fillna(method='ffill').values\n"
     ]
    },
    {
     "name": "stdout",
     "output_type": "stream",
     "text": [
      "Epoch [50/200], Loss: 0.0411\n",
      "Epoch [100/200], Loss: 0.0163\n",
      "Epoch [150/200], Loss: 0.0048\n",
      "Epoch [200/200], Loss: 0.0063\n",
      "\n",
      "Training model for Greenland\n"
     ]
    },
    {
     "name": "stderr",
     "output_type": "stream",
     "text": [
      "/var/folders/31/w2zt100d46vbd05gsww_hqj00000gn/T/ipykernel_72576/1759004401.py:8: FutureWarning: Series.fillna with 'method' is deprecated and will raise in a future version. Use obj.ffill() or obj.bfill() instead.\n",
      "  country_data = pd.Series(country_data).replace('..', np.nan).fillna(method='ffill').values\n"
     ]
    },
    {
     "name": "stdout",
     "output_type": "stream",
     "text": [
      "Epoch [50/200], Loss: 0.0569\n",
      "Epoch [100/200], Loss: 0.0494\n",
      "Epoch [150/200], Loss: 0.0313\n",
      "Epoch [200/200], Loss: 0.0252\n",
      "\n",
      "Training model for Grenada\n",
      "Epoch [50/200], Loss: 0.0133\n"
     ]
    },
    {
     "name": "stderr",
     "output_type": "stream",
     "text": [
      "/var/folders/31/w2zt100d46vbd05gsww_hqj00000gn/T/ipykernel_72576/1759004401.py:8: FutureWarning: Series.fillna with 'method' is deprecated and will raise in a future version. Use obj.ffill() or obj.bfill() instead.\n",
      "  country_data = pd.Series(country_data).replace('..', np.nan).fillna(method='ffill').values\n"
     ]
    },
    {
     "name": "stdout",
     "output_type": "stream",
     "text": [
      "Epoch [100/200], Loss: 0.0125\n",
      "Epoch [150/200], Loss: 0.0109\n",
      "Epoch [200/200], Loss: 0.0096\n",
      "\n",
      "Training model for Guam\n"
     ]
    },
    {
     "name": "stderr",
     "output_type": "stream",
     "text": [
      "/var/folders/31/w2zt100d46vbd05gsww_hqj00000gn/T/ipykernel_72576/1759004401.py:8: FutureWarning: Series.fillna with 'method' is deprecated and will raise in a future version. Use obj.ffill() or obj.bfill() instead.\n",
      "  country_data = pd.Series(country_data).replace('..', np.nan).fillna(method='ffill').values\n"
     ]
    },
    {
     "name": "stdout",
     "output_type": "stream",
     "text": [
      "Epoch [50/200], Loss: 0.0583\n",
      "Epoch [100/200], Loss: 0.0501\n",
      "Epoch [150/200], Loss: 0.0435\n",
      "Epoch [200/200], Loss: 0.0320\n",
      "\n",
      "Training model for Guatemala\n"
     ]
    },
    {
     "name": "stderr",
     "output_type": "stream",
     "text": [
      "/var/folders/31/w2zt100d46vbd05gsww_hqj00000gn/T/ipykernel_72576/1759004401.py:8: FutureWarning: Series.fillna with 'method' is deprecated and will raise in a future version. Use obj.ffill() or obj.bfill() instead.\n",
      "  country_data = pd.Series(country_data).replace('..', np.nan).fillna(method='ffill').values\n"
     ]
    },
    {
     "name": "stdout",
     "output_type": "stream",
     "text": [
      "Epoch [50/200], Loss: 0.0015\n",
      "Epoch [100/200], Loss: 0.0013\n",
      "Epoch [150/200], Loss: 0.0015\n",
      "Epoch [200/200], Loss: 0.0013\n",
      "\n",
      "Training model for Guinea\n"
     ]
    },
    {
     "name": "stderr",
     "output_type": "stream",
     "text": [
      "/var/folders/31/w2zt100d46vbd05gsww_hqj00000gn/T/ipykernel_72576/1759004401.py:8: FutureWarning: Series.fillna with 'method' is deprecated and will raise in a future version. Use obj.ffill() or obj.bfill() instead.\n",
      "  country_data = pd.Series(country_data).replace('..', np.nan).fillna(method='ffill').values\n"
     ]
    },
    {
     "name": "stdout",
     "output_type": "stream",
     "text": [
      "Epoch [50/200], Loss: 0.0032\n",
      "Epoch [100/200], Loss: 0.0023\n",
      "Epoch [150/200], Loss: 0.0019\n",
      "Epoch [200/200], Loss: 0.0015\n",
      "\n",
      "Training model for Guinea-Bissau\n"
     ]
    },
    {
     "name": "stderr",
     "output_type": "stream",
     "text": [
      "/var/folders/31/w2zt100d46vbd05gsww_hqj00000gn/T/ipykernel_72576/1759004401.py:8: FutureWarning: Series.fillna with 'method' is deprecated and will raise in a future version. Use obj.ffill() or obj.bfill() instead.\n",
      "  country_data = pd.Series(country_data).replace('..', np.nan).fillna(method='ffill').values\n"
     ]
    },
    {
     "name": "stdout",
     "output_type": "stream",
     "text": [
      "Epoch [50/200], Loss: 0.0144\n",
      "Epoch [100/200], Loss: 0.0117\n",
      "Epoch [150/200], Loss: 0.0125\n",
      "Epoch [200/200], Loss: 0.0152\n",
      "\n",
      "Training model for Guyana\n",
      "Epoch [50/200], Loss: 0.0074\n"
     ]
    },
    {
     "name": "stderr",
     "output_type": "stream",
     "text": [
      "/var/folders/31/w2zt100d46vbd05gsww_hqj00000gn/T/ipykernel_72576/1759004401.py:8: FutureWarning: Series.fillna with 'method' is deprecated and will raise in a future version. Use obj.ffill() or obj.bfill() instead.\n",
      "  country_data = pd.Series(country_data).replace('..', np.nan).fillna(method='ffill').values\n"
     ]
    },
    {
     "name": "stdout",
     "output_type": "stream",
     "text": [
      "Epoch [100/200], Loss: 0.0032\n",
      "Epoch [150/200], Loss: 0.0035\n",
      "Epoch [200/200], Loss: 0.0020\n",
      "\n",
      "Training model for Haiti\n"
     ]
    },
    {
     "name": "stderr",
     "output_type": "stream",
     "text": [
      "/var/folders/31/w2zt100d46vbd05gsww_hqj00000gn/T/ipykernel_72576/1759004401.py:8: FutureWarning: Series.fillna with 'method' is deprecated and will raise in a future version. Use obj.ffill() or obj.bfill() instead.\n",
      "  country_data = pd.Series(country_data).replace('..', np.nan).fillna(method='ffill').values\n"
     ]
    },
    {
     "name": "stdout",
     "output_type": "stream",
     "text": [
      "Epoch [50/200], Loss: 0.0128\n",
      "Epoch [100/200], Loss: 0.0089\n",
      "Epoch [150/200], Loss: 0.0062\n",
      "Epoch [200/200], Loss: 0.0061\n",
      "\n",
      "Training model for Honduras\n"
     ]
    },
    {
     "name": "stderr",
     "output_type": "stream",
     "text": [
      "/var/folders/31/w2zt100d46vbd05gsww_hqj00000gn/T/ipykernel_72576/1759004401.py:8: FutureWarning: Series.fillna with 'method' is deprecated and will raise in a future version. Use obj.ffill() or obj.bfill() instead.\n",
      "  country_data = pd.Series(country_data).replace('..', np.nan).fillna(method='ffill').values\n"
     ]
    },
    {
     "name": "stdout",
     "output_type": "stream",
     "text": [
      "Epoch [50/200], Loss: 0.0088\n",
      "Epoch [100/200], Loss: 0.0089\n",
      "Epoch [150/200], Loss: 0.0078\n",
      "Epoch [200/200], Loss: 0.0078\n",
      "\n",
      "Training model for Hong Kong SAR, China\n"
     ]
    },
    {
     "name": "stderr",
     "output_type": "stream",
     "text": [
      "/var/folders/31/w2zt100d46vbd05gsww_hqj00000gn/T/ipykernel_72576/1759004401.py:8: FutureWarning: Series.fillna with 'method' is deprecated and will raise in a future version. Use obj.ffill() or obj.bfill() instead.\n",
      "  country_data = pd.Series(country_data).replace('..', np.nan).fillna(method='ffill').values\n"
     ]
    },
    {
     "name": "stdout",
     "output_type": "stream",
     "text": [
      "Epoch [50/200], Loss: 0.0076\n",
      "Epoch [100/200], Loss: 0.0041\n",
      "Epoch [150/200], Loss: 0.0036\n",
      "Epoch [200/200], Loss: 0.0040\n",
      "\n",
      "Training model for Hungary\n"
     ]
    },
    {
     "name": "stderr",
     "output_type": "stream",
     "text": [
      "/var/folders/31/w2zt100d46vbd05gsww_hqj00000gn/T/ipykernel_72576/1759004401.py:8: FutureWarning: Series.fillna with 'method' is deprecated and will raise in a future version. Use obj.ffill() or obj.bfill() instead.\n",
      "  country_data = pd.Series(country_data).replace('..', np.nan).fillna(method='ffill').values\n"
     ]
    },
    {
     "name": "stdout",
     "output_type": "stream",
     "text": [
      "Epoch [50/200], Loss: 0.0057\n",
      "Epoch [100/200], Loss: 0.0051\n",
      "Epoch [150/200], Loss: 0.0049\n",
      "Epoch [200/200], Loss: 0.0040\n",
      "\n",
      "Training model for Iceland\n",
      "Epoch [50/200], Loss: 0.0127\n"
     ]
    },
    {
     "name": "stderr",
     "output_type": "stream",
     "text": [
      "/var/folders/31/w2zt100d46vbd05gsww_hqj00000gn/T/ipykernel_72576/1759004401.py:8: FutureWarning: Series.fillna with 'method' is deprecated and will raise in a future version. Use obj.ffill() or obj.bfill() instead.\n",
      "  country_data = pd.Series(country_data).replace('..', np.nan).fillna(method='ffill').values\n"
     ]
    },
    {
     "name": "stdout",
     "output_type": "stream",
     "text": [
      "Epoch [100/200], Loss: 0.0117\n",
      "Epoch [150/200], Loss: 0.0091\n",
      "Epoch [200/200], Loss: 0.0083\n",
      "\n",
      "Training model for India\n",
      "Epoch [50/200], Loss: 0.0013\n"
     ]
    },
    {
     "name": "stderr",
     "output_type": "stream",
     "text": [
      "/var/folders/31/w2zt100d46vbd05gsww_hqj00000gn/T/ipykernel_72576/1759004401.py:8: FutureWarning: Series.fillna with 'method' is deprecated and will raise in a future version. Use obj.ffill() or obj.bfill() instead.\n",
      "  country_data = pd.Series(country_data).replace('..', np.nan).fillna(method='ffill').values\n"
     ]
    },
    {
     "name": "stdout",
     "output_type": "stream",
     "text": [
      "Epoch [100/200], Loss: 0.0009\n",
      "Epoch [150/200], Loss: 0.0011\n",
      "Epoch [200/200], Loss: 0.0008\n",
      "\n",
      "Training model for Indonesia\n",
      "Epoch [50/200], Loss: 0.0039\n"
     ]
    },
    {
     "name": "stderr",
     "output_type": "stream",
     "text": [
      "/var/folders/31/w2zt100d46vbd05gsww_hqj00000gn/T/ipykernel_72576/1759004401.py:8: FutureWarning: Series.fillna with 'method' is deprecated and will raise in a future version. Use obj.ffill() or obj.bfill() instead.\n",
      "  country_data = pd.Series(country_data).replace('..', np.nan).fillna(method='ffill').values\n"
     ]
    },
    {
     "name": "stdout",
     "output_type": "stream",
     "text": [
      "Epoch [100/200], Loss: 0.0026\n",
      "Epoch [150/200], Loss: 0.0024\n",
      "Epoch [200/200], Loss: 0.0029\n",
      "\n",
      "Training model for Iran, Islamic Rep.\n",
      "Epoch [50/200], Loss: 0.0095\n"
     ]
    },
    {
     "name": "stderr",
     "output_type": "stream",
     "text": [
      "/var/folders/31/w2zt100d46vbd05gsww_hqj00000gn/T/ipykernel_72576/1759004401.py:8: FutureWarning: Series.fillna with 'method' is deprecated and will raise in a future version. Use obj.ffill() or obj.bfill() instead.\n",
      "  country_data = pd.Series(country_data).replace('..', np.nan).fillna(method='ffill').values\n"
     ]
    },
    {
     "name": "stdout",
     "output_type": "stream",
     "text": [
      "Epoch [100/200], Loss: 0.0070\n",
      "Epoch [150/200], Loss: 0.0046\n",
      "Epoch [200/200], Loss: 0.0038\n",
      "\n",
      "Training model for Iraq\n",
      "Epoch [50/200], Loss: 0.0229\n"
     ]
    },
    {
     "name": "stderr",
     "output_type": "stream",
     "text": [
      "/var/folders/31/w2zt100d46vbd05gsww_hqj00000gn/T/ipykernel_72576/1759004401.py:8: FutureWarning: Series.fillna with 'method' is deprecated and will raise in a future version. Use obj.ffill() or obj.bfill() instead.\n",
      "  country_data = pd.Series(country_data).replace('..', np.nan).fillna(method='ffill').values\n"
     ]
    },
    {
     "name": "stdout",
     "output_type": "stream",
     "text": [
      "Epoch [100/200], Loss: 0.0190\n",
      "Epoch [150/200], Loss: 0.0163\n",
      "Epoch [200/200], Loss: 0.0149\n",
      "\n",
      "Training model for Ireland\n"
     ]
    },
    {
     "name": "stderr",
     "output_type": "stream",
     "text": [
      "/var/folders/31/w2zt100d46vbd05gsww_hqj00000gn/T/ipykernel_72576/1759004401.py:8: FutureWarning: Series.fillna with 'method' is deprecated and will raise in a future version. Use obj.ffill() or obj.bfill() instead.\n",
      "  country_data = pd.Series(country_data).replace('..', np.nan).fillna(method='ffill').values\n"
     ]
    },
    {
     "name": "stdout",
     "output_type": "stream",
     "text": [
      "Epoch [50/200], Loss: 0.0067\n",
      "Epoch [100/200], Loss: 0.0055\n",
      "Epoch [150/200], Loss: 0.0060\n",
      "Epoch [200/200], Loss: 0.0053\n",
      "\n",
      "Training model for Isle of Man\n"
     ]
    },
    {
     "name": "stderr",
     "output_type": "stream",
     "text": [
      "/var/folders/31/w2zt100d46vbd05gsww_hqj00000gn/T/ipykernel_72576/1759004401.py:8: FutureWarning: Series.fillna with 'method' is deprecated and will raise in a future version. Use obj.ffill() or obj.bfill() instead.\n",
      "  country_data = pd.Series(country_data).replace('..', np.nan).fillna(method='ffill').values\n"
     ]
    },
    {
     "name": "stdout",
     "output_type": "stream",
     "text": [
      "Epoch [50/200], Loss: 0.0038\n",
      "Epoch [100/200], Loss: 0.0021\n",
      "Epoch [150/200], Loss: 0.0021\n",
      "Epoch [200/200], Loss: 0.0024\n",
      "\n",
      "Training model for Israel\n"
     ]
    },
    {
     "name": "stderr",
     "output_type": "stream",
     "text": [
      "/var/folders/31/w2zt100d46vbd05gsww_hqj00000gn/T/ipykernel_72576/1759004401.py:8: FutureWarning: Series.fillna with 'method' is deprecated and will raise in a future version. Use obj.ffill() or obj.bfill() instead.\n",
      "  country_data = pd.Series(country_data).replace('..', np.nan).fillna(method='ffill').values\n"
     ]
    },
    {
     "name": "stdout",
     "output_type": "stream",
     "text": [
      "Epoch [50/200], Loss: 0.0019\n",
      "Epoch [100/200], Loss: 0.0018\n",
      "Epoch [150/200], Loss: 0.0018\n",
      "Epoch [200/200], Loss: 0.0017\n",
      "\n",
      "Training model for Italy\n"
     ]
    },
    {
     "name": "stderr",
     "output_type": "stream",
     "text": [
      "/var/folders/31/w2zt100d46vbd05gsww_hqj00000gn/T/ipykernel_72576/1759004401.py:8: FutureWarning: Series.fillna with 'method' is deprecated and will raise in a future version. Use obj.ffill() or obj.bfill() instead.\n",
      "  country_data = pd.Series(country_data).replace('..', np.nan).fillna(method='ffill').values\n"
     ]
    },
    {
     "name": "stdout",
     "output_type": "stream",
     "text": [
      "Epoch [50/200], Loss: 0.0322\n",
      "Epoch [100/200], Loss: 0.0309\n",
      "Epoch [150/200], Loss: 0.0282\n",
      "Epoch [200/200], Loss: 0.0208\n",
      "\n",
      "Training model for Jamaica\n"
     ]
    },
    {
     "name": "stderr",
     "output_type": "stream",
     "text": [
      "/var/folders/31/w2zt100d46vbd05gsww_hqj00000gn/T/ipykernel_72576/1759004401.py:8: FutureWarning: Series.fillna with 'method' is deprecated and will raise in a future version. Use obj.ffill() or obj.bfill() instead.\n",
      "  country_data = pd.Series(country_data).replace('..', np.nan).fillna(method='ffill').values\n"
     ]
    },
    {
     "name": "stdout",
     "output_type": "stream",
     "text": [
      "Epoch [50/200], Loss: 0.0333\n",
      "Epoch [100/200], Loss: 0.0253\n",
      "Epoch [150/200], Loss: 0.0231\n",
      "Epoch [200/200], Loss: 0.0217\n",
      "\n",
      "Training model for Japan\n"
     ]
    },
    {
     "name": "stderr",
     "output_type": "stream",
     "text": [
      "/var/folders/31/w2zt100d46vbd05gsww_hqj00000gn/T/ipykernel_72576/1759004401.py:8: FutureWarning: Series.fillna with 'method' is deprecated and will raise in a future version. Use obj.ffill() or obj.bfill() instead.\n",
      "  country_data = pd.Series(country_data).replace('..', np.nan).fillna(method='ffill').values\n"
     ]
    },
    {
     "name": "stdout",
     "output_type": "stream",
     "text": [
      "Epoch [50/200], Loss: 0.0086\n",
      "Epoch [100/200], Loss: 0.0085\n",
      "Epoch [150/200], Loss: 0.0080\n",
      "Epoch [200/200], Loss: 0.0081\n",
      "\n",
      "Training model for Jordan\n",
      "Epoch [50/200], Loss: 0.0238\n"
     ]
    },
    {
     "name": "stderr",
     "output_type": "stream",
     "text": [
      "/var/folders/31/w2zt100d46vbd05gsww_hqj00000gn/T/ipykernel_72576/1759004401.py:8: FutureWarning: Series.fillna with 'method' is deprecated and will raise in a future version. Use obj.ffill() or obj.bfill() instead.\n",
      "  country_data = pd.Series(country_data).replace('..', np.nan).fillna(method='ffill').values\n"
     ]
    },
    {
     "name": "stdout",
     "output_type": "stream",
     "text": [
      "Epoch [100/200], Loss: 0.0156\n",
      "Epoch [150/200], Loss: 0.0028\n",
      "Epoch [200/200], Loss: 0.0024\n",
      "\n",
      "Training model for Kazakhstan\n",
      "Epoch [50/200], Loss: 0.0099\n"
     ]
    },
    {
     "name": "stderr",
     "output_type": "stream",
     "text": [
      "/var/folders/31/w2zt100d46vbd05gsww_hqj00000gn/T/ipykernel_72576/1759004401.py:8: FutureWarning: Series.fillna with 'method' is deprecated and will raise in a future version. Use obj.ffill() or obj.bfill() instead.\n",
      "  country_data = pd.Series(country_data).replace('..', np.nan).fillna(method='ffill').values\n"
     ]
    },
    {
     "name": "stdout",
     "output_type": "stream",
     "text": [
      "Epoch [100/200], Loss: 0.0054\n",
      "Epoch [150/200], Loss: 0.0035\n",
      "Epoch [200/200], Loss: 0.0015\n",
      "\n",
      "Training model for Kenya\n",
      "Epoch [50/200], Loss: 0.0056\n"
     ]
    },
    {
     "name": "stderr",
     "output_type": "stream",
     "text": [
      "/var/folders/31/w2zt100d46vbd05gsww_hqj00000gn/T/ipykernel_72576/1759004401.py:8: FutureWarning: Series.fillna with 'method' is deprecated and will raise in a future version. Use obj.ffill() or obj.bfill() instead.\n",
      "  country_data = pd.Series(country_data).replace('..', np.nan).fillna(method='ffill').values\n"
     ]
    },
    {
     "name": "stdout",
     "output_type": "stream",
     "text": [
      "Epoch [100/200], Loss: 0.0045\n",
      "Epoch [150/200], Loss: 0.0041\n",
      "Epoch [200/200], Loss: 0.0037\n",
      "\n",
      "Training model for Kiribati\n",
      "Epoch [50/200], Loss: 0.0189\n"
     ]
    },
    {
     "name": "stderr",
     "output_type": "stream",
     "text": [
      "/var/folders/31/w2zt100d46vbd05gsww_hqj00000gn/T/ipykernel_72576/1759004401.py:8: FutureWarning: Series.fillna with 'method' is deprecated and will raise in a future version. Use obj.ffill() or obj.bfill() instead.\n",
      "  country_data = pd.Series(country_data).replace('..', np.nan).fillna(method='ffill').values\n"
     ]
    },
    {
     "name": "stdout",
     "output_type": "stream",
     "text": [
      "Epoch [100/200], Loss: 0.0103\n",
      "Epoch [150/200], Loss: 0.0055\n",
      "Epoch [200/200], Loss: 0.0051\n",
      "\n",
      "Training model for Korea, Dem. People's Rep.\n",
      "Epoch [50/200], Loss: 0.0202\n"
     ]
    },
    {
     "name": "stderr",
     "output_type": "stream",
     "text": [
      "/var/folders/31/w2zt100d46vbd05gsww_hqj00000gn/T/ipykernel_72576/1759004401.py:8: FutureWarning: Series.fillna with 'method' is deprecated and will raise in a future version. Use obj.ffill() or obj.bfill() instead.\n",
      "  country_data = pd.Series(country_data).replace('..', np.nan).fillna(method='ffill').values\n"
     ]
    },
    {
     "name": "stdout",
     "output_type": "stream",
     "text": [
      "Epoch [100/200], Loss: 0.0072\n",
      "Epoch [150/200], Loss: 0.0061\n",
      "Epoch [200/200], Loss: 0.0058\n",
      "\n",
      "Training model for Korea, Rep.\n",
      "Epoch [50/200], Loss: 0.0007\n"
     ]
    },
    {
     "name": "stderr",
     "output_type": "stream",
     "text": [
      "/var/folders/31/w2zt100d46vbd05gsww_hqj00000gn/T/ipykernel_72576/1759004401.py:8: FutureWarning: Series.fillna with 'method' is deprecated and will raise in a future version. Use obj.ffill() or obj.bfill() instead.\n",
      "  country_data = pd.Series(country_data).replace('..', np.nan).fillna(method='ffill').values\n"
     ]
    },
    {
     "name": "stdout",
     "output_type": "stream",
     "text": [
      "Epoch [100/200], Loss: 0.0003\n",
      "Epoch [150/200], Loss: 0.0003\n",
      "Epoch [200/200], Loss: 0.0004\n",
      "\n",
      "Training model for Kosovo\n",
      "Epoch [50/200], Loss: 0.0546\n"
     ]
    },
    {
     "name": "stderr",
     "output_type": "stream",
     "text": [
      "/var/folders/31/w2zt100d46vbd05gsww_hqj00000gn/T/ipykernel_72576/1759004401.py:8: FutureWarning: Series.fillna with 'method' is deprecated and will raise in a future version. Use obj.ffill() or obj.bfill() instead.\n",
      "  country_data = pd.Series(country_data).replace('..', np.nan).fillna(method='ffill').values\n"
     ]
    },
    {
     "name": "stdout",
     "output_type": "stream",
     "text": [
      "Epoch [100/200], Loss: 0.0276\n",
      "Epoch [150/200], Loss: 0.0236\n",
      "Epoch [200/200], Loss: 0.0187\n",
      "\n",
      "Training model for Kuwait\n",
      "Epoch [50/200], Loss: 0.0231\n"
     ]
    },
    {
     "name": "stderr",
     "output_type": "stream",
     "text": [
      "/var/folders/31/w2zt100d46vbd05gsww_hqj00000gn/T/ipykernel_72576/1759004401.py:8: FutureWarning: Series.fillna with 'method' is deprecated and will raise in a future version. Use obj.ffill() or obj.bfill() instead.\n",
      "  country_data = pd.Series(country_data).replace('..', np.nan).fillna(method='ffill').values\n"
     ]
    },
    {
     "name": "stdout",
     "output_type": "stream",
     "text": [
      "Epoch [100/200], Loss: 0.0203\n",
      "Epoch [150/200], Loss: 0.0131\n",
      "Epoch [200/200], Loss: 0.0072\n",
      "\n",
      "Training model for Kyrgyz Republic\n",
      "Epoch [50/200], Loss: 0.0246\n"
     ]
    },
    {
     "name": "stderr",
     "output_type": "stream",
     "text": [
      "/var/folders/31/w2zt100d46vbd05gsww_hqj00000gn/T/ipykernel_72576/1759004401.py:8: FutureWarning: Series.fillna with 'method' is deprecated and will raise in a future version. Use obj.ffill() or obj.bfill() instead.\n",
      "  country_data = pd.Series(country_data).replace('..', np.nan).fillna(method='ffill').values\n"
     ]
    },
    {
     "name": "stdout",
     "output_type": "stream",
     "text": [
      "Epoch [100/200], Loss: 0.0050\n",
      "Epoch [150/200], Loss: 0.0038\n",
      "Epoch [200/200], Loss: 0.0035\n",
      "\n",
      "Training model for Lao PDR\n"
     ]
    },
    {
     "name": "stderr",
     "output_type": "stream",
     "text": [
      "/var/folders/31/w2zt100d46vbd05gsww_hqj00000gn/T/ipykernel_72576/1759004401.py:8: FutureWarning: Series.fillna with 'method' is deprecated and will raise in a future version. Use obj.ffill() or obj.bfill() instead.\n",
      "  country_data = pd.Series(country_data).replace('..', np.nan).fillna(method='ffill').values\n"
     ]
    },
    {
     "name": "stdout",
     "output_type": "stream",
     "text": [
      "Epoch [50/200], Loss: 0.0010\n",
      "Epoch [100/200], Loss: 0.0002\n",
      "Epoch [150/200], Loss: 0.0002\n",
      "Epoch [200/200], Loss: 0.0002\n",
      "\n",
      "Training model for Latvia\n",
      "Epoch [50/200], Loss: 0.0113\n"
     ]
    },
    {
     "name": "stderr",
     "output_type": "stream",
     "text": [
      "/var/folders/31/w2zt100d46vbd05gsww_hqj00000gn/T/ipykernel_72576/1759004401.py:8: FutureWarning: Series.fillna with 'method' is deprecated and will raise in a future version. Use obj.ffill() or obj.bfill() instead.\n",
      "  country_data = pd.Series(country_data).replace('..', np.nan).fillna(method='ffill').values\n"
     ]
    },
    {
     "name": "stdout",
     "output_type": "stream",
     "text": [
      "Epoch [100/200], Loss: 0.0095\n",
      "Epoch [150/200], Loss: 0.0072\n",
      "Epoch [200/200], Loss: 0.0045\n",
      "\n",
      "Training model for Lebanon\n",
      "Epoch [50/200], Loss: 0.0189\n"
     ]
    },
    {
     "name": "stderr",
     "output_type": "stream",
     "text": [
      "/var/folders/31/w2zt100d46vbd05gsww_hqj00000gn/T/ipykernel_72576/1759004401.py:8: FutureWarning: Series.fillna with 'method' is deprecated and will raise in a future version. Use obj.ffill() or obj.bfill() instead.\n",
      "  country_data = pd.Series(country_data).replace('..', np.nan).fillna(method='ffill').values\n"
     ]
    },
    {
     "name": "stdout",
     "output_type": "stream",
     "text": [
      "Epoch [100/200], Loss: 0.0173\n",
      "Epoch [150/200], Loss: 0.0175\n",
      "Epoch [200/200], Loss: 0.0168\n",
      "\n",
      "Training model for Lesotho\n",
      "Epoch [50/200], Loss: 0.0114\n"
     ]
    },
    {
     "name": "stderr",
     "output_type": "stream",
     "text": [
      "/var/folders/31/w2zt100d46vbd05gsww_hqj00000gn/T/ipykernel_72576/1759004401.py:8: FutureWarning: Series.fillna with 'method' is deprecated and will raise in a future version. Use obj.ffill() or obj.bfill() instead.\n",
      "  country_data = pd.Series(country_data).replace('..', np.nan).fillna(method='ffill').values\n"
     ]
    },
    {
     "name": "stdout",
     "output_type": "stream",
     "text": [
      "Epoch [100/200], Loss: 0.0072\n",
      "Epoch [150/200], Loss: 0.0062\n",
      "Epoch [200/200], Loss: 0.0038\n",
      "\n",
      "Training model for Liberia\n",
      "Epoch [50/200], Loss: 0.0429\n"
     ]
    },
    {
     "name": "stderr",
     "output_type": "stream",
     "text": [
      "/var/folders/31/w2zt100d46vbd05gsww_hqj00000gn/T/ipykernel_72576/1759004401.py:8: FutureWarning: Series.fillna with 'method' is deprecated and will raise in a future version. Use obj.ffill() or obj.bfill() instead.\n",
      "  country_data = pd.Series(country_data).replace('..', np.nan).fillna(method='ffill').values\n"
     ]
    },
    {
     "name": "stdout",
     "output_type": "stream",
     "text": [
      "Epoch [100/200], Loss: 0.0118\n",
      "Epoch [150/200], Loss: 0.0111\n",
      "Epoch [200/200], Loss: 0.0068\n",
      "\n",
      "Training model for Libya\n",
      "Epoch [50/200], Loss: 0.0616\n"
     ]
    },
    {
     "name": "stderr",
     "output_type": "stream",
     "text": [
      "/var/folders/31/w2zt100d46vbd05gsww_hqj00000gn/T/ipykernel_72576/1759004401.py:8: FutureWarning: Series.fillna with 'method' is deprecated and will raise in a future version. Use obj.ffill() or obj.bfill() instead.\n",
      "  country_data = pd.Series(country_data).replace('..', np.nan).fillna(method='ffill').values\n"
     ]
    },
    {
     "name": "stdout",
     "output_type": "stream",
     "text": [
      "Epoch [100/200], Loss: 0.0515\n",
      "Epoch [150/200], Loss: 0.0491\n",
      "Epoch [200/200], Loss: 0.0566\n",
      "\n",
      "Training model for Liechtenstein\n"
     ]
    },
    {
     "name": "stderr",
     "output_type": "stream",
     "text": [
      "/var/folders/31/w2zt100d46vbd05gsww_hqj00000gn/T/ipykernel_72576/1759004401.py:8: FutureWarning: Series.fillna with 'method' is deprecated and will raise in a future version. Use obj.ffill() or obj.bfill() instead.\n",
      "  country_data = pd.Series(country_data).replace('..', np.nan).fillna(method='ffill').values\n"
     ]
    },
    {
     "name": "stdout",
     "output_type": "stream",
     "text": [
      "Epoch [50/200], Loss: 0.0455\n",
      "Epoch [100/200], Loss: 0.0451\n",
      "Epoch [150/200], Loss: 0.0449\n",
      "Epoch [200/200], Loss: 0.0286\n",
      "\n",
      "Training model for Lithuania\n"
     ]
    },
    {
     "name": "stderr",
     "output_type": "stream",
     "text": [
      "/var/folders/31/w2zt100d46vbd05gsww_hqj00000gn/T/ipykernel_72576/1759004401.py:8: FutureWarning: Series.fillna with 'method' is deprecated and will raise in a future version. Use obj.ffill() or obj.bfill() instead.\n",
      "  country_data = pd.Series(country_data).replace('..', np.nan).fillna(method='ffill').values\n"
     ]
    },
    {
     "name": "stdout",
     "output_type": "stream",
     "text": [
      "Epoch [50/200], Loss: 0.0066\n",
      "Epoch [100/200], Loss: 0.0050\n",
      "Epoch [150/200], Loss: 0.0046\n",
      "Epoch [200/200], Loss: 0.0034\n",
      "\n",
      "Training model for Luxembourg\n"
     ]
    },
    {
     "name": "stderr",
     "output_type": "stream",
     "text": [
      "/var/folders/31/w2zt100d46vbd05gsww_hqj00000gn/T/ipykernel_72576/1759004401.py:8: FutureWarning: Series.fillna with 'method' is deprecated and will raise in a future version. Use obj.ffill() or obj.bfill() instead.\n",
      "  country_data = pd.Series(country_data).replace('..', np.nan).fillna(method='ffill').values\n"
     ]
    },
    {
     "name": "stdout",
     "output_type": "stream",
     "text": [
      "Epoch [50/200], Loss: 0.0076\n",
      "Epoch [100/200], Loss: 0.0055\n",
      "Epoch [150/200], Loss: 0.0032\n",
      "Epoch [200/200], Loss: 0.0035\n",
      "\n",
      "Training model for Macao SAR, China\n"
     ]
    },
    {
     "name": "stderr",
     "output_type": "stream",
     "text": [
      "/var/folders/31/w2zt100d46vbd05gsww_hqj00000gn/T/ipykernel_72576/1759004401.py:8: FutureWarning: Series.fillna with 'method' is deprecated and will raise in a future version. Use obj.ffill() or obj.bfill() instead.\n",
      "  country_data = pd.Series(country_data).replace('..', np.nan).fillna(method='ffill').values\n"
     ]
    },
    {
     "name": "stdout",
     "output_type": "stream",
     "text": [
      "Epoch [50/200], Loss: 0.0596\n",
      "Epoch [100/200], Loss: 0.0338\n",
      "Epoch [150/200], Loss: 0.0236\n",
      "Epoch [200/200], Loss: 0.0201\n",
      "\n",
      "Training model for Madagascar\n"
     ]
    },
    {
     "name": "stderr",
     "output_type": "stream",
     "text": [
      "/var/folders/31/w2zt100d46vbd05gsww_hqj00000gn/T/ipykernel_72576/1759004401.py:8: FutureWarning: Series.fillna with 'method' is deprecated and will raise in a future version. Use obj.ffill() or obj.bfill() instead.\n",
      "  country_data = pd.Series(country_data).replace('..', np.nan).fillna(method='ffill').values\n"
     ]
    },
    {
     "name": "stdout",
     "output_type": "stream",
     "text": [
      "Epoch [50/200], Loss: 0.0161\n",
      "Epoch [100/200], Loss: 0.0128\n",
      "Epoch [150/200], Loss: 0.0126\n",
      "Epoch [200/200], Loss: 0.0148\n",
      "\n",
      "Training model for Malawi\n"
     ]
    },
    {
     "name": "stderr",
     "output_type": "stream",
     "text": [
      "/var/folders/31/w2zt100d46vbd05gsww_hqj00000gn/T/ipykernel_72576/1759004401.py:8: FutureWarning: Series.fillna with 'method' is deprecated and will raise in a future version. Use obj.ffill() or obj.bfill() instead.\n",
      "  country_data = pd.Series(country_data).replace('..', np.nan).fillna(method='ffill').values\n"
     ]
    },
    {
     "name": "stdout",
     "output_type": "stream",
     "text": [
      "Epoch [50/200], Loss: 0.0106\n",
      "Epoch [100/200], Loss: 0.0090\n",
      "Epoch [150/200], Loss: 0.0085\n",
      "Epoch [200/200], Loss: 0.0052\n",
      "\n",
      "Training model for Malaysia\n"
     ]
    },
    {
     "name": "stderr",
     "output_type": "stream",
     "text": [
      "/var/folders/31/w2zt100d46vbd05gsww_hqj00000gn/T/ipykernel_72576/1759004401.py:8: FutureWarning: Series.fillna with 'method' is deprecated and will raise in a future version. Use obj.ffill() or obj.bfill() instead.\n",
      "  country_data = pd.Series(country_data).replace('..', np.nan).fillna(method='ffill').values\n"
     ]
    },
    {
     "name": "stdout",
     "output_type": "stream",
     "text": [
      "Epoch [50/200], Loss: 0.0027\n",
      "Epoch [100/200], Loss: 0.0030\n",
      "Epoch [150/200], Loss: 0.0021\n",
      "Epoch [200/200], Loss: 0.0019\n",
      "\n",
      "Training model for Maldives\n"
     ]
    },
    {
     "name": "stderr",
     "output_type": "stream",
     "text": [
      "/var/folders/31/w2zt100d46vbd05gsww_hqj00000gn/T/ipykernel_72576/1759004401.py:8: FutureWarning: Series.fillna with 'method' is deprecated and will raise in a future version. Use obj.ffill() or obj.bfill() instead.\n",
      "  country_data = pd.Series(country_data).replace('..', np.nan).fillna(method='ffill').values\n"
     ]
    },
    {
     "name": "stdout",
     "output_type": "stream",
     "text": [
      "Epoch [50/200], Loss: 0.0130\n",
      "Epoch [100/200], Loss: 0.0130\n",
      "Epoch [150/200], Loss: 0.0119\n",
      "Epoch [200/200], Loss: 0.0145\n",
      "\n",
      "Training model for Mali\n"
     ]
    },
    {
     "name": "stderr",
     "output_type": "stream",
     "text": [
      "/var/folders/31/w2zt100d46vbd05gsww_hqj00000gn/T/ipykernel_72576/1759004401.py:8: FutureWarning: Series.fillna with 'method' is deprecated and will raise in a future version. Use obj.ffill() or obj.bfill() instead.\n",
      "  country_data = pd.Series(country_data).replace('..', np.nan).fillna(method='ffill').values\n"
     ]
    },
    {
     "name": "stdout",
     "output_type": "stream",
     "text": [
      "Epoch [50/200], Loss: 0.0069\n",
      "Epoch [100/200], Loss: 0.0052\n",
      "Epoch [150/200], Loss: 0.0045\n",
      "Epoch [200/200], Loss: 0.0043\n",
      "\n",
      "Training model for Malta\n"
     ]
    },
    {
     "name": "stderr",
     "output_type": "stream",
     "text": [
      "/var/folders/31/w2zt100d46vbd05gsww_hqj00000gn/T/ipykernel_72576/1759004401.py:8: FutureWarning: Series.fillna with 'method' is deprecated and will raise in a future version. Use obj.ffill() or obj.bfill() instead.\n",
      "  country_data = pd.Series(country_data).replace('..', np.nan).fillna(method='ffill').values\n"
     ]
    },
    {
     "name": "stdout",
     "output_type": "stream",
     "text": [
      "Epoch [50/200], Loss: 0.0025\n",
      "Epoch [100/200], Loss: 0.0021\n",
      "Epoch [150/200], Loss: 0.0025\n",
      "Epoch [200/200], Loss: 0.0021\n",
      "\n",
      "Training model for Marshall Islands\n"
     ]
    },
    {
     "name": "stderr",
     "output_type": "stream",
     "text": [
      "/var/folders/31/w2zt100d46vbd05gsww_hqj00000gn/T/ipykernel_72576/1759004401.py:8: FutureWarning: Series.fillna with 'method' is deprecated and will raise in a future version. Use obj.ffill() or obj.bfill() instead.\n",
      "  country_data = pd.Series(country_data).replace('..', np.nan).fillna(method='ffill').values\n"
     ]
    },
    {
     "name": "stdout",
     "output_type": "stream",
     "text": [
      "Epoch [50/200], Loss: 0.0185\n",
      "Epoch [100/200], Loss: 0.0111\n",
      "Epoch [150/200], Loss: 0.0068\n",
      "Epoch [200/200], Loss: 0.0051\n",
      "\n",
      "Training model for Mauritania\n"
     ]
    },
    {
     "name": "stderr",
     "output_type": "stream",
     "text": [
      "/var/folders/31/w2zt100d46vbd05gsww_hqj00000gn/T/ipykernel_72576/1759004401.py:8: FutureWarning: Series.fillna with 'method' is deprecated and will raise in a future version. Use obj.ffill() or obj.bfill() instead.\n",
      "  country_data = pd.Series(country_data).replace('..', np.nan).fillna(method='ffill').values\n"
     ]
    },
    {
     "name": "stdout",
     "output_type": "stream",
     "text": [
      "Epoch [50/200], Loss: 0.0428\n",
      "Epoch [100/200], Loss: 0.0310\n",
      "Epoch [150/200], Loss: 0.0210\n",
      "Epoch [200/200], Loss: 0.0190\n",
      "\n",
      "Training model for Mauritius\n"
     ]
    },
    {
     "name": "stderr",
     "output_type": "stream",
     "text": [
      "/var/folders/31/w2zt100d46vbd05gsww_hqj00000gn/T/ipykernel_72576/1759004401.py:8: FutureWarning: Series.fillna with 'method' is deprecated and will raise in a future version. Use obj.ffill() or obj.bfill() instead.\n",
      "  country_data = pd.Series(country_data).replace('..', np.nan).fillna(method='ffill').values\n"
     ]
    },
    {
     "name": "stdout",
     "output_type": "stream",
     "text": [
      "Epoch [50/200], Loss: 0.0056\n",
      "Epoch [100/200], Loss: 0.0023\n",
      "Epoch [150/200], Loss: 0.0028\n",
      "Epoch [200/200], Loss: 0.0025\n",
      "\n",
      "Training model for Mexico\n"
     ]
    },
    {
     "name": "stderr",
     "output_type": "stream",
     "text": [
      "/var/folders/31/w2zt100d46vbd05gsww_hqj00000gn/T/ipykernel_72576/1759004401.py:8: FutureWarning: Series.fillna with 'method' is deprecated and will raise in a future version. Use obj.ffill() or obj.bfill() instead.\n",
      "  country_data = pd.Series(country_data).replace('..', np.nan).fillna(method='ffill').values\n"
     ]
    },
    {
     "name": "stdout",
     "output_type": "stream",
     "text": [
      "Epoch [50/200], Loss: 0.0253\n",
      "Epoch [100/200], Loss: 0.0235\n",
      "Epoch [150/200], Loss: 0.0252\n",
      "Epoch [200/200], Loss: 0.0242\n",
      "\n",
      "Training model for Micronesia, Fed. Sts.\n"
     ]
    },
    {
     "name": "stderr",
     "output_type": "stream",
     "text": [
      "/var/folders/31/w2zt100d46vbd05gsww_hqj00000gn/T/ipykernel_72576/1759004401.py:8: FutureWarning: Series.fillna with 'method' is deprecated and will raise in a future version. Use obj.ffill() or obj.bfill() instead.\n",
      "  country_data = pd.Series(country_data).replace('..', np.nan).fillna(method='ffill').values\n"
     ]
    },
    {
     "name": "stdout",
     "output_type": "stream",
     "text": [
      "Epoch [50/200], Loss: 0.0203\n",
      "Epoch [100/200], Loss: 0.0174\n",
      "Epoch [150/200], Loss: 0.0193\n",
      "Epoch [200/200], Loss: 0.0172\n",
      "\n",
      "Training model for Moldova\n",
      "Epoch [50/200], Loss: 0.0181\n"
     ]
    },
    {
     "name": "stderr",
     "output_type": "stream",
     "text": [
      "/var/folders/31/w2zt100d46vbd05gsww_hqj00000gn/T/ipykernel_72576/1759004401.py:8: FutureWarning: Series.fillna with 'method' is deprecated and will raise in a future version. Use obj.ffill() or obj.bfill() instead.\n",
      "  country_data = pd.Series(country_data).replace('..', np.nan).fillna(method='ffill').values\n"
     ]
    },
    {
     "name": "stdout",
     "output_type": "stream",
     "text": [
      "Epoch [100/200], Loss: 0.0038\n",
      "Epoch [150/200], Loss: 0.0025\n",
      "Epoch [200/200], Loss: 0.0020\n",
      "\n",
      "Training model for Monaco\n",
      "Epoch [50/200], Loss: 0.0103\n"
     ]
    },
    {
     "name": "stderr",
     "output_type": "stream",
     "text": [
      "/var/folders/31/w2zt100d46vbd05gsww_hqj00000gn/T/ipykernel_72576/1759004401.py:8: FutureWarning: Series.fillna with 'method' is deprecated and will raise in a future version. Use obj.ffill() or obj.bfill() instead.\n",
      "  country_data = pd.Series(country_data).replace('..', np.nan).fillna(method='ffill').values\n"
     ]
    },
    {
     "name": "stdout",
     "output_type": "stream",
     "text": [
      "Epoch [100/200], Loss: 0.0095\n",
      "Epoch [150/200], Loss: 0.0090\n",
      "Epoch [200/200], Loss: 0.0124\n",
      "\n",
      "Training model for Mongolia\n",
      "Epoch [50/200], Loss: 0.0076\n"
     ]
    },
    {
     "name": "stderr",
     "output_type": "stream",
     "text": [
      "/var/folders/31/w2zt100d46vbd05gsww_hqj00000gn/T/ipykernel_72576/1759004401.py:8: FutureWarning: Series.fillna with 'method' is deprecated and will raise in a future version. Use obj.ffill() or obj.bfill() instead.\n",
      "  country_data = pd.Series(country_data).replace('..', np.nan).fillna(method='ffill').values\n"
     ]
    },
    {
     "name": "stdout",
     "output_type": "stream",
     "text": [
      "Epoch [100/200], Loss: 0.0026\n",
      "Epoch [150/200], Loss: 0.0023\n",
      "Epoch [200/200], Loss: 0.0026\n",
      "\n",
      "Training model for Montenegro\n",
      "Epoch [50/200], Loss: 0.0092\n"
     ]
    },
    {
     "name": "stderr",
     "output_type": "stream",
     "text": [
      "/var/folders/31/w2zt100d46vbd05gsww_hqj00000gn/T/ipykernel_72576/1759004401.py:8: FutureWarning: Series.fillna with 'method' is deprecated and will raise in a future version. Use obj.ffill() or obj.bfill() instead.\n",
      "  country_data = pd.Series(country_data).replace('..', np.nan).fillna(method='ffill').values\n"
     ]
    },
    {
     "name": "stdout",
     "output_type": "stream",
     "text": [
      "Epoch [100/200], Loss: 0.0100\n",
      "Epoch [150/200], Loss: 0.0091\n",
      "Epoch [200/200], Loss: 0.0089\n",
      "\n",
      "Training model for Morocco\n",
      "Epoch [50/200], Loss: 0.0044\n"
     ]
    },
    {
     "name": "stderr",
     "output_type": "stream",
     "text": [
      "/var/folders/31/w2zt100d46vbd05gsww_hqj00000gn/T/ipykernel_72576/1759004401.py:8: FutureWarning: Series.fillna with 'method' is deprecated and will raise in a future version. Use obj.ffill() or obj.bfill() instead.\n",
      "  country_data = pd.Series(country_data).replace('..', np.nan).fillna(method='ffill').values\n"
     ]
    },
    {
     "name": "stdout",
     "output_type": "stream",
     "text": [
      "Epoch [100/200], Loss: 0.0015\n",
      "Epoch [150/200], Loss: 0.0012\n",
      "Epoch [200/200], Loss: 0.0014\n",
      "\n",
      "Training model for Mozambique\n",
      "Epoch [50/200], Loss: 0.0058\n"
     ]
    },
    {
     "name": "stderr",
     "output_type": "stream",
     "text": [
      "/var/folders/31/w2zt100d46vbd05gsww_hqj00000gn/T/ipykernel_72576/1759004401.py:8: FutureWarning: Series.fillna with 'method' is deprecated and will raise in a future version. Use obj.ffill() or obj.bfill() instead.\n",
      "  country_data = pd.Series(country_data).replace('..', np.nan).fillna(method='ffill').values\n"
     ]
    },
    {
     "name": "stdout",
     "output_type": "stream",
     "text": [
      "Epoch [100/200], Loss: 0.0022\n",
      "Epoch [150/200], Loss: 0.0019\n",
      "Epoch [200/200], Loss: 0.0021\n",
      "\n",
      "Training model for Myanmar\n",
      "Epoch [50/200], Loss: 0.0075\n"
     ]
    },
    {
     "name": "stderr",
     "output_type": "stream",
     "text": [
      "/var/folders/31/w2zt100d46vbd05gsww_hqj00000gn/T/ipykernel_72576/1759004401.py:8: FutureWarning: Series.fillna with 'method' is deprecated and will raise in a future version. Use obj.ffill() or obj.bfill() instead.\n",
      "  country_data = pd.Series(country_data).replace('..', np.nan).fillna(method='ffill').values\n"
     ]
    },
    {
     "name": "stdout",
     "output_type": "stream",
     "text": [
      "Epoch [100/200], Loss: 0.0032\n",
      "Epoch [150/200], Loss: 0.0025\n",
      "Epoch [200/200], Loss: 0.0027\n",
      "\n",
      "Training model for Namibia\n"
     ]
    },
    {
     "name": "stderr",
     "output_type": "stream",
     "text": [
      "/var/folders/31/w2zt100d46vbd05gsww_hqj00000gn/T/ipykernel_72576/1759004401.py:8: FutureWarning: Series.fillna with 'method' is deprecated and will raise in a future version. Use obj.ffill() or obj.bfill() instead.\n",
      "  country_data = pd.Series(country_data).replace('..', np.nan).fillna(method='ffill').values\n"
     ]
    },
    {
     "name": "stdout",
     "output_type": "stream",
     "text": [
      "Epoch [50/200], Loss: 0.0246\n",
      "Epoch [100/200], Loss: 0.0160\n",
      "Epoch [150/200], Loss: 0.0050\n",
      "Epoch [200/200], Loss: 0.0045\n",
      "\n",
      "Training model for Nauru\n"
     ]
    },
    {
     "name": "stderr",
     "output_type": "stream",
     "text": [
      "/var/folders/31/w2zt100d46vbd05gsww_hqj00000gn/T/ipykernel_72576/1759004401.py:8: FutureWarning: Series.fillna with 'method' is deprecated and will raise in a future version. Use obj.ffill() or obj.bfill() instead.\n",
      "  country_data = pd.Series(country_data).replace('..', np.nan).fillna(method='ffill').values\n"
     ]
    },
    {
     "name": "stdout",
     "output_type": "stream",
     "text": [
      "Epoch [50/200], Loss: 0.0041\n",
      "Epoch [100/200], Loss: 0.0029\n",
      "Epoch [150/200], Loss: 0.0008\n",
      "Epoch [200/200], Loss: 0.0007\n",
      "\n",
      "Training model for Nepal\n"
     ]
    },
    {
     "name": "stderr",
     "output_type": "stream",
     "text": [
      "/var/folders/31/w2zt100d46vbd05gsww_hqj00000gn/T/ipykernel_72576/1759004401.py:8: FutureWarning: Series.fillna with 'method' is deprecated and will raise in a future version. Use obj.ffill() or obj.bfill() instead.\n",
      "  country_data = pd.Series(country_data).replace('..', np.nan).fillna(method='ffill').values\n"
     ]
    },
    {
     "name": "stdout",
     "output_type": "stream",
     "text": [
      "Epoch [50/200], Loss: 0.0012\n",
      "Epoch [100/200], Loss: 0.0007\n",
      "Epoch [150/200], Loss: 0.0007\n",
      "Epoch [200/200], Loss: 0.0008\n",
      "\n",
      "Training model for Netherlands\n"
     ]
    },
    {
     "name": "stderr",
     "output_type": "stream",
     "text": [
      "/var/folders/31/w2zt100d46vbd05gsww_hqj00000gn/T/ipykernel_72576/1759004401.py:8: FutureWarning: Series.fillna with 'method' is deprecated and will raise in a future version. Use obj.ffill() or obj.bfill() instead.\n",
      "  country_data = pd.Series(country_data).replace('..', np.nan).fillna(method='ffill').values\n"
     ]
    },
    {
     "name": "stdout",
     "output_type": "stream",
     "text": [
      "Epoch [50/200], Loss: 0.0044\n",
      "Epoch [100/200], Loss: 0.0045\n",
      "Epoch [150/200], Loss: 0.0040\n",
      "Epoch [200/200], Loss: 0.0040\n",
      "\n",
      "Training model for New Caledonia\n"
     ]
    },
    {
     "name": "stderr",
     "output_type": "stream",
     "text": [
      "/var/folders/31/w2zt100d46vbd05gsww_hqj00000gn/T/ipykernel_72576/1759004401.py:8: FutureWarning: Series.fillna with 'method' is deprecated and will raise in a future version. Use obj.ffill() or obj.bfill() instead.\n",
      "  country_data = pd.Series(country_data).replace('..', np.nan).fillna(method='ffill').values\n"
     ]
    },
    {
     "name": "stdout",
     "output_type": "stream",
     "text": [
      "Epoch [50/200], Loss: 0.0271\n",
      "Epoch [100/200], Loss: 0.0259\n",
      "Epoch [150/200], Loss: 0.0370\n",
      "Epoch [200/200], Loss: 0.0247\n",
      "\n",
      "Training model for New Zealand\n"
     ]
    },
    {
     "name": "stderr",
     "output_type": "stream",
     "text": [
      "/var/folders/31/w2zt100d46vbd05gsww_hqj00000gn/T/ipykernel_72576/1759004401.py:8: FutureWarning: Series.fillna with 'method' is deprecated and will raise in a future version. Use obj.ffill() or obj.bfill() instead.\n",
      "  country_data = pd.Series(country_data).replace('..', np.nan).fillna(method='ffill').values\n"
     ]
    },
    {
     "name": "stdout",
     "output_type": "stream",
     "text": [
      "Epoch [50/200], Loss: 0.0032\n",
      "Epoch [100/200], Loss: 0.0025\n",
      "Epoch [150/200], Loss: 0.0025\n",
      "Epoch [200/200], Loss: 0.0023\n",
      "\n",
      "Training model for Nicaragua\n"
     ]
    },
    {
     "name": "stderr",
     "output_type": "stream",
     "text": [
      "/var/folders/31/w2zt100d46vbd05gsww_hqj00000gn/T/ipykernel_72576/1759004401.py:8: FutureWarning: Series.fillna with 'method' is deprecated and will raise in a future version. Use obj.ffill() or obj.bfill() instead.\n",
      "  country_data = pd.Series(country_data).replace('..', np.nan).fillna(method='ffill').values\n"
     ]
    },
    {
     "name": "stdout",
     "output_type": "stream",
     "text": [
      "Epoch [50/200], Loss: 0.0083\n",
      "Epoch [100/200], Loss: 0.0056\n",
      "Epoch [150/200], Loss: 0.0050\n",
      "Epoch [200/200], Loss: 0.0048\n",
      "\n",
      "Training model for Niger\n"
     ]
    },
    {
     "name": "stderr",
     "output_type": "stream",
     "text": [
      "/var/folders/31/w2zt100d46vbd05gsww_hqj00000gn/T/ipykernel_72576/1759004401.py:8: FutureWarning: Series.fillna with 'method' is deprecated and will raise in a future version. Use obj.ffill() or obj.bfill() instead.\n",
      "  country_data = pd.Series(country_data).replace('..', np.nan).fillna(method='ffill').values\n"
     ]
    },
    {
     "name": "stdout",
     "output_type": "stream",
     "text": [
      "Epoch [50/200], Loss: 0.0125\n",
      "Epoch [100/200], Loss: 0.0107\n",
      "Epoch [150/200], Loss: 0.0077\n",
      "Epoch [200/200], Loss: 0.0056\n",
      "\n",
      "Training model for Nigeria\n"
     ]
    },
    {
     "name": "stderr",
     "output_type": "stream",
     "text": [
      "/var/folders/31/w2zt100d46vbd05gsww_hqj00000gn/T/ipykernel_72576/1759004401.py:8: FutureWarning: Series.fillna with 'method' is deprecated and will raise in a future version. Use obj.ffill() or obj.bfill() instead.\n",
      "  country_data = pd.Series(country_data).replace('..', np.nan).fillna(method='ffill').values\n"
     ]
    },
    {
     "name": "stdout",
     "output_type": "stream",
     "text": [
      "Epoch [50/200], Loss: 0.0167\n",
      "Epoch [100/200], Loss: 0.0113\n",
      "Epoch [150/200], Loss: 0.0069\n",
      "Epoch [200/200], Loss: 0.0045\n",
      "\n",
      "Training model for North Macedonia\n"
     ]
    },
    {
     "name": "stderr",
     "output_type": "stream",
     "text": [
      "/var/folders/31/w2zt100d46vbd05gsww_hqj00000gn/T/ipykernel_72576/1759004401.py:8: FutureWarning: Series.fillna with 'method' is deprecated and will raise in a future version. Use obj.ffill() or obj.bfill() instead.\n",
      "  country_data = pd.Series(country_data).replace('..', np.nan).fillna(method='ffill').values\n"
     ]
    },
    {
     "name": "stdout",
     "output_type": "stream",
     "text": [
      "Epoch [50/200], Loss: 0.0055\n",
      "Epoch [100/200], Loss: 0.0034\n",
      "Epoch [150/200], Loss: 0.0037\n",
      "Epoch [200/200], Loss: 0.0026\n",
      "\n",
      "Training model for Northern Mariana Islands\n",
      "Epoch [50/200], Loss: 0.0596\n"
     ]
    },
    {
     "name": "stderr",
     "output_type": "stream",
     "text": [
      "/var/folders/31/w2zt100d46vbd05gsww_hqj00000gn/T/ipykernel_72576/1759004401.py:8: FutureWarning: Series.fillna with 'method' is deprecated and will raise in a future version. Use obj.ffill() or obj.bfill() instead.\n",
      "  country_data = pd.Series(country_data).replace('..', np.nan).fillna(method='ffill').values\n"
     ]
    },
    {
     "name": "stdout",
     "output_type": "stream",
     "text": [
      "Epoch [100/200], Loss: 0.0470\n",
      "Epoch [150/200], Loss: 0.0379\n",
      "Epoch [200/200], Loss: 0.0408\n",
      "\n",
      "Training model for Norway\n",
      "Epoch [50/200], Loss: 0.0031\n"
     ]
    },
    {
     "name": "stderr",
     "output_type": "stream",
     "text": [
      "/var/folders/31/w2zt100d46vbd05gsww_hqj00000gn/T/ipykernel_72576/1759004401.py:8: FutureWarning: Series.fillna with 'method' is deprecated and will raise in a future version. Use obj.ffill() or obj.bfill() instead.\n",
      "  country_data = pd.Series(country_data).replace('..', np.nan).fillna(method='ffill').values\n"
     ]
    },
    {
     "name": "stdout",
     "output_type": "stream",
     "text": [
      "Epoch [100/200], Loss: 0.0026\n",
      "Epoch [150/200], Loss: 0.0025\n",
      "Epoch [200/200], Loss: 0.0031\n",
      "\n",
      "Training model for Oman\n",
      "Epoch [50/200], Loss: 0.0295\n"
     ]
    },
    {
     "name": "stderr",
     "output_type": "stream",
     "text": [
      "/var/folders/31/w2zt100d46vbd05gsww_hqj00000gn/T/ipykernel_72576/1759004401.py:8: FutureWarning: Series.fillna with 'method' is deprecated and will raise in a future version. Use obj.ffill() or obj.bfill() instead.\n",
      "  country_data = pd.Series(country_data).replace('..', np.nan).fillna(method='ffill').values\n"
     ]
    },
    {
     "name": "stdout",
     "output_type": "stream",
     "text": [
      "Epoch [100/200], Loss: 0.0118\n",
      "Epoch [150/200], Loss: 0.0099\n",
      "Epoch [200/200], Loss: 0.0072\n",
      "\n",
      "Training model for Pakistan\n",
      "Epoch [50/200], Loss: 0.0064\n"
     ]
    },
    {
     "name": "stderr",
     "output_type": "stream",
     "text": [
      "/var/folders/31/w2zt100d46vbd05gsww_hqj00000gn/T/ipykernel_72576/1759004401.py:8: FutureWarning: Series.fillna with 'method' is deprecated and will raise in a future version. Use obj.ffill() or obj.bfill() instead.\n",
      "  country_data = pd.Series(country_data).replace('..', np.nan).fillna(method='ffill').values\n"
     ]
    },
    {
     "name": "stdout",
     "output_type": "stream",
     "text": [
      "Epoch [100/200], Loss: 0.0051\n",
      "Epoch [150/200], Loss: 0.0049\n",
      "Epoch [200/200], Loss: 0.0044\n",
      "\n",
      "Training model for Palau\n",
      "Epoch [50/200], Loss: 0.0411\n"
     ]
    },
    {
     "name": "stderr",
     "output_type": "stream",
     "text": [
      "/var/folders/31/w2zt100d46vbd05gsww_hqj00000gn/T/ipykernel_72576/1759004401.py:8: FutureWarning: Series.fillna with 'method' is deprecated and will raise in a future version. Use obj.ffill() or obj.bfill() instead.\n",
      "  country_data = pd.Series(country_data).replace('..', np.nan).fillna(method='ffill').values\n"
     ]
    },
    {
     "name": "stdout",
     "output_type": "stream",
     "text": [
      "Epoch [100/200], Loss: 0.0316\n",
      "Epoch [150/200], Loss: 0.0178\n",
      "Epoch [200/200], Loss: 0.0127\n",
      "\n",
      "Training model for Panama\n",
      "Epoch [50/200], Loss: 0.0084\n"
     ]
    },
    {
     "name": "stderr",
     "output_type": "stream",
     "text": [
      "/var/folders/31/w2zt100d46vbd05gsww_hqj00000gn/T/ipykernel_72576/1759004401.py:8: FutureWarning: Series.fillna with 'method' is deprecated and will raise in a future version. Use obj.ffill() or obj.bfill() instead.\n",
      "  country_data = pd.Series(country_data).replace('..', np.nan).fillna(method='ffill').values\n"
     ]
    },
    {
     "name": "stdout",
     "output_type": "stream",
     "text": [
      "Epoch [100/200], Loss: 0.0038\n",
      "Epoch [150/200], Loss: 0.0035\n",
      "Epoch [200/200], Loss: 0.0048\n",
      "\n",
      "Training model for Papua New Guinea\n",
      "Epoch [50/200], Loss: 0.0461\n"
     ]
    },
    {
     "name": "stderr",
     "output_type": "stream",
     "text": [
      "/var/folders/31/w2zt100d46vbd05gsww_hqj00000gn/T/ipykernel_72576/1759004401.py:8: FutureWarning: Series.fillna with 'method' is deprecated and will raise in a future version. Use obj.ffill() or obj.bfill() instead.\n",
      "  country_data = pd.Series(country_data).replace('..', np.nan).fillna(method='ffill').values\n"
     ]
    },
    {
     "name": "stdout",
     "output_type": "stream",
     "text": [
      "Epoch [100/200], Loss: 0.0190\n",
      "Epoch [150/200], Loss: 0.0156\n",
      "Epoch [200/200], Loss: 0.0143\n",
      "\n",
      "Training model for Paraguay\n",
      "Epoch [50/200], Loss: 0.0136\n"
     ]
    },
    {
     "name": "stderr",
     "output_type": "stream",
     "text": [
      "/var/folders/31/w2zt100d46vbd05gsww_hqj00000gn/T/ipykernel_72576/1759004401.py:8: FutureWarning: Series.fillna with 'method' is deprecated and will raise in a future version. Use obj.ffill() or obj.bfill() instead.\n",
      "  country_data = pd.Series(country_data).replace('..', np.nan).fillna(method='ffill').values\n"
     ]
    },
    {
     "name": "stdout",
     "output_type": "stream",
     "text": [
      "Epoch [100/200], Loss: 0.0106\n",
      "Epoch [150/200], Loss: 0.0057\n",
      "Epoch [200/200], Loss: 0.0031\n",
      "\n",
      "Training model for Peru\n"
     ]
    },
    {
     "name": "stderr",
     "output_type": "stream",
     "text": [
      "/var/folders/31/w2zt100d46vbd05gsww_hqj00000gn/T/ipykernel_72576/1759004401.py:8: FutureWarning: Series.fillna with 'method' is deprecated and will raise in a future version. Use obj.ffill() or obj.bfill() instead.\n",
      "  country_data = pd.Series(country_data).replace('..', np.nan).fillna(method='ffill').values\n"
     ]
    },
    {
     "name": "stdout",
     "output_type": "stream",
     "text": [
      "Epoch [50/200], Loss: 0.0083\n",
      "Epoch [100/200], Loss: 0.0032\n",
      "Epoch [150/200], Loss: 0.0028\n",
      "Epoch [200/200], Loss: 0.0025\n",
      "\n",
      "Training model for Philippines\n"
     ]
    },
    {
     "name": "stderr",
     "output_type": "stream",
     "text": [
      "/var/folders/31/w2zt100d46vbd05gsww_hqj00000gn/T/ipykernel_72576/1759004401.py:8: FutureWarning: Series.fillna with 'method' is deprecated and will raise in a future version. Use obj.ffill() or obj.bfill() instead.\n",
      "  country_data = pd.Series(country_data).replace('..', np.nan).fillna(method='ffill').values\n"
     ]
    },
    {
     "name": "stdout",
     "output_type": "stream",
     "text": [
      "Epoch [50/200], Loss: 0.0060\n",
      "Epoch [100/200], Loss: 0.0024\n",
      "Epoch [150/200], Loss: 0.0023\n",
      "Epoch [200/200], Loss: 0.0025\n",
      "\n",
      "Training model for Poland\n"
     ]
    },
    {
     "name": "stderr",
     "output_type": "stream",
     "text": [
      "/var/folders/31/w2zt100d46vbd05gsww_hqj00000gn/T/ipykernel_72576/1759004401.py:8: FutureWarning: Series.fillna with 'method' is deprecated and will raise in a future version. Use obj.ffill() or obj.bfill() instead.\n",
      "  country_data = pd.Series(country_data).replace('..', np.nan).fillna(method='ffill').values\n"
     ]
    },
    {
     "name": "stdout",
     "output_type": "stream",
     "text": [
      "Epoch [50/200], Loss: 0.0011\n",
      "Epoch [100/200], Loss: 0.0008\n",
      "Epoch [150/200], Loss: 0.0007\n",
      "Epoch [200/200], Loss: 0.0008\n",
      "\n",
      "Training model for Portugal\n"
     ]
    },
    {
     "name": "stderr",
     "output_type": "stream",
     "text": [
      "/var/folders/31/w2zt100d46vbd05gsww_hqj00000gn/T/ipykernel_72576/1759004401.py:8: FutureWarning: Series.fillna with 'method' is deprecated and will raise in a future version. Use obj.ffill() or obj.bfill() instead.\n",
      "  country_data = pd.Series(country_data).replace('..', np.nan).fillna(method='ffill').values\n"
     ]
    },
    {
     "name": "stdout",
     "output_type": "stream",
     "text": [
      "Epoch [50/200], Loss: 0.0119\n",
      "Epoch [100/200], Loss: 0.0091\n",
      "Epoch [150/200], Loss: 0.0088\n",
      "Epoch [200/200], Loss: 0.0083\n",
      "\n",
      "Training model for Puerto Rico\n",
      "Epoch [50/200], Loss: 0.0083\n"
     ]
    },
    {
     "name": "stderr",
     "output_type": "stream",
     "text": [
      "/var/folders/31/w2zt100d46vbd05gsww_hqj00000gn/T/ipykernel_72576/1759004401.py:8: FutureWarning: Series.fillna with 'method' is deprecated and will raise in a future version. Use obj.ffill() or obj.bfill() instead.\n",
      "  country_data = pd.Series(country_data).replace('..', np.nan).fillna(method='ffill').values\n"
     ]
    },
    {
     "name": "stdout",
     "output_type": "stream",
     "text": [
      "Epoch [100/200], Loss: 0.0059\n",
      "Epoch [150/200], Loss: 0.0034\n",
      "Epoch [200/200], Loss: 0.0028\n",
      "\n",
      "Training model for Qatar\n",
      "Epoch [50/200], Loss: 0.0202\n"
     ]
    },
    {
     "name": "stderr",
     "output_type": "stream",
     "text": [
      "/var/folders/31/w2zt100d46vbd05gsww_hqj00000gn/T/ipykernel_72576/1759004401.py:8: FutureWarning: Series.fillna with 'method' is deprecated and will raise in a future version. Use obj.ffill() or obj.bfill() instead.\n",
      "  country_data = pd.Series(country_data).replace('..', np.nan).fillna(method='ffill').values\n"
     ]
    },
    {
     "name": "stdout",
     "output_type": "stream",
     "text": [
      "Epoch [100/200], Loss: 0.0167\n",
      "Epoch [150/200], Loss: 0.0124\n",
      "Epoch [200/200], Loss: 0.0112\n",
      "\n",
      "Training model for Romania\n",
      "Epoch [50/200], Loss: 0.0055\n"
     ]
    },
    {
     "name": "stderr",
     "output_type": "stream",
     "text": [
      "/var/folders/31/w2zt100d46vbd05gsww_hqj00000gn/T/ipykernel_72576/1759004401.py:8: FutureWarning: Series.fillna with 'method' is deprecated and will raise in a future version. Use obj.ffill() or obj.bfill() instead.\n",
      "  country_data = pd.Series(country_data).replace('..', np.nan).fillna(method='ffill').values\n"
     ]
    },
    {
     "name": "stdout",
     "output_type": "stream",
     "text": [
      "Epoch [100/200], Loss: 0.0050\n",
      "Epoch [150/200], Loss: 0.0041\n",
      "Epoch [200/200], Loss: 0.0041\n",
      "\n",
      "Training model for Russian Federation\n"
     ]
    },
    {
     "name": "stderr",
     "output_type": "stream",
     "text": [
      "/var/folders/31/w2zt100d46vbd05gsww_hqj00000gn/T/ipykernel_72576/1759004401.py:8: FutureWarning: Series.fillna with 'method' is deprecated and will raise in a future version. Use obj.ffill() or obj.bfill() instead.\n",
      "  country_data = pd.Series(country_data).replace('..', np.nan).fillna(method='ffill').values\n"
     ]
    },
    {
     "name": "stdout",
     "output_type": "stream",
     "text": [
      "Epoch [50/200], Loss: 0.0189\n",
      "Epoch [100/200], Loss: 0.0103\n",
      "Epoch [150/200], Loss: 0.0031\n",
      "Epoch [200/200], Loss: 0.0023\n",
      "\n",
      "Training model for Rwanda\n"
     ]
    },
    {
     "name": "stderr",
     "output_type": "stream",
     "text": [
      "/var/folders/31/w2zt100d46vbd05gsww_hqj00000gn/T/ipykernel_72576/1759004401.py:8: FutureWarning: Series.fillna with 'method' is deprecated and will raise in a future version. Use obj.ffill() or obj.bfill() instead.\n",
      "  country_data = pd.Series(country_data).replace('..', np.nan).fillna(method='ffill').values\n"
     ]
    },
    {
     "name": "stdout",
     "output_type": "stream",
     "text": [
      "Epoch [50/200], Loss: 0.0026\n",
      "Epoch [100/200], Loss: 0.0016\n",
      "Epoch [150/200], Loss: 0.0014\n",
      "Epoch [200/200], Loss: 0.0012\n",
      "\n",
      "Training model for Samoa\n"
     ]
    },
    {
     "name": "stderr",
     "output_type": "stream",
     "text": [
      "/var/folders/31/w2zt100d46vbd05gsww_hqj00000gn/T/ipykernel_72576/1759004401.py:8: FutureWarning: Series.fillna with 'method' is deprecated and will raise in a future version. Use obj.ffill() or obj.bfill() instead.\n",
      "  country_data = pd.Series(country_data).replace('..', np.nan).fillna(method='ffill').values\n"
     ]
    },
    {
     "name": "stdout",
     "output_type": "stream",
     "text": [
      "Epoch [50/200], Loss: 0.0123\n",
      "Epoch [100/200], Loss: 0.0085\n",
      "Epoch [150/200], Loss: 0.0063\n",
      "Epoch [200/200], Loss: 0.0064\n",
      "\n",
      "Training model for San Marino\n"
     ]
    },
    {
     "name": "stderr",
     "output_type": "stream",
     "text": [
      "/var/folders/31/w2zt100d46vbd05gsww_hqj00000gn/T/ipykernel_72576/1759004401.py:8: FutureWarning: Series.fillna with 'method' is deprecated and will raise in a future version. Use obj.ffill() or obj.bfill() instead.\n",
      "  country_data = pd.Series(country_data).replace('..', np.nan).fillna(method='ffill').values\n"
     ]
    },
    {
     "name": "stdout",
     "output_type": "stream",
     "text": [
      "Epoch [50/200], Loss: 0.0485\n",
      "Epoch [100/200], Loss: 0.0570\n",
      "Epoch [150/200], Loss: 0.0368\n",
      "Epoch [200/200], Loss: 0.0399\n",
      "\n",
      "Training model for Sao Tome and Principe\n"
     ]
    },
    {
     "name": "stderr",
     "output_type": "stream",
     "text": [
      "/var/folders/31/w2zt100d46vbd05gsww_hqj00000gn/T/ipykernel_72576/1759004401.py:8: FutureWarning: Series.fillna with 'method' is deprecated and will raise in a future version. Use obj.ffill() or obj.bfill() instead.\n",
      "  country_data = pd.Series(country_data).replace('..', np.nan).fillna(method='ffill').values\n"
     ]
    },
    {
     "name": "stdout",
     "output_type": "stream",
     "text": [
      "Epoch [50/200], Loss: 0.0108\n",
      "Epoch [100/200], Loss: 0.0073\n",
      "Epoch [150/200], Loss: 0.0057\n",
      "Epoch [200/200], Loss: 0.0050\n",
      "\n",
      "Training model for Saudi Arabia\n"
     ]
    },
    {
     "name": "stderr",
     "output_type": "stream",
     "text": [
      "/var/folders/31/w2zt100d46vbd05gsww_hqj00000gn/T/ipykernel_72576/1759004401.py:8: FutureWarning: Series.fillna with 'method' is deprecated and will raise in a future version. Use obj.ffill() or obj.bfill() instead.\n",
      "  country_data = pd.Series(country_data).replace('..', np.nan).fillna(method='ffill').values\n"
     ]
    },
    {
     "name": "stdout",
     "output_type": "stream",
     "text": [
      "Epoch [50/200], Loss: 0.0225\n",
      "Epoch [100/200], Loss: 0.0213\n",
      "Epoch [150/200], Loss: 0.0163\n",
      "Epoch [200/200], Loss: 0.0154\n",
      "\n",
      "Training model for Senegal\n"
     ]
    },
    {
     "name": "stderr",
     "output_type": "stream",
     "text": [
      "/var/folders/31/w2zt100d46vbd05gsww_hqj00000gn/T/ipykernel_72576/1759004401.py:8: FutureWarning: Series.fillna with 'method' is deprecated and will raise in a future version. Use obj.ffill() or obj.bfill() instead.\n",
      "  country_data = pd.Series(country_data).replace('..', np.nan).fillna(method='ffill').values\n"
     ]
    },
    {
     "name": "stdout",
     "output_type": "stream",
     "text": [
      "Epoch [50/200], Loss: 0.0057\n",
      "Epoch [100/200], Loss: 0.0044\n",
      "Epoch [150/200], Loss: 0.0043\n",
      "Epoch [200/200], Loss: 0.0037\n",
      "\n",
      "Training model for Serbia\n",
      "Epoch [50/200], Loss: 0.0025\n"
     ]
    },
    {
     "name": "stderr",
     "output_type": "stream",
     "text": [
      "/var/folders/31/w2zt100d46vbd05gsww_hqj00000gn/T/ipykernel_72576/1759004401.py:8: FutureWarning: Series.fillna with 'method' is deprecated and will raise in a future version. Use obj.ffill() or obj.bfill() instead.\n",
      "  country_data = pd.Series(country_data).replace('..', np.nan).fillna(method='ffill').values\n"
     ]
    },
    {
     "name": "stdout",
     "output_type": "stream",
     "text": [
      "Epoch [100/200], Loss: 0.0023\n",
      "Epoch [150/200], Loss: 0.0020\n",
      "Epoch [200/200], Loss: 0.0016\n",
      "\n",
      "Training model for Seychelles\n",
      "Epoch [50/200], Loss: 0.0175\n"
     ]
    },
    {
     "name": "stderr",
     "output_type": "stream",
     "text": [
      "/var/folders/31/w2zt100d46vbd05gsww_hqj00000gn/T/ipykernel_72576/1759004401.py:8: FutureWarning: Series.fillna with 'method' is deprecated and will raise in a future version. Use obj.ffill() or obj.bfill() instead.\n",
      "  country_data = pd.Series(country_data).replace('..', np.nan).fillna(method='ffill').values\n"
     ]
    },
    {
     "name": "stdout",
     "output_type": "stream",
     "text": [
      "Epoch [100/200], Loss: 0.0123\n",
      "Epoch [150/200], Loss: 0.0106\n",
      "Epoch [200/200], Loss: 0.0072\n",
      "\n",
      "Training model for Sierra Leone\n",
      "Epoch [50/200], Loss: 0.0244\n"
     ]
    },
    {
     "name": "stderr",
     "output_type": "stream",
     "text": [
      "/var/folders/31/w2zt100d46vbd05gsww_hqj00000gn/T/ipykernel_72576/1759004401.py:8: FutureWarning: Series.fillna with 'method' is deprecated and will raise in a future version. Use obj.ffill() or obj.bfill() instead.\n",
      "  country_data = pd.Series(country_data).replace('..', np.nan).fillna(method='ffill').values\n"
     ]
    },
    {
     "name": "stdout",
     "output_type": "stream",
     "text": [
      "Epoch [100/200], Loss: 0.0163\n",
      "Epoch [150/200], Loss: 0.0122\n",
      "Epoch [200/200], Loss: 0.0067\n",
      "\n",
      "Training model for Singapore\n",
      "Epoch [50/200], Loss: 0.0030\n"
     ]
    },
    {
     "name": "stderr",
     "output_type": "stream",
     "text": [
      "/var/folders/31/w2zt100d46vbd05gsww_hqj00000gn/T/ipykernel_72576/1759004401.py:8: FutureWarning: Series.fillna with 'method' is deprecated and will raise in a future version. Use obj.ffill() or obj.bfill() instead.\n",
      "  country_data = pd.Series(country_data).replace('..', np.nan).fillna(method='ffill').values\n"
     ]
    },
    {
     "name": "stdout",
     "output_type": "stream",
     "text": [
      "Epoch [100/200], Loss: 0.0021\n",
      "Epoch [150/200], Loss: 0.0021\n",
      "Epoch [200/200], Loss: 0.0020\n",
      "\n",
      "Training model for Sint Maarten (Dutch part)\n",
      "Epoch [50/200], Loss: 0.0230\n"
     ]
    },
    {
     "name": "stderr",
     "output_type": "stream",
     "text": [
      "/var/folders/31/w2zt100d46vbd05gsww_hqj00000gn/T/ipykernel_72576/1759004401.py:8: FutureWarning: Series.fillna with 'method' is deprecated and will raise in a future version. Use obj.ffill() or obj.bfill() instead.\n",
      "  country_data = pd.Series(country_data).replace('..', np.nan).fillna(method='ffill').values\n"
     ]
    },
    {
     "name": "stdout",
     "output_type": "stream",
     "text": [
      "Epoch [100/200], Loss: 0.0158\n",
      "Epoch [150/200], Loss: 0.0107\n",
      "Epoch [200/200], Loss: 0.0084\n",
      "\n",
      "Training model for Slovak Republic\n",
      "Epoch [50/200], Loss: 0.0045\n"
     ]
    },
    {
     "name": "stderr",
     "output_type": "stream",
     "text": [
      "/var/folders/31/w2zt100d46vbd05gsww_hqj00000gn/T/ipykernel_72576/1759004401.py:8: FutureWarning: Series.fillna with 'method' is deprecated and will raise in a future version. Use obj.ffill() or obj.bfill() instead.\n",
      "  country_data = pd.Series(country_data).replace('..', np.nan).fillna(method='ffill').values\n"
     ]
    },
    {
     "name": "stdout",
     "output_type": "stream",
     "text": [
      "Epoch [100/200], Loss: 0.0038\n",
      "Epoch [150/200], Loss: 0.0025\n",
      "Epoch [200/200], Loss: 0.0023\n",
      "\n",
      "Training model for Slovenia\n",
      "Epoch [50/200], Loss: 0.0075\n"
     ]
    },
    {
     "name": "stderr",
     "output_type": "stream",
     "text": [
      "/var/folders/31/w2zt100d46vbd05gsww_hqj00000gn/T/ipykernel_72576/1759004401.py:8: FutureWarning: Series.fillna with 'method' is deprecated and will raise in a future version. Use obj.ffill() or obj.bfill() instead.\n",
      "  country_data = pd.Series(country_data).replace('..', np.nan).fillna(method='ffill').values\n"
     ]
    },
    {
     "name": "stdout",
     "output_type": "stream",
     "text": [
      "Epoch [100/200], Loss: 0.0074\n",
      "Epoch [150/200], Loss: 0.0064\n",
      "Epoch [200/200], Loss: 0.0054\n",
      "\n",
      "Training model for Solomon Islands\n",
      "Epoch [50/200], Loss: 0.0507\n"
     ]
    },
    {
     "name": "stderr",
     "output_type": "stream",
     "text": [
      "/var/folders/31/w2zt100d46vbd05gsww_hqj00000gn/T/ipykernel_72576/1759004401.py:8: FutureWarning: Series.fillna with 'method' is deprecated and will raise in a future version. Use obj.ffill() or obj.bfill() instead.\n",
      "  country_data = pd.Series(country_data).replace('..', np.nan).fillna(method='ffill').values\n"
     ]
    },
    {
     "name": "stdout",
     "output_type": "stream",
     "text": [
      "Epoch [100/200], Loss: 0.0096\n",
      "Epoch [150/200], Loss: 0.0096\n",
      "Epoch [200/200], Loss: 0.0074\n",
      "\n",
      "Training model for Somalia\n",
      "Epoch [50/200], Loss: 0.0136\n"
     ]
    },
    {
     "name": "stderr",
     "output_type": "stream",
     "text": [
      "/var/folders/31/w2zt100d46vbd05gsww_hqj00000gn/T/ipykernel_72576/1759004401.py:8: FutureWarning: Series.fillna with 'method' is deprecated and will raise in a future version. Use obj.ffill() or obj.bfill() instead.\n",
      "  country_data = pd.Series(country_data).replace('..', np.nan).fillna(method='ffill').values\n"
     ]
    },
    {
     "name": "stdout",
     "output_type": "stream",
     "text": [
      "Epoch [100/200], Loss: 0.0076\n",
      "Epoch [150/200], Loss: 0.0051\n",
      "Epoch [200/200], Loss: 0.0021\n",
      "\n",
      "Training model for South Africa\n",
      "Epoch [50/200], Loss: 0.0162\n"
     ]
    },
    {
     "name": "stderr",
     "output_type": "stream",
     "text": [
      "/var/folders/31/w2zt100d46vbd05gsww_hqj00000gn/T/ipykernel_72576/1759004401.py:8: FutureWarning: Series.fillna with 'method' is deprecated and will raise in a future version. Use obj.ffill() or obj.bfill() instead.\n",
      "  country_data = pd.Series(country_data).replace('..', np.nan).fillna(method='ffill').values\n"
     ]
    },
    {
     "name": "stdout",
     "output_type": "stream",
     "text": [
      "Epoch [100/200], Loss: 0.0077\n",
      "Epoch [150/200], Loss: 0.0050\n",
      "Epoch [200/200], Loss: 0.0043\n",
      "\n",
      "Training model for South Sudan\n",
      "Epoch [50/200], Loss: 0.0750\n"
     ]
    },
    {
     "name": "stderr",
     "output_type": "stream",
     "text": [
      "/var/folders/31/w2zt100d46vbd05gsww_hqj00000gn/T/ipykernel_72576/1759004401.py:8: FutureWarning: Series.fillna with 'method' is deprecated and will raise in a future version. Use obj.ffill() or obj.bfill() instead.\n",
      "  country_data = pd.Series(country_data).replace('..', np.nan).fillna(method='ffill').values\n"
     ]
    },
    {
     "name": "stdout",
     "output_type": "stream",
     "text": [
      "Epoch [100/200], Loss: 0.0518\n",
      "Epoch [150/200], Loss: 0.0464\n",
      "Epoch [200/200], Loss: 0.0255\n",
      "\n",
      "Training model for Spain\n",
      "Epoch [50/200], Loss: 0.0183\n"
     ]
    },
    {
     "name": "stderr",
     "output_type": "stream",
     "text": [
      "/var/folders/31/w2zt100d46vbd05gsww_hqj00000gn/T/ipykernel_72576/1759004401.py:8: FutureWarning: Series.fillna with 'method' is deprecated and will raise in a future version. Use obj.ffill() or obj.bfill() instead.\n",
      "  country_data = pd.Series(country_data).replace('..', np.nan).fillna(method='ffill').values\n"
     ]
    },
    {
     "name": "stdout",
     "output_type": "stream",
     "text": [
      "Epoch [100/200], Loss: 0.0161\n",
      "Epoch [150/200], Loss: 0.0130\n",
      "Epoch [200/200], Loss: 0.0103\n",
      "\n",
      "Training model for Sri Lanka\n",
      "Epoch [50/200], Loss: 0.0085\n"
     ]
    },
    {
     "name": "stderr",
     "output_type": "stream",
     "text": [
      "/var/folders/31/w2zt100d46vbd05gsww_hqj00000gn/T/ipykernel_72576/1759004401.py:8: FutureWarning: Series.fillna with 'method' is deprecated and will raise in a future version. Use obj.ffill() or obj.bfill() instead.\n",
      "  country_data = pd.Series(country_data).replace('..', np.nan).fillna(method='ffill').values\n"
     ]
    },
    {
     "name": "stdout",
     "output_type": "stream",
     "text": [
      "Epoch [100/200], Loss: 0.0027\n",
      "Epoch [150/200], Loss: 0.0020\n",
      "Epoch [200/200], Loss: 0.0016\n",
      "\n",
      "Training model for St. Kitts and Nevis\n",
      "Epoch [50/200], Loss: 0.0083\n"
     ]
    },
    {
     "name": "stderr",
     "output_type": "stream",
     "text": [
      "/var/folders/31/w2zt100d46vbd05gsww_hqj00000gn/T/ipykernel_72576/1759004401.py:8: FutureWarning: Series.fillna with 'method' is deprecated and will raise in a future version. Use obj.ffill() or obj.bfill() instead.\n",
      "  country_data = pd.Series(country_data).replace('..', np.nan).fillna(method='ffill').values\n"
     ]
    },
    {
     "name": "stdout",
     "output_type": "stream",
     "text": [
      "Epoch [100/200], Loss: 0.0063\n",
      "Epoch [150/200], Loss: 0.0062\n",
      "Epoch [200/200], Loss: 0.0051\n",
      "\n",
      "Training model for St. Lucia\n",
      "Epoch [50/200], Loss: 0.0587\n"
     ]
    },
    {
     "name": "stderr",
     "output_type": "stream",
     "text": [
      "/var/folders/31/w2zt100d46vbd05gsww_hqj00000gn/T/ipykernel_72576/1759004401.py:8: FutureWarning: Series.fillna with 'method' is deprecated and will raise in a future version. Use obj.ffill() or obj.bfill() instead.\n",
      "  country_data = pd.Series(country_data).replace('..', np.nan).fillna(method='ffill').values\n"
     ]
    },
    {
     "name": "stdout",
     "output_type": "stream",
     "text": [
      "Epoch [100/200], Loss: 0.0518\n",
      "Epoch [150/200], Loss: 0.0396\n",
      "Epoch [200/200], Loss: 0.0371\n",
      "\n",
      "Training model for St. Martin (French part)\n",
      "Epoch [50/200], Loss: 0.0468\n"
     ]
    },
    {
     "name": "stderr",
     "output_type": "stream",
     "text": [
      "/var/folders/31/w2zt100d46vbd05gsww_hqj00000gn/T/ipykernel_72576/1759004401.py:8: FutureWarning: Series.fillna with 'method' is deprecated and will raise in a future version. Use obj.ffill() or obj.bfill() instead.\n",
      "  country_data = pd.Series(country_data).replace('..', np.nan).fillna(method='ffill').values\n"
     ]
    },
    {
     "name": "stdout",
     "output_type": "stream",
     "text": [
      "Epoch [100/200], Loss: 0.0404\n",
      "Epoch [150/200], Loss: 0.0370\n",
      "Epoch [200/200], Loss: 0.0385\n",
      "\n",
      "Training model for St. Vincent and the Grenadines\n",
      "Epoch [50/200], Loss: 0.0040\n"
     ]
    },
    {
     "name": "stderr",
     "output_type": "stream",
     "text": [
      "/var/folders/31/w2zt100d46vbd05gsww_hqj00000gn/T/ipykernel_72576/1759004401.py:8: FutureWarning: Series.fillna with 'method' is deprecated and will raise in a future version. Use obj.ffill() or obj.bfill() instead.\n",
      "  country_data = pd.Series(country_data).replace('..', np.nan).fillna(method='ffill').values\n"
     ]
    },
    {
     "name": "stdout",
     "output_type": "stream",
     "text": [
      "Epoch [100/200], Loss: 0.0043\n",
      "Epoch [150/200], Loss: 0.0040\n",
      "Epoch [200/200], Loss: 0.0040\n",
      "\n",
      "Training model for Sudan\n",
      "Epoch [50/200], Loss: 0.0292\n"
     ]
    },
    {
     "name": "stderr",
     "output_type": "stream",
     "text": [
      "/var/folders/31/w2zt100d46vbd05gsww_hqj00000gn/T/ipykernel_72576/1759004401.py:8: FutureWarning: Series.fillna with 'method' is deprecated and will raise in a future version. Use obj.ffill() or obj.bfill() instead.\n",
      "  country_data = pd.Series(country_data).replace('..', np.nan).fillna(method='ffill').values\n"
     ]
    },
    {
     "name": "stdout",
     "output_type": "stream",
     "text": [
      "Epoch [100/200], Loss: 0.0213\n",
      "Epoch [150/200], Loss: 0.0097\n",
      "Epoch [200/200], Loss: 0.0125\n",
      "\n",
      "Training model for Suriname\n",
      "Epoch [50/200], Loss: 0.0449\n"
     ]
    },
    {
     "name": "stderr",
     "output_type": "stream",
     "text": [
      "/var/folders/31/w2zt100d46vbd05gsww_hqj00000gn/T/ipykernel_72576/1759004401.py:8: FutureWarning: Series.fillna with 'method' is deprecated and will raise in a future version. Use obj.ffill() or obj.bfill() instead.\n",
      "  country_data = pd.Series(country_data).replace('..', np.nan).fillna(method='ffill').values\n"
     ]
    },
    {
     "name": "stdout",
     "output_type": "stream",
     "text": [
      "Epoch [100/200], Loss: 0.0179\n",
      "Epoch [150/200], Loss: 0.0109\n",
      "Epoch [200/200], Loss: 0.0095\n",
      "\n",
      "Training model for Sweden\n",
      "Epoch [50/200], Loss: 0.0051\n"
     ]
    },
    {
     "name": "stderr",
     "output_type": "stream",
     "text": [
      "/var/folders/31/w2zt100d46vbd05gsww_hqj00000gn/T/ipykernel_72576/1759004401.py:8: FutureWarning: Series.fillna with 'method' is deprecated and will raise in a future version. Use obj.ffill() or obj.bfill() instead.\n",
      "  country_data = pd.Series(country_data).replace('..', np.nan).fillna(method='ffill').values\n"
     ]
    },
    {
     "name": "stdout",
     "output_type": "stream",
     "text": [
      "Epoch [100/200], Loss: 0.0039\n",
      "Epoch [150/200], Loss: 0.0035\n",
      "Epoch [200/200], Loss: 0.0038\n",
      "\n",
      "Training model for Switzerland\n",
      "Epoch [50/200], Loss: 0.0082\n"
     ]
    },
    {
     "name": "stderr",
     "output_type": "stream",
     "text": [
      "/var/folders/31/w2zt100d46vbd05gsww_hqj00000gn/T/ipykernel_72576/1759004401.py:8: FutureWarning: Series.fillna with 'method' is deprecated and will raise in a future version. Use obj.ffill() or obj.bfill() instead.\n",
      "  country_data = pd.Series(country_data).replace('..', np.nan).fillna(method='ffill').values\n"
     ]
    },
    {
     "name": "stdout",
     "output_type": "stream",
     "text": [
      "Epoch [100/200], Loss: 0.0069\n",
      "Epoch [150/200], Loss: 0.0070\n",
      "Epoch [200/200], Loss: 0.0051\n",
      "\n",
      "Training model for Syrian Arab Republic\n",
      "Epoch [50/200], Loss: 0.0301\n"
     ]
    },
    {
     "name": "stderr",
     "output_type": "stream",
     "text": [
      "/var/folders/31/w2zt100d46vbd05gsww_hqj00000gn/T/ipykernel_72576/1759004401.py:8: FutureWarning: Series.fillna with 'method' is deprecated and will raise in a future version. Use obj.ffill() or obj.bfill() instead.\n",
      "  country_data = pd.Series(country_data).replace('..', np.nan).fillna(method='ffill').values\n"
     ]
    },
    {
     "name": "stdout",
     "output_type": "stream",
     "text": [
      "Epoch [100/200], Loss: 0.0301\n",
      "Epoch [150/200], Loss: 0.0299\n",
      "Epoch [200/200], Loss: 0.0296\n",
      "\n",
      "Training model for Tajikistan\n",
      "Epoch [50/200], Loss: 0.0110\n"
     ]
    },
    {
     "name": "stderr",
     "output_type": "stream",
     "text": [
      "/var/folders/31/w2zt100d46vbd05gsww_hqj00000gn/T/ipykernel_72576/1759004401.py:8: FutureWarning: Series.fillna with 'method' is deprecated and will raise in a future version. Use obj.ffill() or obj.bfill() instead.\n",
      "  country_data = pd.Series(country_data).replace('..', np.nan).fillna(method='ffill').values\n"
     ]
    },
    {
     "name": "stdout",
     "output_type": "stream",
     "text": [
      "Epoch [100/200], Loss: 0.0001\n",
      "Epoch [150/200], Loss: 0.0002\n",
      "Epoch [200/200], Loss: 0.0001\n",
      "\n",
      "Training model for Tanzania\n",
      "Epoch [50/200], Loss: 0.0015\n"
     ]
    },
    {
     "name": "stderr",
     "output_type": "stream",
     "text": [
      "/var/folders/31/w2zt100d46vbd05gsww_hqj00000gn/T/ipykernel_72576/1759004401.py:8: FutureWarning: Series.fillna with 'method' is deprecated and will raise in a future version. Use obj.ffill() or obj.bfill() instead.\n",
      "  country_data = pd.Series(country_data).replace('..', np.nan).fillna(method='ffill').values\n"
     ]
    },
    {
     "name": "stdout",
     "output_type": "stream",
     "text": [
      "Epoch [100/200], Loss: 0.0012\n",
      "Epoch [150/200], Loss: 0.0010\n",
      "Epoch [200/200], Loss: 0.0010\n",
      "\n",
      "Training model for Thailand\n",
      "Epoch [50/200], Loss: 0.0068\n"
     ]
    },
    {
     "name": "stderr",
     "output_type": "stream",
     "text": [
      "/var/folders/31/w2zt100d46vbd05gsww_hqj00000gn/T/ipykernel_72576/1759004401.py:8: FutureWarning: Series.fillna with 'method' is deprecated and will raise in a future version. Use obj.ffill() or obj.bfill() instead.\n",
      "  country_data = pd.Series(country_data).replace('..', np.nan).fillna(method='ffill').values\n"
     ]
    },
    {
     "name": "stdout",
     "output_type": "stream",
     "text": [
      "Epoch [100/200], Loss: 0.0043\n",
      "Epoch [150/200], Loss: 0.0044\n",
      "Epoch [200/200], Loss: 0.0043\n",
      "\n",
      "Training model for Timor-Leste\n",
      "Epoch [50/200], Loss: 0.0208\n"
     ]
    },
    {
     "name": "stderr",
     "output_type": "stream",
     "text": [
      "/var/folders/31/w2zt100d46vbd05gsww_hqj00000gn/T/ipykernel_72576/1759004401.py:8: FutureWarning: Series.fillna with 'method' is deprecated and will raise in a future version. Use obj.ffill() or obj.bfill() instead.\n",
      "  country_data = pd.Series(country_data).replace('..', np.nan).fillna(method='ffill').values\n"
     ]
    },
    {
     "name": "stdout",
     "output_type": "stream",
     "text": [
      "Epoch [100/200], Loss: 0.0227\n",
      "Epoch [150/200], Loss: 0.0241\n",
      "Epoch [200/200], Loss: 0.0180\n",
      "\n",
      "Training model for Togo\n",
      "Epoch [50/200], Loss: 0.0152\n"
     ]
    },
    {
     "name": "stderr",
     "output_type": "stream",
     "text": [
      "/var/folders/31/w2zt100d46vbd05gsww_hqj00000gn/T/ipykernel_72576/1759004401.py:8: FutureWarning: Series.fillna with 'method' is deprecated and will raise in a future version. Use obj.ffill() or obj.bfill() instead.\n",
      "  country_data = pd.Series(country_data).replace('..', np.nan).fillna(method='ffill').values\n"
     ]
    },
    {
     "name": "stdout",
     "output_type": "stream",
     "text": [
      "Epoch [100/200], Loss: 0.0107\n",
      "Epoch [150/200], Loss: 0.0070\n",
      "Epoch [200/200], Loss: 0.0049\n",
      "\n",
      "Training model for Tonga\n",
      "Epoch [50/200], Loss: 0.0418\n"
     ]
    },
    {
     "name": "stderr",
     "output_type": "stream",
     "text": [
      "/var/folders/31/w2zt100d46vbd05gsww_hqj00000gn/T/ipykernel_72576/1759004401.py:8: FutureWarning: Series.fillna with 'method' is deprecated and will raise in a future version. Use obj.ffill() or obj.bfill() instead.\n",
      "  country_data = pd.Series(country_data).replace('..', np.nan).fillna(method='ffill').values\n"
     ]
    },
    {
     "name": "stdout",
     "output_type": "stream",
     "text": [
      "Epoch [100/200], Loss: 0.0295\n",
      "Epoch [150/200], Loss: 0.0419\n",
      "Epoch [200/200], Loss: 0.0294\n",
      "\n",
      "Training model for Trinidad and Tobago\n",
      "Epoch [50/200], Loss: 0.0156\n"
     ]
    },
    {
     "name": "stderr",
     "output_type": "stream",
     "text": [
      "/var/folders/31/w2zt100d46vbd05gsww_hqj00000gn/T/ipykernel_72576/1759004401.py:8: FutureWarning: Series.fillna with 'method' is deprecated and will raise in a future version. Use obj.ffill() or obj.bfill() instead.\n",
      "  country_data = pd.Series(country_data).replace('..', np.nan).fillna(method='ffill').values\n"
     ]
    },
    {
     "name": "stdout",
     "output_type": "stream",
     "text": [
      "Epoch [100/200], Loss: 0.0093\n",
      "Epoch [150/200], Loss: 0.0058\n",
      "Epoch [200/200], Loss: 0.0052\n",
      "\n",
      "Training model for Tunisia\n",
      "Epoch [50/200], Loss: 0.0068\n"
     ]
    },
    {
     "name": "stderr",
     "output_type": "stream",
     "text": [
      "/var/folders/31/w2zt100d46vbd05gsww_hqj00000gn/T/ipykernel_72576/1759004401.py:8: FutureWarning: Series.fillna with 'method' is deprecated and will raise in a future version. Use obj.ffill() or obj.bfill() instead.\n",
      "  country_data = pd.Series(country_data).replace('..', np.nan).fillna(method='ffill').values\n"
     ]
    },
    {
     "name": "stdout",
     "output_type": "stream",
     "text": [
      "Epoch [100/200], Loss: 0.0024\n",
      "Epoch [150/200], Loss: 0.0026\n",
      "Epoch [200/200], Loss: 0.0022\n",
      "\n",
      "Training model for Turkiye\n",
      "Epoch [50/200], Loss: 0.0037\n"
     ]
    },
    {
     "name": "stderr",
     "output_type": "stream",
     "text": [
      "/var/folders/31/w2zt100d46vbd05gsww_hqj00000gn/T/ipykernel_72576/1759004401.py:8: FutureWarning: Series.fillna with 'method' is deprecated and will raise in a future version. Use obj.ffill() or obj.bfill() instead.\n",
      "  country_data = pd.Series(country_data).replace('..', np.nan).fillna(method='ffill').values\n"
     ]
    },
    {
     "name": "stdout",
     "output_type": "stream",
     "text": [
      "Epoch [100/200], Loss: 0.0031\n",
      "Epoch [150/200], Loss: 0.0031\n",
      "Epoch [200/200], Loss: 0.0032\n",
      "\n",
      "Training model for Turkmenistan\n",
      "Epoch [50/200], Loss: 0.0062\n"
     ]
    },
    {
     "name": "stderr",
     "output_type": "stream",
     "text": [
      "/var/folders/31/w2zt100d46vbd05gsww_hqj00000gn/T/ipykernel_72576/1759004401.py:8: FutureWarning: Series.fillna with 'method' is deprecated and will raise in a future version. Use obj.ffill() or obj.bfill() instead.\n",
      "  country_data = pd.Series(country_data).replace('..', np.nan).fillna(method='ffill').values\n"
     ]
    },
    {
     "name": "stdout",
     "output_type": "stream",
     "text": [
      "Epoch [100/200], Loss: 0.0046\n",
      "Epoch [150/200], Loss: 0.0016\n",
      "Epoch [200/200], Loss: 0.0008\n",
      "\n",
      "Training model for Turks and Caicos Islands\n",
      "Epoch [50/200], Loss: 0.0530\n"
     ]
    },
    {
     "name": "stderr",
     "output_type": "stream",
     "text": [
      "/var/folders/31/w2zt100d46vbd05gsww_hqj00000gn/T/ipykernel_72576/1759004401.py:8: FutureWarning: Series.fillna with 'method' is deprecated and will raise in a future version. Use obj.ffill() or obj.bfill() instead.\n",
      "  country_data = pd.Series(country_data).replace('..', np.nan).fillna(method='ffill').values\n"
     ]
    },
    {
     "name": "stdout",
     "output_type": "stream",
     "text": [
      "Epoch [100/200], Loss: 0.0327\n",
      "Epoch [150/200], Loss: 0.0385\n",
      "Epoch [200/200], Loss: 0.0220\n",
      "\n",
      "Training model for Tuvalu\n",
      "Epoch [50/200], Loss: 0.0130\n"
     ]
    },
    {
     "name": "stderr",
     "output_type": "stream",
     "text": [
      "/var/folders/31/w2zt100d46vbd05gsww_hqj00000gn/T/ipykernel_72576/1759004401.py:8: FutureWarning: Series.fillna with 'method' is deprecated and will raise in a future version. Use obj.ffill() or obj.bfill() instead.\n",
      "  country_data = pd.Series(country_data).replace('..', np.nan).fillna(method='ffill').values\n"
     ]
    },
    {
     "name": "stdout",
     "output_type": "stream",
     "text": [
      "Epoch [100/200], Loss: 0.0124\n",
      "Epoch [150/200], Loss: 0.0099\n",
      "Epoch [200/200], Loss: 0.0086\n",
      "\n",
      "Training model for Uganda\n",
      "Epoch [50/200], Loss: 0.0029\n"
     ]
    },
    {
     "name": "stderr",
     "output_type": "stream",
     "text": [
      "/var/folders/31/w2zt100d46vbd05gsww_hqj00000gn/T/ipykernel_72576/1759004401.py:8: FutureWarning: Series.fillna with 'method' is deprecated and will raise in a future version. Use obj.ffill() or obj.bfill() instead.\n",
      "  country_data = pd.Series(country_data).replace('..', np.nan).fillna(method='ffill').values\n"
     ]
    },
    {
     "name": "stdout",
     "output_type": "stream",
     "text": [
      "Epoch [100/200], Loss: 0.0010\n",
      "Epoch [150/200], Loss: 0.0010\n",
      "Epoch [200/200], Loss: 0.0009\n",
      "\n",
      "Training model for Ukraine\n",
      "Epoch [50/200], Loss: 0.0286\n"
     ]
    },
    {
     "name": "stderr",
     "output_type": "stream",
     "text": [
      "/var/folders/31/w2zt100d46vbd05gsww_hqj00000gn/T/ipykernel_72576/1759004401.py:8: FutureWarning: Series.fillna with 'method' is deprecated and will raise in a future version. Use obj.ffill() or obj.bfill() instead.\n",
      "  country_data = pd.Series(country_data).replace('..', np.nan).fillna(method='ffill').values\n"
     ]
    },
    {
     "name": "stdout",
     "output_type": "stream",
     "text": [
      "Epoch [100/200], Loss: 0.0098\n",
      "Epoch [150/200], Loss: 0.0088\n",
      "Epoch [200/200], Loss: 0.0065\n",
      "\n",
      "Training model for United Arab Emirates\n",
      "Epoch [50/200], Loss: 0.0121\n"
     ]
    },
    {
     "name": "stderr",
     "output_type": "stream",
     "text": [
      "/var/folders/31/w2zt100d46vbd05gsww_hqj00000gn/T/ipykernel_72576/1759004401.py:8: FutureWarning: Series.fillna with 'method' is deprecated and will raise in a future version. Use obj.ffill() or obj.bfill() instead.\n",
      "  country_data = pd.Series(country_data).replace('..', np.nan).fillna(method='ffill').values\n"
     ]
    },
    {
     "name": "stdout",
     "output_type": "stream",
     "text": [
      "Epoch [100/200], Loss: 0.0132\n",
      "Epoch [150/200], Loss: 0.0101\n",
      "Epoch [200/200], Loss: 0.0072\n",
      "\n",
      "Training model for United Kingdom\n"
     ]
    },
    {
     "name": "stderr",
     "output_type": "stream",
     "text": [
      "/var/folders/31/w2zt100d46vbd05gsww_hqj00000gn/T/ipykernel_72576/1759004401.py:8: FutureWarning: Series.fillna with 'method' is deprecated and will raise in a future version. Use obj.ffill() or obj.bfill() instead.\n",
      "  country_data = pd.Series(country_data).replace('..', np.nan).fillna(method='ffill').values\n"
     ]
    },
    {
     "name": "stdout",
     "output_type": "stream",
     "text": [
      "Epoch [50/200], Loss: 0.0091\n",
      "Epoch [100/200], Loss: 0.0075\n",
      "Epoch [150/200], Loss: 0.0069\n",
      "Epoch [200/200], Loss: 0.0063\n",
      "\n",
      "Training model for United States\n",
      "Epoch [50/200], Loss: 0.0027\n"
     ]
    },
    {
     "name": "stderr",
     "output_type": "stream",
     "text": [
      "/var/folders/31/w2zt100d46vbd05gsww_hqj00000gn/T/ipykernel_72576/1759004401.py:8: FutureWarning: Series.fillna with 'method' is deprecated and will raise in a future version. Use obj.ffill() or obj.bfill() instead.\n",
      "  country_data = pd.Series(country_data).replace('..', np.nan).fillna(method='ffill').values\n"
     ]
    },
    {
     "name": "stdout",
     "output_type": "stream",
     "text": [
      "Epoch [100/200], Loss: 0.0028\n",
      "Epoch [150/200], Loss: 0.0027\n",
      "Epoch [200/200], Loss: 0.0028\n",
      "\n",
      "Training model for Uruguay\n"
     ]
    },
    {
     "name": "stderr",
     "output_type": "stream",
     "text": [
      "/var/folders/31/w2zt100d46vbd05gsww_hqj00000gn/T/ipykernel_72576/1759004401.py:8: FutureWarning: Series.fillna with 'method' is deprecated and will raise in a future version. Use obj.ffill() or obj.bfill() instead.\n",
      "  country_data = pd.Series(country_data).replace('..', np.nan).fillna(method='ffill').values\n"
     ]
    },
    {
     "name": "stdout",
     "output_type": "stream",
     "text": [
      "Epoch [50/200], Loss: 0.0129\n",
      "Epoch [100/200], Loss: 0.0107\n",
      "Epoch [150/200], Loss: 0.0094\n",
      "Epoch [200/200], Loss: 0.0052\n",
      "\n",
      "Training model for Uzbekistan\n"
     ]
    },
    {
     "name": "stderr",
     "output_type": "stream",
     "text": [
      "/var/folders/31/w2zt100d46vbd05gsww_hqj00000gn/T/ipykernel_72576/1759004401.py:8: FutureWarning: Series.fillna with 'method' is deprecated and will raise in a future version. Use obj.ffill() or obj.bfill() instead.\n",
      "  country_data = pd.Series(country_data).replace('..', np.nan).fillna(method='ffill').values\n"
     ]
    },
    {
     "name": "stdout",
     "output_type": "stream",
     "text": [
      "Epoch [50/200], Loss: 0.0042\n",
      "Epoch [100/200], Loss: 0.0025\n",
      "Epoch [150/200], Loss: 0.0022\n",
      "Epoch [200/200], Loss: 0.0018\n",
      "\n",
      "Training model for Vanuatu\n"
     ]
    },
    {
     "name": "stderr",
     "output_type": "stream",
     "text": [
      "/var/folders/31/w2zt100d46vbd05gsww_hqj00000gn/T/ipykernel_72576/1759004401.py:8: FutureWarning: Series.fillna with 'method' is deprecated and will raise in a future version. Use obj.ffill() or obj.bfill() instead.\n",
      "  country_data = pd.Series(country_data).replace('..', np.nan).fillna(method='ffill').values\n"
     ]
    },
    {
     "name": "stdout",
     "output_type": "stream",
     "text": [
      "Epoch [50/200], Loss: 0.0552\n",
      "Epoch [100/200], Loss: 0.0418\n",
      "Epoch [150/200], Loss: 0.0266\n",
      "Epoch [200/200], Loss: 0.0212\n",
      "\n",
      "Training model for Venezuela, RB\n"
     ]
    },
    {
     "name": "stderr",
     "output_type": "stream",
     "text": [
      "/var/folders/31/w2zt100d46vbd05gsww_hqj00000gn/T/ipykernel_72576/1759004401.py:8: FutureWarning: Series.fillna with 'method' is deprecated and will raise in a future version. Use obj.ffill() or obj.bfill() instead.\n",
      "  country_data = pd.Series(country_data).replace('..', np.nan).fillna(method='ffill').values\n"
     ]
    },
    {
     "name": "stdout",
     "output_type": "stream",
     "text": [
      "Epoch [50/200], Loss: 0.0612\n",
      "Epoch [100/200], Loss: 0.0325\n",
      "Epoch [150/200], Loss: 0.0219\n",
      "Epoch [200/200], Loss: 0.0222\n",
      "\n",
      "Training model for Viet Nam\n"
     ]
    },
    {
     "name": "stderr",
     "output_type": "stream",
     "text": [
      "/var/folders/31/w2zt100d46vbd05gsww_hqj00000gn/T/ipykernel_72576/1759004401.py:8: FutureWarning: Series.fillna with 'method' is deprecated and will raise in a future version. Use obj.ffill() or obj.bfill() instead.\n",
      "  country_data = pd.Series(country_data).replace('..', np.nan).fillna(method='ffill').values\n"
     ]
    },
    {
     "name": "stdout",
     "output_type": "stream",
     "text": [
      "Epoch [50/200], Loss: 0.0005\n",
      "Epoch [100/200], Loss: 0.0002\n",
      "Epoch [150/200], Loss: 0.0002\n",
      "Epoch [200/200], Loss: 0.0002\n",
      "\n",
      "Training model for Virgin Islands (U.S.)\n"
     ]
    },
    {
     "name": "stderr",
     "output_type": "stream",
     "text": [
      "/var/folders/31/w2zt100d46vbd05gsww_hqj00000gn/T/ipykernel_72576/1759004401.py:8: FutureWarning: Series.fillna with 'method' is deprecated and will raise in a future version. Use obj.ffill() or obj.bfill() instead.\n",
      "  country_data = pd.Series(country_data).replace('..', np.nan).fillna(method='ffill').values\n"
     ]
    },
    {
     "name": "stdout",
     "output_type": "stream",
     "text": [
      "Epoch [50/200], Loss: 0.0624\n",
      "Epoch [100/200], Loss: 0.0499\n",
      "Epoch [150/200], Loss: 0.0387\n",
      "Epoch [200/200], Loss: 0.0403\n",
      "\n",
      "Training model for West Bank and Gaza\n",
      "Epoch [50/200], Loss: 0.0121\n"
     ]
    },
    {
     "name": "stderr",
     "output_type": "stream",
     "text": [
      "/var/folders/31/w2zt100d46vbd05gsww_hqj00000gn/T/ipykernel_72576/1759004401.py:8: FutureWarning: Series.fillna with 'method' is deprecated and will raise in a future version. Use obj.ffill() or obj.bfill() instead.\n",
      "  country_data = pd.Series(country_data).replace('..', np.nan).fillna(method='ffill').values\n"
     ]
    },
    {
     "name": "stdout",
     "output_type": "stream",
     "text": [
      "Epoch [100/200], Loss: 0.0120\n",
      "Epoch [150/200], Loss: 0.0106\n",
      "Epoch [200/200], Loss: 0.0102\n",
      "\n",
      "Training model for Yemen, Rep.\n"
     ]
    },
    {
     "name": "stderr",
     "output_type": "stream",
     "text": [
      "/var/folders/31/w2zt100d46vbd05gsww_hqj00000gn/T/ipykernel_72576/1759004401.py:8: FutureWarning: Series.fillna with 'method' is deprecated and will raise in a future version. Use obj.ffill() or obj.bfill() instead.\n",
      "  country_data = pd.Series(country_data).replace('..', np.nan).fillna(method='ffill').values\n"
     ]
    },
    {
     "name": "stdout",
     "output_type": "stream",
     "text": [
      "Epoch [50/200], Loss: 0.0263\n",
      "Epoch [100/200], Loss: 0.0194\n",
      "Epoch [150/200], Loss: 0.0082\n",
      "Epoch [200/200], Loss: 0.0077\n",
      "\n",
      "Training model for Zambia\n"
     ]
    },
    {
     "name": "stderr",
     "output_type": "stream",
     "text": [
      "/var/folders/31/w2zt100d46vbd05gsww_hqj00000gn/T/ipykernel_72576/1759004401.py:8: FutureWarning: Series.fillna with 'method' is deprecated and will raise in a future version. Use obj.ffill() or obj.bfill() instead.\n",
      "  country_data = pd.Series(country_data).replace('..', np.nan).fillna(method='ffill').values\n"
     ]
    },
    {
     "name": "stdout",
     "output_type": "stream",
     "text": [
      "Epoch [50/200], Loss: 0.0146\n",
      "Epoch [100/200], Loss: 0.0070\n",
      "Epoch [150/200], Loss: 0.0046\n",
      "Epoch [200/200], Loss: 0.0026\n",
      "\n",
      "Training model for Zimbabwe\n"
     ]
    },
    {
     "name": "stderr",
     "output_type": "stream",
     "text": [
      "/var/folders/31/w2zt100d46vbd05gsww_hqj00000gn/T/ipykernel_72576/1759004401.py:8: FutureWarning: Series.fillna with 'method' is deprecated and will raise in a future version. Use obj.ffill() or obj.bfill() instead.\n",
      "  country_data = pd.Series(country_data).replace('..', np.nan).fillna(method='ffill').values\n"
     ]
    },
    {
     "name": "stdout",
     "output_type": "stream",
     "text": [
      "Epoch [50/200], Loss: 0.0366\n",
      "Epoch [100/200], Loss: 0.0138\n",
      "Epoch [150/200], Loss: 0.0086\n",
      "Epoch [200/200], Loss: 0.0072\n",
      "\n",
      "Training model for Africa Eastern and Southern\n"
     ]
    },
    {
     "name": "stderr",
     "output_type": "stream",
     "text": [
      "/var/folders/31/w2zt100d46vbd05gsww_hqj00000gn/T/ipykernel_72576/1759004401.py:8: FutureWarning: Series.fillna with 'method' is deprecated and will raise in a future version. Use obj.ffill() or obj.bfill() instead.\n",
      "  country_data = pd.Series(country_data).replace('..', np.nan).fillna(method='ffill').values\n"
     ]
    },
    {
     "name": "stdout",
     "output_type": "stream",
     "text": [
      "Epoch [50/200], Loss: 0.0206\n",
      "Epoch [100/200], Loss: 0.0123\n",
      "Epoch [150/200], Loss: 0.0065\n",
      "Epoch [200/200], Loss: 0.0056\n",
      "\n",
      "Training model for Africa Western and Central\n"
     ]
    },
    {
     "name": "stderr",
     "output_type": "stream",
     "text": [
      "/var/folders/31/w2zt100d46vbd05gsww_hqj00000gn/T/ipykernel_72576/1759004401.py:8: FutureWarning: Series.fillna with 'method' is deprecated and will raise in a future version. Use obj.ffill() or obj.bfill() instead.\n",
      "  country_data = pd.Series(country_data).replace('..', np.nan).fillna(method='ffill').values\n"
     ]
    },
    {
     "name": "stdout",
     "output_type": "stream",
     "text": [
      "Epoch [50/200], Loss: 0.0110\n",
      "Epoch [100/200], Loss: 0.0058\n",
      "Epoch [150/200], Loss: 0.0046\n",
      "Epoch [200/200], Loss: 0.0034\n",
      "\n",
      "Training model for Arab World\n"
     ]
    },
    {
     "name": "stderr",
     "output_type": "stream",
     "text": [
      "/var/folders/31/w2zt100d46vbd05gsww_hqj00000gn/T/ipykernel_72576/1759004401.py:8: FutureWarning: Series.fillna with 'method' is deprecated and will raise in a future version. Use obj.ffill() or obj.bfill() instead.\n",
      "  country_data = pd.Series(country_data).replace('..', np.nan).fillna(method='ffill').values\n"
     ]
    },
    {
     "name": "stdout",
     "output_type": "stream",
     "text": [
      "Epoch [50/200], Loss: 0.0100\n",
      "Epoch [100/200], Loss: 0.0050\n",
      "Epoch [150/200], Loss: 0.0043\n",
      "Epoch [200/200], Loss: 0.0041\n",
      "\n",
      "Training model for Caribbean small states\n"
     ]
    },
    {
     "name": "stderr",
     "output_type": "stream",
     "text": [
      "/var/folders/31/w2zt100d46vbd05gsww_hqj00000gn/T/ipykernel_72576/1759004401.py:8: FutureWarning: Series.fillna with 'method' is deprecated and will raise in a future version. Use obj.ffill() or obj.bfill() instead.\n",
      "  country_data = pd.Series(country_data).replace('..', np.nan).fillna(method='ffill').values\n"
     ]
    },
    {
     "name": "stdout",
     "output_type": "stream",
     "text": [
      "Epoch [50/200], Loss: 0.0198\n",
      "Epoch [100/200], Loss: 0.0143\n",
      "Epoch [150/200], Loss: 0.0139\n",
      "Epoch [200/200], Loss: 0.0141\n",
      "\n",
      "Training model for Central Europe and the Baltics\n"
     ]
    },
    {
     "name": "stderr",
     "output_type": "stream",
     "text": [
      "/var/folders/31/w2zt100d46vbd05gsww_hqj00000gn/T/ipykernel_72576/1759004401.py:8: FutureWarning: Series.fillna with 'method' is deprecated and will raise in a future version. Use obj.ffill() or obj.bfill() instead.\n",
      "  country_data = pd.Series(country_data).replace('..', np.nan).fillna(method='ffill').values\n"
     ]
    },
    {
     "name": "stdout",
     "output_type": "stream",
     "text": [
      "Epoch [50/200], Loss: 0.0026\n",
      "Epoch [100/200], Loss: 0.0022\n",
      "Epoch [150/200], Loss: 0.0024\n",
      "Epoch [200/200], Loss: 0.0019\n",
      "\n",
      "Training model for Early-demographic dividend\n"
     ]
    },
    {
     "name": "stderr",
     "output_type": "stream",
     "text": [
      "/var/folders/31/w2zt100d46vbd05gsww_hqj00000gn/T/ipykernel_72576/1759004401.py:8: FutureWarning: Series.fillna with 'method' is deprecated and will raise in a future version. Use obj.ffill() or obj.bfill() instead.\n",
      "  country_data = pd.Series(country_data).replace('..', np.nan).fillna(method='ffill').values\n"
     ]
    },
    {
     "name": "stdout",
     "output_type": "stream",
     "text": [
      "Epoch [50/200], Loss: 0.0025\n",
      "Epoch [100/200], Loss: 0.0014\n",
      "Epoch [150/200], Loss: 0.0016\n",
      "Epoch [200/200], Loss: 0.0014\n",
      "\n",
      "Training model for East Asia & Pacific\n"
     ]
    },
    {
     "name": "stderr",
     "output_type": "stream",
     "text": [
      "/var/folders/31/w2zt100d46vbd05gsww_hqj00000gn/T/ipykernel_72576/1759004401.py:8: FutureWarning: Series.fillna with 'method' is deprecated and will raise in a future version. Use obj.ffill() or obj.bfill() instead.\n",
      "  country_data = pd.Series(country_data).replace('..', np.nan).fillna(method='ffill').values\n"
     ]
    },
    {
     "name": "stdout",
     "output_type": "stream",
     "text": [
      "Epoch [50/200], Loss: 0.0013\n",
      "Epoch [100/200], Loss: 0.0004\n",
      "Epoch [150/200], Loss: 0.0003\n",
      "Epoch [200/200], Loss: 0.0003\n",
      "\n",
      "Training model for East Asia & Pacific (excluding high income)\n"
     ]
    },
    {
     "name": "stderr",
     "output_type": "stream",
     "text": [
      "/var/folders/31/w2zt100d46vbd05gsww_hqj00000gn/T/ipykernel_72576/1759004401.py:8: FutureWarning: Series.fillna with 'method' is deprecated and will raise in a future version. Use obj.ffill() or obj.bfill() instead.\n",
      "  country_data = pd.Series(country_data).replace('..', np.nan).fillna(method='ffill').values\n"
     ]
    },
    {
     "name": "stdout",
     "output_type": "stream",
     "text": [
      "Epoch [50/200], Loss: 0.0013\n",
      "Epoch [100/200], Loss: 0.0003\n",
      "Epoch [150/200], Loss: 0.0003\n",
      "Epoch [200/200], Loss: 0.0002\n",
      "\n",
      "Training model for East Asia & Pacific (IDA & IBRD countries)\n"
     ]
    },
    {
     "name": "stderr",
     "output_type": "stream",
     "text": [
      "/var/folders/31/w2zt100d46vbd05gsww_hqj00000gn/T/ipykernel_72576/1759004401.py:8: FutureWarning: Series.fillna with 'method' is deprecated and will raise in a future version. Use obj.ffill() or obj.bfill() instead.\n",
      "  country_data = pd.Series(country_data).replace('..', np.nan).fillna(method='ffill').values\n"
     ]
    },
    {
     "name": "stdout",
     "output_type": "stream",
     "text": [
      "Epoch [50/200], Loss: 0.0010\n",
      "Epoch [100/200], Loss: 0.0002\n",
      "Epoch [150/200], Loss: 0.0002\n",
      "Epoch [200/200], Loss: 0.0002\n",
      "\n",
      "Training model for Euro area\n",
      "Epoch [50/200], Loss: 0.0055\n"
     ]
    },
    {
     "name": "stderr",
     "output_type": "stream",
     "text": [
      "/var/folders/31/w2zt100d46vbd05gsww_hqj00000gn/T/ipykernel_72576/1759004401.py:8: FutureWarning: Series.fillna with 'method' is deprecated and will raise in a future version. Use obj.ffill() or obj.bfill() instead.\n",
      "  country_data = pd.Series(country_data).replace('..', np.nan).fillna(method='ffill').values\n"
     ]
    },
    {
     "name": "stdout",
     "output_type": "stream",
     "text": [
      "Epoch [100/200], Loss: 0.0064\n",
      "Epoch [150/200], Loss: 0.0055\n",
      "Epoch [200/200], Loss: 0.0053\n",
      "\n",
      "Training model for Europe & Central Asia\n",
      "Epoch [50/200], Loss: 0.0047\n"
     ]
    },
    {
     "name": "stderr",
     "output_type": "stream",
     "text": [
      "/var/folders/31/w2zt100d46vbd05gsww_hqj00000gn/T/ipykernel_72576/1759004401.py:8: FutureWarning: Series.fillna with 'method' is deprecated and will raise in a future version. Use obj.ffill() or obj.bfill() instead.\n",
      "  country_data = pd.Series(country_data).replace('..', np.nan).fillna(method='ffill').values\n"
     ]
    },
    {
     "name": "stdout",
     "output_type": "stream",
     "text": [
      "Epoch [100/200], Loss: 0.0040\n",
      "Epoch [150/200], Loss: 0.0038\n",
      "Epoch [200/200], Loss: 0.0036\n",
      "\n",
      "Training model for Europe & Central Asia (excluding high income)\n",
      "Epoch [50/200], Loss: 0.0044\n"
     ]
    },
    {
     "name": "stderr",
     "output_type": "stream",
     "text": [
      "/var/folders/31/w2zt100d46vbd05gsww_hqj00000gn/T/ipykernel_72576/1759004401.py:8: FutureWarning: Series.fillna with 'method' is deprecated and will raise in a future version. Use obj.ffill() or obj.bfill() instead.\n",
      "  country_data = pd.Series(country_data).replace('..', np.nan).fillna(method='ffill').values\n"
     ]
    },
    {
     "name": "stdout",
     "output_type": "stream",
     "text": [
      "Epoch [100/200], Loss: 0.0032\n",
      "Epoch [150/200], Loss: 0.0029\n",
      "Epoch [200/200], Loss: 0.0026\n",
      "\n",
      "Training model for Europe & Central Asia (IDA & IBRD countries)\n",
      "Epoch [50/200], Loss: 0.0070\n"
     ]
    },
    {
     "name": "stderr",
     "output_type": "stream",
     "text": [
      "/var/folders/31/w2zt100d46vbd05gsww_hqj00000gn/T/ipykernel_72576/1759004401.py:8: FutureWarning: Series.fillna with 'method' is deprecated and will raise in a future version. Use obj.ffill() or obj.bfill() instead.\n",
      "  country_data = pd.Series(country_data).replace('..', np.nan).fillna(method='ffill').values\n"
     ]
    },
    {
     "name": "stdout",
     "output_type": "stream",
     "text": [
      "Epoch [100/200], Loss: 0.0063\n",
      "Epoch [150/200], Loss: 0.0045\n",
      "Epoch [200/200], Loss: 0.0031\n",
      "\n",
      "Training model for European Union\n",
      "Epoch [50/200], Loss: 0.0042\n"
     ]
    },
    {
     "name": "stderr",
     "output_type": "stream",
     "text": [
      "/var/folders/31/w2zt100d46vbd05gsww_hqj00000gn/T/ipykernel_72576/1759004401.py:8: FutureWarning: Series.fillna with 'method' is deprecated and will raise in a future version. Use obj.ffill() or obj.bfill() instead.\n",
      "  country_data = pd.Series(country_data).replace('..', np.nan).fillna(method='ffill').values\n"
     ]
    },
    {
     "name": "stdout",
     "output_type": "stream",
     "text": [
      "Epoch [100/200], Loss: 0.0039\n",
      "Epoch [150/200], Loss: 0.0039\n",
      "Epoch [200/200], Loss: 0.0037\n",
      "\n",
      "Training model for Fragile and conflict affected situations\n",
      "Epoch [50/200], Loss: 0.0250\n"
     ]
    },
    {
     "name": "stderr",
     "output_type": "stream",
     "text": [
      "/var/folders/31/w2zt100d46vbd05gsww_hqj00000gn/T/ipykernel_72576/1759004401.py:8: FutureWarning: Series.fillna with 'method' is deprecated and will raise in a future version. Use obj.ffill() or obj.bfill() instead.\n",
      "  country_data = pd.Series(country_data).replace('..', np.nan).fillna(method='ffill').values\n"
     ]
    },
    {
     "name": "stdout",
     "output_type": "stream",
     "text": [
      "Epoch [100/200], Loss: 0.0088\n",
      "Epoch [150/200], Loss: 0.0065\n",
      "Epoch [200/200], Loss: 0.0050\n",
      "\n",
      "Training model for Heavily indebted poor countries (HIPC)\n",
      "Epoch [50/200], Loss: 0.0042\n"
     ]
    },
    {
     "name": "stderr",
     "output_type": "stream",
     "text": [
      "/var/folders/31/w2zt100d46vbd05gsww_hqj00000gn/T/ipykernel_72576/1759004401.py:8: FutureWarning: Series.fillna with 'method' is deprecated and will raise in a future version. Use obj.ffill() or obj.bfill() instead.\n",
      "  country_data = pd.Series(country_data).replace('..', np.nan).fillna(method='ffill').values\n"
     ]
    },
    {
     "name": "stdout",
     "output_type": "stream",
     "text": [
      "Epoch [100/200], Loss: 0.0024\n",
      "Epoch [150/200], Loss: 0.0022\n",
      "Epoch [200/200], Loss: 0.0022\n",
      "\n",
      "Training model for High income\n",
      "Epoch [50/200], Loss: 0.0030\n"
     ]
    },
    {
     "name": "stderr",
     "output_type": "stream",
     "text": [
      "/var/folders/31/w2zt100d46vbd05gsww_hqj00000gn/T/ipykernel_72576/1759004401.py:8: FutureWarning: Series.fillna with 'method' is deprecated and will raise in a future version. Use obj.ffill() or obj.bfill() instead.\n",
      "  country_data = pd.Series(country_data).replace('..', np.nan).fillna(method='ffill').values\n"
     ]
    },
    {
     "name": "stdout",
     "output_type": "stream",
     "text": [
      "Epoch [100/200], Loss: 0.0028\n",
      "Epoch [150/200], Loss: 0.0025\n",
      "Epoch [200/200], Loss: 0.0025\n",
      "\n",
      "Training model for IBRD only\n",
      "Epoch [50/200], Loss: 0.0015\n"
     ]
    },
    {
     "name": "stderr",
     "output_type": "stream",
     "text": [
      "/var/folders/31/w2zt100d46vbd05gsww_hqj00000gn/T/ipykernel_72576/1759004401.py:8: FutureWarning: Series.fillna with 'method' is deprecated and will raise in a future version. Use obj.ffill() or obj.bfill() instead.\n",
      "  country_data = pd.Series(country_data).replace('..', np.nan).fillna(method='ffill').values\n"
     ]
    },
    {
     "name": "stdout",
     "output_type": "stream",
     "text": [
      "Epoch [100/200], Loss: 0.0007\n",
      "Epoch [150/200], Loss: 0.0006\n",
      "Epoch [200/200], Loss: 0.0004\n",
      "\n",
      "Training model for IDA & IBRD total\n",
      "Epoch [50/200], Loss: 0.0021\n"
     ]
    },
    {
     "name": "stderr",
     "output_type": "stream",
     "text": [
      "/var/folders/31/w2zt100d46vbd05gsww_hqj00000gn/T/ipykernel_72576/1759004401.py:8: FutureWarning: Series.fillna with 'method' is deprecated and will raise in a future version. Use obj.ffill() or obj.bfill() instead.\n",
      "  country_data = pd.Series(country_data).replace('..', np.nan).fillna(method='ffill').values\n"
     ]
    },
    {
     "name": "stdout",
     "output_type": "stream",
     "text": [
      "Epoch [100/200], Loss: 0.0005\n",
      "Epoch [150/200], Loss: 0.0005\n",
      "Epoch [200/200], Loss: 0.0005\n",
      "\n",
      "Training model for IDA blend\n",
      "Epoch [50/200], Loss: 0.0074\n"
     ]
    },
    {
     "name": "stderr",
     "output_type": "stream",
     "text": [
      "/var/folders/31/w2zt100d46vbd05gsww_hqj00000gn/T/ipykernel_72576/1759004401.py:8: FutureWarning: Series.fillna with 'method' is deprecated and will raise in a future version. Use obj.ffill() or obj.bfill() instead.\n",
      "  country_data = pd.Series(country_data).replace('..', np.nan).fillna(method='ffill').values\n"
     ]
    },
    {
     "name": "stdout",
     "output_type": "stream",
     "text": [
      "Epoch [100/200], Loss: 0.0038\n",
      "Epoch [150/200], Loss: 0.0032\n",
      "Epoch [200/200], Loss: 0.0030\n",
      "\n",
      "Training model for IDA only\n",
      "Epoch [50/200], Loss: 0.0031\n"
     ]
    },
    {
     "name": "stderr",
     "output_type": "stream",
     "text": [
      "/var/folders/31/w2zt100d46vbd05gsww_hqj00000gn/T/ipykernel_72576/1759004401.py:8: FutureWarning: Series.fillna with 'method' is deprecated and will raise in a future version. Use obj.ffill() or obj.bfill() instead.\n",
      "  country_data = pd.Series(country_data).replace('..', np.nan).fillna(method='ffill').values\n"
     ]
    },
    {
     "name": "stdout",
     "output_type": "stream",
     "text": [
      "Epoch [100/200], Loss: 0.0011\n",
      "Epoch [150/200], Loss: 0.0011\n",
      "Epoch [200/200], Loss: 0.0008\n",
      "\n",
      "Training model for IDA total\n",
      "Epoch [50/200], Loss: 0.0043\n"
     ]
    },
    {
     "name": "stderr",
     "output_type": "stream",
     "text": [
      "/var/folders/31/w2zt100d46vbd05gsww_hqj00000gn/T/ipykernel_72576/1759004401.py:8: FutureWarning: Series.fillna with 'method' is deprecated and will raise in a future version. Use obj.ffill() or obj.bfill() instead.\n",
      "  country_data = pd.Series(country_data).replace('..', np.nan).fillna(method='ffill').values\n"
     ]
    },
    {
     "name": "stdout",
     "output_type": "stream",
     "text": [
      "Epoch [100/200], Loss: 0.0015\n",
      "Epoch [150/200], Loss: 0.0014\n",
      "Epoch [200/200], Loss: 0.0009\n",
      "\n",
      "Training model for Late-demographic dividend\n",
      "Epoch [50/200], Loss: 0.0015\n"
     ]
    },
    {
     "name": "stderr",
     "output_type": "stream",
     "text": [
      "/var/folders/31/w2zt100d46vbd05gsww_hqj00000gn/T/ipykernel_72576/1759004401.py:8: FutureWarning: Series.fillna with 'method' is deprecated and will raise in a future version. Use obj.ffill() or obj.bfill() instead.\n",
      "  country_data = pd.Series(country_data).replace('..', np.nan).fillna(method='ffill').values\n"
     ]
    },
    {
     "name": "stdout",
     "output_type": "stream",
     "text": [
      "Epoch [100/200], Loss: 0.0005\n",
      "Epoch [150/200], Loss: 0.0004\n",
      "Epoch [200/200], Loss: 0.0004\n",
      "\n",
      "Training model for Latin America & Caribbean\n",
      "Epoch [50/200], Loss: 0.0096\n"
     ]
    },
    {
     "name": "stderr",
     "output_type": "stream",
     "text": [
      "/var/folders/31/w2zt100d46vbd05gsww_hqj00000gn/T/ipykernel_72576/1759004401.py:8: FutureWarning: Series.fillna with 'method' is deprecated and will raise in a future version. Use obj.ffill() or obj.bfill() instead.\n",
      "  country_data = pd.Series(country_data).replace('..', np.nan).fillna(method='ffill').values\n"
     ]
    },
    {
     "name": "stdout",
     "output_type": "stream",
     "text": [
      "Epoch [100/200], Loss: 0.0060\n",
      "Epoch [150/200], Loss: 0.0056\n",
      "Epoch [200/200], Loss: 0.0057\n",
      "\n",
      "Training model for Latin America & Caribbean (excluding high income)\n",
      "Epoch [50/200], Loss: 0.0118\n"
     ]
    },
    {
     "name": "stderr",
     "output_type": "stream",
     "text": [
      "/var/folders/31/w2zt100d46vbd05gsww_hqj00000gn/T/ipykernel_72576/1759004401.py:8: FutureWarning: Series.fillna with 'method' is deprecated and will raise in a future version. Use obj.ffill() or obj.bfill() instead.\n",
      "  country_data = pd.Series(country_data).replace('..', np.nan).fillna(method='ffill').values\n"
     ]
    },
    {
     "name": "stdout",
     "output_type": "stream",
     "text": [
      "Epoch [100/200], Loss: 0.0078\n",
      "Epoch [150/200], Loss: 0.0067\n",
      "Epoch [200/200], Loss: 0.0065\n",
      "\n",
      "Training model for Latin America & the Caribbean (IDA & IBRD countries)\n",
      "Epoch [50/200], Loss: 0.0100\n"
     ]
    },
    {
     "name": "stderr",
     "output_type": "stream",
     "text": [
      "/var/folders/31/w2zt100d46vbd05gsww_hqj00000gn/T/ipykernel_72576/1759004401.py:8: FutureWarning: Series.fillna with 'method' is deprecated and will raise in a future version. Use obj.ffill() or obj.bfill() instead.\n",
      "  country_data = pd.Series(country_data).replace('..', np.nan).fillna(method='ffill').values\n"
     ]
    },
    {
     "name": "stdout",
     "output_type": "stream",
     "text": [
      "Epoch [100/200], Loss: 0.0077\n",
      "Epoch [150/200], Loss: 0.0071\n",
      "Epoch [200/200], Loss: 0.0061\n",
      "\n",
      "Training model for Least developed countries: UN classification\n",
      "Epoch [50/200], Loss: 0.0028\n"
     ]
    },
    {
     "name": "stderr",
     "output_type": "stream",
     "text": [
      "/var/folders/31/w2zt100d46vbd05gsww_hqj00000gn/T/ipykernel_72576/1759004401.py:8: FutureWarning: Series.fillna with 'method' is deprecated and will raise in a future version. Use obj.ffill() or obj.bfill() instead.\n",
      "  country_data = pd.Series(country_data).replace('..', np.nan).fillna(method='ffill').values\n"
     ]
    },
    {
     "name": "stdout",
     "output_type": "stream",
     "text": [
      "Epoch [100/200], Loss: 0.0011\n",
      "Epoch [150/200], Loss: 0.0010\n",
      "Epoch [200/200], Loss: 0.0010\n",
      "\n",
      "Training model for Low & middle income\n",
      "Epoch [50/200], Loss: 0.0019\n"
     ]
    },
    {
     "name": "stderr",
     "output_type": "stream",
     "text": [
      "/var/folders/31/w2zt100d46vbd05gsww_hqj00000gn/T/ipykernel_72576/1759004401.py:8: FutureWarning: Series.fillna with 'method' is deprecated and will raise in a future version. Use obj.ffill() or obj.bfill() instead.\n",
      "  country_data = pd.Series(country_data).replace('..', np.nan).fillna(method='ffill').values\n"
     ]
    },
    {
     "name": "stdout",
     "output_type": "stream",
     "text": [
      "Epoch [100/200], Loss: 0.0006\n",
      "Epoch [150/200], Loss: 0.0006\n",
      "Epoch [200/200], Loss: 0.0005\n",
      "\n",
      "Training model for Low income\n",
      "Epoch [50/200], Loss: 0.0128\n"
     ]
    },
    {
     "name": "stderr",
     "output_type": "stream",
     "text": [
      "/var/folders/31/w2zt100d46vbd05gsww_hqj00000gn/T/ipykernel_72576/1759004401.py:8: FutureWarning: Series.fillna with 'method' is deprecated and will raise in a future version. Use obj.ffill() or obj.bfill() instead.\n",
      "  country_data = pd.Series(country_data).replace('..', np.nan).fillna(method='ffill').values\n"
     ]
    },
    {
     "name": "stdout",
     "output_type": "stream",
     "text": [
      "Epoch [100/200], Loss: 0.0073\n",
      "Epoch [150/200], Loss: 0.0045\n",
      "Epoch [200/200], Loss: 0.0030\n",
      "\n",
      "Training model for Lower middle income\n"
     ]
    },
    {
     "name": "stderr",
     "output_type": "stream",
     "text": [
      "/var/folders/31/w2zt100d46vbd05gsww_hqj00000gn/T/ipykernel_72576/1759004401.py:8: FutureWarning: Series.fillna with 'method' is deprecated and will raise in a future version. Use obj.ffill() or obj.bfill() instead.\n",
      "  country_data = pd.Series(country_data).replace('..', np.nan).fillna(method='ffill').values\n"
     ]
    },
    {
     "name": "stdout",
     "output_type": "stream",
     "text": [
      "Epoch [50/200], Loss: 0.0014\n",
      "Epoch [100/200], Loss: 0.0007\n",
      "Epoch [150/200], Loss: 0.0007\n",
      "Epoch [200/200], Loss: 0.0007\n",
      "\n",
      "Training model for Middle East & North Africa\n"
     ]
    },
    {
     "name": "stderr",
     "output_type": "stream",
     "text": [
      "/var/folders/31/w2zt100d46vbd05gsww_hqj00000gn/T/ipykernel_72576/1759004401.py:8: FutureWarning: Series.fillna with 'method' is deprecated and will raise in a future version. Use obj.ffill() or obj.bfill() instead.\n",
      "  country_data = pd.Series(country_data).replace('..', np.nan).fillna(method='ffill').values\n"
     ]
    },
    {
     "name": "stdout",
     "output_type": "stream",
     "text": [
      "Epoch [50/200], Loss: 0.0045\n",
      "Epoch [100/200], Loss: 0.0019\n",
      "Epoch [150/200], Loss: 0.0021\n",
      "Epoch [200/200], Loss: 0.0019\n",
      "\n",
      "Training model for Middle East & North Africa (excluding high income)\n"
     ]
    },
    {
     "name": "stderr",
     "output_type": "stream",
     "text": [
      "/var/folders/31/w2zt100d46vbd05gsww_hqj00000gn/T/ipykernel_72576/1759004401.py:8: FutureWarning: Series.fillna with 'method' is deprecated and will raise in a future version. Use obj.ffill() or obj.bfill() instead.\n",
      "  country_data = pd.Series(country_data).replace('..', np.nan).fillna(method='ffill').values\n"
     ]
    },
    {
     "name": "stdout",
     "output_type": "stream",
     "text": [
      "Epoch [50/200], Loss: 0.0080\n",
      "Epoch [100/200], Loss: 0.0039\n",
      "Epoch [150/200], Loss: 0.0033\n",
      "Epoch [200/200], Loss: 0.0035\n",
      "\n",
      "Training model for Middle East & North Africa (IDA & IBRD countries)\n",
      "Epoch [50/200], Loss: 0.0071\n"
     ]
    },
    {
     "name": "stderr",
     "output_type": "stream",
     "text": [
      "/var/folders/31/w2zt100d46vbd05gsww_hqj00000gn/T/ipykernel_72576/1759004401.py:8: FutureWarning: Series.fillna with 'method' is deprecated and will raise in a future version. Use obj.ffill() or obj.bfill() instead.\n",
      "  country_data = pd.Series(country_data).replace('..', np.nan).fillna(method='ffill').values\n"
     ]
    },
    {
     "name": "stdout",
     "output_type": "stream",
     "text": [
      "Epoch [100/200], Loss: 0.0038\n",
      "Epoch [150/200], Loss: 0.0035\n",
      "Epoch [200/200], Loss: 0.0035\n",
      "\n",
      "Training model for Middle income\n"
     ]
    },
    {
     "name": "stderr",
     "output_type": "stream",
     "text": [
      "/var/folders/31/w2zt100d46vbd05gsww_hqj00000gn/T/ipykernel_72576/1759004401.py:8: FutureWarning: Series.fillna with 'method' is deprecated and will raise in a future version. Use obj.ffill() or obj.bfill() instead.\n",
      "  country_data = pd.Series(country_data).replace('..', np.nan).fillna(method='ffill').values\n"
     ]
    },
    {
     "name": "stdout",
     "output_type": "stream",
     "text": [
      "Epoch [50/200], Loss: 0.0009\n",
      "Epoch [100/200], Loss: 0.0005\n",
      "Epoch [150/200], Loss: 0.0005\n",
      "Epoch [200/200], Loss: 0.0004\n",
      "\n",
      "Training model for North America\n"
     ]
    },
    {
     "name": "stderr",
     "output_type": "stream",
     "text": [
      "/var/folders/31/w2zt100d46vbd05gsww_hqj00000gn/T/ipykernel_72576/1759004401.py:8: FutureWarning: Series.fillna with 'method' is deprecated and will raise in a future version. Use obj.ffill() or obj.bfill() instead.\n",
      "  country_data = pd.Series(country_data).replace('..', np.nan).fillna(method='ffill').values\n"
     ]
    },
    {
     "name": "stdout",
     "output_type": "stream",
     "text": [
      "Epoch [50/200], Loss: 0.0029\n",
      "Epoch [100/200], Loss: 0.0029\n",
      "Epoch [150/200], Loss: 0.0025\n",
      "Epoch [200/200], Loss: 0.0026\n",
      "\n",
      "Training model for Not classified\n"
     ]
    },
    {
     "name": "stderr",
     "output_type": "stream",
     "text": [
      "/var/folders/31/w2zt100d46vbd05gsww_hqj00000gn/T/ipykernel_72576/1759004401.py:8: FutureWarning: Series.fillna with 'method' is deprecated and will raise in a future version. Use obj.ffill() or obj.bfill() instead.\n",
      "  country_data = pd.Series(country_data).replace('..', np.nan).fillna(method='ffill').values\n"
     ]
    },
    {
     "name": "stdout",
     "output_type": "stream",
     "text": [
      "Epoch [50/200], Loss: 0.0027\n",
      "Epoch [100/200], Loss: 0.0032\n",
      "Epoch [150/200], Loss: 0.0031\n",
      "Epoch [200/200], Loss: 0.0024\n",
      "\n",
      "Training model for OECD members\n"
     ]
    },
    {
     "name": "stderr",
     "output_type": "stream",
     "text": [
      "/var/folders/31/w2zt100d46vbd05gsww_hqj00000gn/T/ipykernel_72576/1759004401.py:8: FutureWarning: Series.fillna with 'method' is deprecated and will raise in a future version. Use obj.ffill() or obj.bfill() instead.\n",
      "  country_data = pd.Series(country_data).replace('..', np.nan).fillna(method='ffill').values\n"
     ]
    },
    {
     "name": "stdout",
     "output_type": "stream",
     "text": [
      "Epoch [50/200], Loss: 0.0035\n",
      "Epoch [100/200], Loss: 0.0038\n",
      "Epoch [150/200], Loss: 0.0033\n",
      "Epoch [200/200], Loss: 0.0027\n",
      "\n",
      "Training model for Other small states\n"
     ]
    },
    {
     "name": "stderr",
     "output_type": "stream",
     "text": [
      "/var/folders/31/w2zt100d46vbd05gsww_hqj00000gn/T/ipykernel_72576/1759004401.py:8: FutureWarning: Series.fillna with 'method' is deprecated and will raise in a future version. Use obj.ffill() or obj.bfill() instead.\n",
      "  country_data = pd.Series(country_data).replace('..', np.nan).fillna(method='ffill').values\n"
     ]
    },
    {
     "name": "stdout",
     "output_type": "stream",
     "text": [
      "Epoch [50/200], Loss: 0.0043\n",
      "Epoch [100/200], Loss: 0.0044\n",
      "Epoch [150/200], Loss: 0.0041\n",
      "Epoch [200/200], Loss: 0.0036\n",
      "\n",
      "Training model for Pacific island small states\n"
     ]
    },
    {
     "name": "stderr",
     "output_type": "stream",
     "text": [
      "/var/folders/31/w2zt100d46vbd05gsww_hqj00000gn/T/ipykernel_72576/1759004401.py:8: FutureWarning: Series.fillna with 'method' is deprecated and will raise in a future version. Use obj.ffill() or obj.bfill() instead.\n",
      "  country_data = pd.Series(country_data).replace('..', np.nan).fillna(method='ffill').values\n"
     ]
    },
    {
     "name": "stdout",
     "output_type": "stream",
     "text": [
      "Epoch [50/200], Loss: 0.0207\n",
      "Epoch [100/200], Loss: 0.0216\n",
      "Epoch [150/200], Loss: 0.0164\n",
      "Epoch [200/200], Loss: 0.0099\n",
      "\n",
      "Training model for Post-demographic dividend\n"
     ]
    },
    {
     "name": "stderr",
     "output_type": "stream",
     "text": [
      "/var/folders/31/w2zt100d46vbd05gsww_hqj00000gn/T/ipykernel_72576/1759004401.py:8: FutureWarning: Series.fillna with 'method' is deprecated and will raise in a future version. Use obj.ffill() or obj.bfill() instead.\n",
      "  country_data = pd.Series(country_data).replace('..', np.nan).fillna(method='ffill').values\n"
     ]
    },
    {
     "name": "stdout",
     "output_type": "stream",
     "text": [
      "Epoch [50/200], Loss: 0.0030\n",
      "Epoch [100/200], Loss: 0.0029\n",
      "Epoch [150/200], Loss: 0.0024\n",
      "Epoch [200/200], Loss: 0.0025\n",
      "\n",
      "Training model for Pre-demographic dividend\n"
     ]
    },
    {
     "name": "stderr",
     "output_type": "stream",
     "text": [
      "/var/folders/31/w2zt100d46vbd05gsww_hqj00000gn/T/ipykernel_72576/1759004401.py:8: FutureWarning: Series.fillna with 'method' is deprecated and will raise in a future version. Use obj.ffill() or obj.bfill() instead.\n",
      "  country_data = pd.Series(country_data).replace('..', np.nan).fillna(method='ffill').values\n"
     ]
    },
    {
     "name": "stdout",
     "output_type": "stream",
     "text": [
      "Epoch [50/200], Loss: 0.0107\n",
      "Epoch [100/200], Loss: 0.0059\n",
      "Epoch [150/200], Loss: 0.0044\n",
      "Epoch [200/200], Loss: 0.0026\n",
      "\n",
      "Training model for Small states\n"
     ]
    },
    {
     "name": "stderr",
     "output_type": "stream",
     "text": [
      "/var/folders/31/w2zt100d46vbd05gsww_hqj00000gn/T/ipykernel_72576/1759004401.py:8: FutureWarning: Series.fillna with 'method' is deprecated and will raise in a future version. Use obj.ffill() or obj.bfill() instead.\n",
      "  country_data = pd.Series(country_data).replace('..', np.nan).fillna(method='ffill').values\n"
     ]
    },
    {
     "name": "stdout",
     "output_type": "stream",
     "text": [
      "Epoch [50/200], Loss: 0.0050\n",
      "Epoch [100/200], Loss: 0.0043\n",
      "Epoch [150/200], Loss: 0.0041\n",
      "Epoch [200/200], Loss: 0.0042\n",
      "\n",
      "Training model for South Asia\n"
     ]
    },
    {
     "name": "stderr",
     "output_type": "stream",
     "text": [
      "/var/folders/31/w2zt100d46vbd05gsww_hqj00000gn/T/ipykernel_72576/1759004401.py:8: FutureWarning: Series.fillna with 'method' is deprecated and will raise in a future version. Use obj.ffill() or obj.bfill() instead.\n",
      "  country_data = pd.Series(country_data).replace('..', np.nan).fillna(method='ffill').values\n"
     ]
    },
    {
     "name": "stdout",
     "output_type": "stream",
     "text": [
      "Epoch [50/200], Loss: 0.0019\n",
      "Epoch [100/200], Loss: 0.0007\n",
      "Epoch [150/200], Loss: 0.0007\n",
      "Epoch [200/200], Loss: 0.0008\n",
      "\n",
      "Training model for South Asia (IDA & IBRD)\n"
     ]
    },
    {
     "name": "stderr",
     "output_type": "stream",
     "text": [
      "/var/folders/31/w2zt100d46vbd05gsww_hqj00000gn/T/ipykernel_72576/1759004401.py:8: FutureWarning: Series.fillna with 'method' is deprecated and will raise in a future version. Use obj.ffill() or obj.bfill() instead.\n",
      "  country_data = pd.Series(country_data).replace('..', np.nan).fillna(method='ffill').values\n"
     ]
    },
    {
     "name": "stdout",
     "output_type": "stream",
     "text": [
      "Epoch [50/200], Loss: 0.0016\n",
      "Epoch [100/200], Loss: 0.0008\n",
      "Epoch [150/200], Loss: 0.0007\n",
      "Epoch [200/200], Loss: 0.0007\n",
      "\n",
      "Training model for Sub-Saharan Africa\n"
     ]
    },
    {
     "name": "stderr",
     "output_type": "stream",
     "text": [
      "/var/folders/31/w2zt100d46vbd05gsww_hqj00000gn/T/ipykernel_72576/1759004401.py:8: FutureWarning: Series.fillna with 'method' is deprecated and will raise in a future version. Use obj.ffill() or obj.bfill() instead.\n",
      "  country_data = pd.Series(country_data).replace('..', np.nan).fillna(method='ffill').values\n"
     ]
    },
    {
     "name": "stdout",
     "output_type": "stream",
     "text": [
      "Epoch [50/200], Loss: 0.0157\n",
      "Epoch [100/200], Loss: 0.0084\n",
      "Epoch [150/200], Loss: 0.0052\n",
      "Epoch [200/200], Loss: 0.0038\n",
      "\n",
      "Training model for Sub-Saharan Africa (excluding high income)\n",
      "Epoch [50/200], Loss: 0.0148\n"
     ]
    },
    {
     "name": "stderr",
     "output_type": "stream",
     "text": [
      "/var/folders/31/w2zt100d46vbd05gsww_hqj00000gn/T/ipykernel_72576/1759004401.py:8: FutureWarning: Series.fillna with 'method' is deprecated and will raise in a future version. Use obj.ffill() or obj.bfill() instead.\n",
      "  country_data = pd.Series(country_data).replace('..', np.nan).fillna(method='ffill').values\n"
     ]
    },
    {
     "name": "stdout",
     "output_type": "stream",
     "text": [
      "Epoch [100/200], Loss: 0.0078\n",
      "Epoch [150/200], Loss: 0.0074\n",
      "Epoch [200/200], Loss: 0.0040\n",
      "\n",
      "Training model for Sub-Saharan Africa (IDA & IBRD countries)\n",
      "Epoch [50/200], Loss: 0.0141\n"
     ]
    },
    {
     "name": "stderr",
     "output_type": "stream",
     "text": [
      "/var/folders/31/w2zt100d46vbd05gsww_hqj00000gn/T/ipykernel_72576/1759004401.py:8: FutureWarning: Series.fillna with 'method' is deprecated and will raise in a future version. Use obj.ffill() or obj.bfill() instead.\n",
      "  country_data = pd.Series(country_data).replace('..', np.nan).fillna(method='ffill').values\n"
     ]
    },
    {
     "name": "stdout",
     "output_type": "stream",
     "text": [
      "Epoch [100/200], Loss: 0.0079\n",
      "Epoch [150/200], Loss: 0.0046\n",
      "Epoch [200/200], Loss: 0.0031\n",
      "\n",
      "Training model for Upper middle income\n",
      "Epoch [50/200], Loss: 0.0024\n"
     ]
    },
    {
     "name": "stderr",
     "output_type": "stream",
     "text": [
      "/var/folders/31/w2zt100d46vbd05gsww_hqj00000gn/T/ipykernel_72576/1759004401.py:8: FutureWarning: Series.fillna with 'method' is deprecated and will raise in a future version. Use obj.ffill() or obj.bfill() instead.\n",
      "  country_data = pd.Series(country_data).replace('..', np.nan).fillna(method='ffill').values\n"
     ]
    },
    {
     "name": "stdout",
     "output_type": "stream",
     "text": [
      "Epoch [100/200], Loss: 0.0007\n",
      "Epoch [150/200], Loss: 0.0005\n",
      "Epoch [200/200], Loss: 0.0004\n",
      "\n",
      "Training model for World\n"
     ]
    },
    {
     "name": "stderr",
     "output_type": "stream",
     "text": [
      "/var/folders/31/w2zt100d46vbd05gsww_hqj00000gn/T/ipykernel_72576/1759004401.py:8: FutureWarning: Series.fillna with 'method' is deprecated and will raise in a future version. Use obj.ffill() or obj.bfill() instead.\n",
      "  country_data = pd.Series(country_data).replace('..', np.nan).fillna(method='ffill').values\n"
     ]
    },
    {
     "name": "stdout",
     "output_type": "stream",
     "text": [
      "Epoch [50/200], Loss: 0.0210\n",
      "Epoch [100/200], Loss: 0.0027\n",
      "Epoch [150/200], Loss: 0.0007\n",
      "Epoch [200/200], Loss: 0.0006\n",
      "\n",
      "Training model for World\n"
     ]
    },
    {
     "name": "stderr",
     "output_type": "stream",
     "text": [
      "/var/folders/31/w2zt100d46vbd05gsww_hqj00000gn/T/ipykernel_72576/1759004401.py:8: FutureWarning: Series.fillna with 'method' is deprecated and will raise in a future version. Use obj.ffill() or obj.bfill() instead.\n",
      "  country_data = pd.Series(country_data).replace('..', np.nan).fillna(method='ffill').values\n"
     ]
    },
    {
     "name": "stdout",
     "output_type": "stream",
     "text": [
      "Epoch [50/200], Loss: 0.0221\n",
      "Epoch [100/200], Loss: 0.0173\n",
      "Epoch [150/200], Loss: 0.0023\n",
      "Epoch [200/200], Loss: 0.0024\n",
      "\n",
      "Training model for World\n"
     ]
    },
    {
     "name": "stderr",
     "output_type": "stream",
     "text": [
      "/var/folders/31/w2zt100d46vbd05gsww_hqj00000gn/T/ipykernel_72576/1759004401.py:8: FutureWarning: Series.fillna with 'method' is deprecated and will raise in a future version. Use obj.ffill() or obj.bfill() instead.\n",
      "  country_data = pd.Series(country_data).replace('..', np.nan).fillna(method='ffill').values\n"
     ]
    },
    {
     "name": "stdout",
     "output_type": "stream",
     "text": [
      "Epoch [50/200], Loss: 0.0228\n",
      "Epoch [100/200], Loss: 0.0158\n",
      "Epoch [150/200], Loss: 0.0007\n",
      "Epoch [200/200], Loss: 0.0004\n",
      "\n",
      "Training model for World\n"
     ]
    },
    {
     "name": "stderr",
     "output_type": "stream",
     "text": [
      "/var/folders/31/w2zt100d46vbd05gsww_hqj00000gn/T/ipykernel_72576/1759004401.py:8: FutureWarning: Series.fillna with 'method' is deprecated and will raise in a future version. Use obj.ffill() or obj.bfill() instead.\n",
      "  country_data = pd.Series(country_data).replace('..', np.nan).fillna(method='ffill').values\n"
     ]
    },
    {
     "name": "stdout",
     "output_type": "stream",
     "text": [
      "Epoch [50/200], Loss: 0.0228\n",
      "Epoch [100/200], Loss: 0.0197\n",
      "Epoch [150/200], Loss: 0.0023\n",
      "Epoch [200/200], Loss: 0.0008\n",
      "\n",
      "Training model for World\n"
     ]
    },
    {
     "name": "stderr",
     "output_type": "stream",
     "text": [
      "/var/folders/31/w2zt100d46vbd05gsww_hqj00000gn/T/ipykernel_72576/1759004401.py:8: FutureWarning: Series.fillna with 'method' is deprecated and will raise in a future version. Use obj.ffill() or obj.bfill() instead.\n",
      "  country_data = pd.Series(country_data).replace('..', np.nan).fillna(method='ffill').values\n"
     ]
    },
    {
     "name": "stdout",
     "output_type": "stream",
     "text": [
      "Epoch [50/200], Loss: 0.0207\n",
      "Epoch [100/200], Loss: 0.0171\n",
      "Epoch [150/200], Loss: 0.0125\n",
      "Epoch [200/200], Loss: 0.0010\n",
      "\n",
      "Training model for World\n"
     ]
    },
    {
     "name": "stderr",
     "output_type": "stream",
     "text": [
      "/var/folders/31/w2zt100d46vbd05gsww_hqj00000gn/T/ipykernel_72576/1759004401.py:8: FutureWarning: Series.fillna with 'method' is deprecated and will raise in a future version. Use obj.ffill() or obj.bfill() instead.\n",
      "  country_data = pd.Series(country_data).replace('..', np.nan).fillna(method='ffill').values\n"
     ]
    },
    {
     "name": "stdout",
     "output_type": "stream",
     "text": [
      "Epoch [50/200], Loss: 0.0188\n",
      "Epoch [100/200], Loss: 0.0142\n",
      "Epoch [150/200], Loss: 0.0010\n",
      "Epoch [200/200], Loss: 0.0009\n"
     ]
    }
   ],
   "source": [
    "for country in df['entity']:\n",
    "        print(f\"\\nTraining model for {country}\")\n",
    "        \n",
    "        # Get country data\n",
    "        country_data = df[df['entity'] == country][gdp_cols].values.flatten()\n",
    "        \n",
    "        # Handle missing values\n",
    "        country_data = pd.Series(country_data).replace('..', np.nan).fillna(method='ffill').values\n",
    "        country_data = country_data.astype(float)\n",
    "        \n",
    "        # Prepare data\n",
    "        X, y, scaler = prepare_country_data(country_data, sequence_length)\n",
    "        \n",
    "        if len(X) > 0:  # Check if we have enough data\n",
    "            # Train model\n",
    "            model = train_model(X, y)\n",
    "            \n",
    "            # Make predictions\n",
    "            last_sequence = scaler.transform(country_data[-sequence_length:].reshape(-1, 1))\n",
    "            predictions = predict_future(model, last_sequence, scaler)\n",
    "            predictions_by_country[country] = predictions\n",
    "    "
   ]
  },
  {
   "cell_type": "code",
   "execution_count": 12,
   "metadata": {},
   "outputs": [
    {
     "data": {
      "image/png": "[encoded data removed]",
      "text/plain": [
       "<Figure size 1200x600 with 1 Axes>"
      ]
     },
     "metadata": {},
     "output_type": "display_data"
    },
    {
     "name": "stdout",
     "output_type": "stream",
     "text": [
      "\n",
      "Predicted GDP per Capita (2024-2028):\n",
      "\n",
      "United States:\n",
      "2024: $66,805.87\n",
      "2025: $68,280.44\n",
      "2026: $70,643.18\n",
      "2027: $72,456.56\n",
      "2028: $74,383.15\n",
      "\n",
      "China:\n",
      "2024: $12,178.92\n",
      "2025: $12,486.17\n",
      "2026: $12,821.83\n",
      "2027: $13,033.09\n",
      "2028: $13,226.31\n",
      "\n",
      "Japan:\n",
      "2024: $36,450.59\n",
      "2025: $36,566.96\n",
      "2026: $36,939.71\n",
      "2027: $37,141.66\n",
      "2028: $37,276.76\n",
      "\n",
      "Germany:\n",
      "2024: $44,057.29\n",
      "2025: $43,992.59\n",
      "2026: $44,299.99\n",
      "2027: $44,347.79\n",
      "2028: $44,350.38\n",
      "\n",
      "United Kingdom:\n",
      "2024: $45,461.24\n",
      "2025: $45,288.98\n",
      "2026: $45,759.59\n",
      "2027: $45,796.59\n",
      "2028: $45,607.35\n"
     ]
    }
   ],
   "source": [
    "plt.figure(figsize=(12, 6))\n",
    "for country in selected_countries:\n",
    "    if country in predictions_by_country:\n",
    "        plt.plot(range(2024, 2029), predictions_by_country[country], label=country)\n",
    "plt.title('GDP per Capita Predictions (2024-2028)')\n",
    "plt.xlabel('Year')\n",
    "plt.ylabel('GDP per Capita')\n",
    "plt.legend()\n",
    "plt.grid(True)\n",
    "plt.show()\n",
    "    \n",
    "    # Print predictions for selected countries\n",
    "print(\"\\nPredicted GDP per Capita (2024-2028):\")\n",
    "for country in selected_countries:\n",
    "    if country in predictions_by_country:\n",
    "        print(f\"\\n{country}:\")\n",
    "        for year, pred in zip(range(2024, 2029), predictions_by_country[country]):\n",
    "            print(f\"{year}: ${pred:,.2f}\")"
   ]
  },
  {
   "cell_type": "code",
   "execution_count": 13,
   "metadata": {},
   "outputs": [
    {
     "name": "stdout",
     "output_type": "stream",
     "text": [
      "\n",
      "Predictions exported to 'gdp_predictions_2024_2028.csv'\n"
     ]
    }
   ],
   "source": [
    "# Create a DataFrame with predictions\n",
    "predictions_df = pd.DataFrame()\n",
    "predictions_df['Country'] = predictions_by_country.keys()\n",
    "\n",
    "# Add columns for each predicted year\n",
    "for i, year in enumerate(range(2024, 2029)):\n",
    "    predictions_df[str(year)] = predictions_df['Country'].map(lambda x: predictions_by_country[x][i] if x in predictions_by_country else None)\n",
    "\n",
    "# Export to CSV\n",
    "predictions_df.to_csv('gdp_predictions_2024_2028.csv', index=False)\n",
    "print(\"\\nPredictions exported to 'gdp_predictions_2024_2028.csv'\")\n"
   ]
  }
 ],
 "metadata": {
  "kernelspec": {
   "display_name": "Python 3",
   "language": "python",
   "name": "python3"
  },
  "language_info": {
   "codemirror_mode": {
    "name": "ipython",
    "version": 3
   },
   "file_extension": ".py",
   "mimetype": "text/x-python",
   "name": "python",
   "nbconvert_exporter": "python",
   "pygments_lexer": "ipython3",
   "version": "3.12.8"
  }
 },
 "nbformat": 4,
 "nbformat_minor": 2
}
